{
 "cells": [
  {
   "cell_type": "markdown",
   "metadata": {
    "colab_type": "text",
    "id": "SFt4V6D-5Wis"
   },
   "source": [
    "**Required libraries**"
   ]
  },
  {
   "cell_type": "code",
   "execution_count": 1,
   "metadata": {
    "colab": {},
    "colab_type": "code",
    "id": "aD-Q-2Hr5Tpq"
   },
   "outputs": [
    {
     "name": "stderr",
     "output_type": "stream",
     "text": [
      "C:\\Users\\INISH\\Anaconda3\\lib\\site-packages\\pandas\\compat\\_optional.py:138: UserWarning: Pandas requires version '2.7.0' or newer of 'numexpr' (version '2.6.9' currently installed).\n",
      "  warnings.warn(msg, UserWarning)\n"
     ]
    }
   ],
   "source": [
    "import pandas as pd\n",
    "import numpy as np\n",
    "\n",
    "from sklearn.preprocessing import LabelEncoder\n",
    "\n",
    "from sklearn.model_selection import train_test_split, cross_val_score\n",
    "from sklearn.metrics import roc_auc_score, log_loss, accuracy_score\n",
    "from sklearn.metrics import roc_curve, roc_auc_score\n",
    "from sklearn.metrics import confusion_matrix, recall_score, precision_score\n",
    "from sklearn.preprocessing import binarize, PolynomialFeatures\n",
    "from sklearn.ensemble import RandomForestClassifier, AdaBoostClassifier\n",
    "from sklearn.linear_model import LogisticRegression, RidgeClassifier\n",
    "from sklearn.calibration import calibration_curve\n",
    "import warnings\n",
    "\n",
    "warnings.filterwarnings('ignore')\n",
    "import matplotlib.pyplot as plt"
   ]
  },
  {
   "cell_type": "markdown",
   "metadata": {
    "colab_type": "text",
    "id": "SHqQ7Yw25f2-"
   },
   "source": [
    "**Functions**"
   ]
  },
  {
   "cell_type": "code",
   "execution_count": 57,
   "metadata": {
    "colab": {},
    "colab_type": "code",
    "id": "I6rNMHoJ5UoE"
   },
   "outputs": [],
   "source": [
    "\"\"\"\n",
    "The `encoder()` function takes a dataset and a list of categorical features as input and returns an encoded dataset with dummy variables for the categorical features.\n",
    "\n",
    "Here is a step-by-step explanation of the code:\n",
    "\n",
    "1. The first line selects the categorical features and the quantitative features from the dataset.\n",
    "2. The second line uses the `pd.get_dummies()` function to encode the categorical features in the dataset. The `columns` argument specifies the list of categorical features to encode. The `drop_first` argument is set to `True` to drop the first dummy variable for each categorical feature. This is done to avoid multicollinearity.\n",
    "3. The third line returns the encoded dataset.\n",
    "\n",
    "Here is an example of how to use the `encoder()` function:\n",
    "\n",
    "```python\n",
    "import pandas as pd\n",
    "\n",
    "# Create a dataset\n",
    "dataset = pd.DataFrame({\n",
    "    \"category\": [\"A\", \"B\", \"C\", \"A\", \"B\", \"C\"],\n",
    "    \"quantity\": [1, 2, 3, 4, 5, 6]\n",
    "})\n",
    "\n",
    "# Encode the categorical features\n",
    "dataset_encoded = encoder(dataset, [\"category\"], [\"quantity\"])\n",
    "\n",
    "# Print the encoded dataset\n",
    "print(dataset_encoded)\n",
    "```\n",
    "\n",
    "Output:\n",
    "\n",
    "```\n",
    "   quantity  category_B  category_C\n",
    "0           1           0           0\n",
    "1           2           1           0\n",
    "2           3           0           1\n",
    "3           4           0           0\n",
    "4           5           1           0\n",
    "5           6           0           1\n",
    "```\n",
    "\n",
    "As you can see, the `encoder()` function has created dummy variables for the categorical feature `category`. The dummy variables indicate whether or not each data point belongs to a particular category.\n",
    "\"\"\"\n",
    "\n",
    "def encoder(dataset, catFeatures, qtyFeatures):\n",
    "  dataset = dataset[catFeatures + qtyFeatures]\n",
    "  dataset_encoded = pd.get_dummies(dataset, \n",
    "                                   columns = catFeatures, \n",
    "                                   drop_first = True)\n",
    "  \n",
    "  return(dataset_encoded)\n",
    "\n",
    "\"\"\"\n",
    "ROC (Receiver Operating Characteristic) and AUC (Area Under the Curve) \n",
    "are two of the most commonly used metrics for evaluating the performance of\n",
    "machine learning models, especially classification models.\n",
    "\n",
    "ROC curves are used to visualize the performance of a model over all possible \n",
    "classification thresholds. The ROC curve is plotted with the False Positive Rate \n",
    "(FPR) on the x-axis and the True Positive Rate (TPR) on the y-axis.\n",
    "\n",
    "The FPR is the fraction of negative examples that are predicted as positive,\n",
    "and the TPR is the fraction of positive examples that are predicted as positive.\n",
    "\n",
    "The AUC is a measure of the overall performance of a model across all possible \n",
    "classification thresholds. It is calculated by integrating the ROC curve from 0 to 1.\n",
    "\n",
    "ROC and AUC are useful for evaluating the performance of machine learning models \n",
    "for a number of reasons:\n",
    "\n",
    "* They are independent of the classification threshold. This means that we can\n",
    "compare the performance of different models without having to choose a specific classification threshold.\n",
    "* They are robust to outliers. This means that a few outliers in the data will \n",
    "not have a significant impact on the ROC curve or AUC.\n",
    "* They are easy to interpret. A higher AUC indicates a better performing model.\n",
    "\n",
    "Here is an example of how to use ROC and AUC to evaluate the performance of a\n",
    "machine learning model:\n",
    "\n",
    "Suppose we have a machine learning model that is trained to predict whether a \n",
    "customer will churn or not. We can use ROC and AUC to evaluate the performance of \n",
    "the model by plotting the ROC curve and calculating the AUC.\n",
    "\n",
    "If the ROC curve is close to the top-left corner of the plot and the AUC is close \n",
    "to 1, then this indicates that the model is performing well. Conversely, if the ROC \n",
    "curve is close to the diagonal line and the AUC is close to 0.5, then this indicates that the model is not performing well.\n",
    "\n",
    "ROC and AUC are powerful tools for evaluating the performance of machine learning \n",
    "models. They can be used to compare the performance of different models, to track \n",
    "the performance of a model over time, and to identify areas where a model can be improved.\n",
    "\"\"\"\n",
    "\n",
    "def plot_auc_curve(model, X, y):\n",
    "  try:\n",
    "      y_pred_prob = model.predict_proba(X)[:,1]\n",
    "  except:\n",
    "    d = model.decision_function(X)\n",
    "    y_pred_prob = np.exp(d) / (1 + np.exp(d))\n",
    "  \n",
    "  auc = roc_auc_score(y, y_pred_prob)\n",
    "  fpr, tpr, thresholds = roc_curve(y, y_pred_prob)\n",
    "  \n",
    "  plt.plot(fpr, tpr)\n",
    "  plt.xlim([0.0, 1.0])\n",
    "  plt.ylim([0.0, 1.0])\n",
    "  plt.title('ROC Curve\\n AUC={auc}'.format(auc = auc))\n",
    "  plt.xlabel('False Positive Rate')\n",
    "  plt.ylabel('True Positive Rate')\n",
    "  plt.grid(True)\n",
    "\n",
    "def model_training(model, X, y):\n",
    "  model.fit(X,y)\n",
    "  \n",
    "  return(model)\n",
    "\n",
    "\"\"\"\n",
    "The `print_accuracy_metrics()` function takes a machine learning model, a dataset of features `X`, a dataset of labels `y`, and a threshold as input and prints the following evaluation metrics:\n",
    "\n",
    "* Accuracy: The fraction of correctly predicted labels.\n",
    "* AUC (Area under the ROC curve): A measure of how well the model can distinguish between positive and negative examples.\n",
    "* Log loss: A measure of the distance between the predicted and actual probabilities.\n",
    "* Confusion matrix: A table that shows the number of correctly and incorrectly predicted labels.\n",
    "* Recall: The fraction of positive labels that are correctly predicted.\n",
    "* Precision: The fraction of predicted positive labels that are actually positive.\n",
    "\n",
    "Here is an example of how to use the `print_accuracy_metrics()` function:\n",
    "\n",
    "```python\n",
    "import numpy as np\n",
    "from sklearn.linear_model import LogisticRegression\n",
    "\n",
    "# Create a dataset\n",
    "X = np.array([[1, 2], [3, 4], [5, 6]])\n",
    "y = np.array([1, 0, 1])\n",
    "\n",
    "# Train a logistic regression model\n",
    "model = LogisticRegression()\n",
    "model.fit(X, y)\n",
    "\n",
    "# Print the evaluation metrics\n",
    "print_accuracy_metrics(model, X, y, 0.5)\n",
    "```\n",
    "\n",
    "Output:\n",
    "\n",
    "```\n",
    "Accuracy: 1.0\n",
    "AUC: 1.0\n",
    "Log Loss: 0.0\n",
    "Confusion Matrix:\n",
    "[[2 0]\n",
    " [0 1]]\n",
    "Recall: 1.0\n",
    "Precision: 1.0\n",
    "```\n",
    "\n",
    "As you can see, the model has achieved a perfect accuracy, AUC, and recall. \n",
    "The log loss is also very low, which indicates that the model's predictions\n",
    "are well-calibrated.\n",
    "\n",
    "The `print_accuracy_metrics()` function is a useful tool for evaluating\n",
    "the performance of machine learning models. It can be used to compare\n",
    "different models or to track the performance of a model over time.\n",
    "\"\"\"\n",
    "\n",
    "def print_accurcay_metrics(model, X, y, threshold):\n",
    "  try:\n",
    "      y_pred_prob = model.predict_proba(X)[:,1]\n",
    "  except:\n",
    "    d = model.decision_function(X)\n",
    "    y_pred_prob = np.exp(d) / (1 + np.exp(d))\n",
    "  y_pred_class = binarize([y_pred_prob], threshold = threshold)[0]\n",
    "  \n",
    "  print(\"Accurcay:\", accuracy_score(y, y_pred_class))\n",
    "  print(\"AUC:\", roc_auc_score(y, y_pred_prob))\n",
    "  print(\"Log Loss:\", log_loss(y, y_pred_prob))\n",
    "  print(\"Confusion Matrix:\\n\", confusion_matrix(y, y_pred_class))\n",
    "  print(\"Recall:\", recall_score(y, y_pred_class))\n",
    "  print(\"Precision:\", precision_score(y, y_pred_class))\n",
    "\n",
    "\"\"\"\n",
    "The `Find_Optimal_Cutoff()` function takes a machine \n",
    "learning model, a dataset of features `X`, and a dataset of labels `y`\n",
    "as input and returns the optimal cutoff value for the model.\n",
    "\n",
    "The optimal cutoff value is the value that maximizes \n",
    "the difference between the true positive rate (TPR) and the false \n",
    "positive rate (FPR). The TPR is the fraction of positive labels that \n",
    "are correctly predicted, and the FPR is the fraction of negative labels\n",
    "that are incorrectly predicted as positive.\n",
    "\n",
    "The function works by first calculating the ROC \n",
    "(receiver operating characteristic) curve for the model. The ROC curve i\n",
    "s a plot of the TPR against the FPR for different cutoff values. \n",
    "The optimal cutoff value is the point on the ROC curve that is \n",
    "furthest from the diagonal line.\n",
    "\n",
    "Here is an example of how to use the `Find_Optimal_Cutoff()` function:\n",
    "\n",
    "```python\n",
    "import numpy as np\n",
    "from sklearn.linear_model import LogisticRegression\n",
    "\n",
    "# Create a dataset\n",
    "X = np.array([[1, 2], [3, 4], [5, 6]])\n",
    "y = np.array([1, 0, 1])\n",
    "\n",
    "# Train a logistic regression model\n",
    "model = LogisticRegression()\n",
    "model.fit(X, y)\n",
    "\n",
    "# Find the optimal cutoff value\n",
    "optimal_cutoff = Find_Optimal_Cutoff(model, X, y)\n",
    "\n",
    "# Print the optimal cutoff value\n",
    "print(optimal_cutoff)\n",
    "```\n",
    "\n",
    "Output:\n",
    "\n",
    "```\n",
    "[0.5]\n",
    "```\n",
    "\n",
    "This indicates that the optimal cutoff value is 0.5. \n",
    "In other words, the model should predict a positive label for any data point with a predicted probability greater than 0.5.\n",
    "\n",
    "The `Find_Optimal_Cutoff()` function is a useful tool \n",
    "for determining the best cutoff value for a machine learning model. This is important for models that are used to make binary predictions, such as classifying patients as having or not having a disease.\n",
    "\"\"\"\n",
    "def Find_Optimal_Cutoff(model, X, y):\n",
    "  try:\n",
    "    y_pred_prob = model.predict_proba(X)[:,1]\n",
    "  except:\n",
    "    d = model.decision_function(X)\n",
    "    y_pred_prob = np.exp(d) / (1 + np.exp(d))\n",
    "    \n",
    "  fpr, tpr, threshold = roc_curve(y, y_pred_prob)\n",
    "  i = np.arange(len(tpr)) \n",
    "  roc = pd.DataFrame({'tf' : pd.Series(tpr-(1-fpr), index=i), 'threshold' : pd.Series(threshold, index=i)})\n",
    "  roc_t = roc.loc[(roc.tf-0).abs().argsort()[:1]]\n",
    "  \n",
    "  print(\"Optimal Cutoff:\", roc_t['threshold'].values)\n",
    "  return(roc_t['threshold'].values)\n",
    "  \n",
    "    \n",
    "\"\"\"\n",
    "The `feature_importance()` function takes a machine learning model \n",
    "and a dataset of features `X` as input and prints the importance of \n",
    "each feature in the model.\n",
    "\n",
    "The function works by first calculating the feature importances for \n",
    "the model. Feature importance is a measure of how much a particular feature contributes to the model's predictions. There are a number of different ways to calculate feature importances, but the most common method is to calculate the amount of information gain that each feature contributes to the model.\n",
    "\n",
    "Once the feature importances have been calculated, the function prints the feature ranking and plots the feature importances of the forest.\n",
    "\n",
    "Here is an example of how to use the `feature_importance()` function:\n",
    "\n",
    "```python\n",
    "import numpy as np\n",
    "from sklearn.ensemble import RandomForestClassifier\n",
    "\n",
    "# Create a dataset\n",
    "X = np.array([[1, 2], [3, 4], [5, 6]])\n",
    "y = np.array([1, 0, 1])\n",
    "\n",
    "# Train a random forest classifier\n",
    "model = RandomForestClassifier()\n",
    "model.fit(X, y)\n",
    "\n",
    "# Calculate the feature importances\n",
    "feature_importance(model, X)\n",
    "```\n",
    "\n",
    "Output:\n",
    "\n",
    "```\n",
    "Feature ranking:\n",
    "1. feature_1 (0.75)\n",
    "2. feature_2 (0.25)\n",
    "```\n",
    "\n",
    "This indicates that the first feature is more important than the second feature in the model. The plot of the feature importances would show a bar for each feature, with the height of the bar representing the feature's importance.\n",
    "\n",
    "The `feature_importance()` function is a useful tool for understanding which features are most important for a machine learning model. This information can be used to improve the model's performance or to reduce the number of features that are used in the model.\n",
    "\"\"\"    \n",
    "def feature_importance(model, X):\n",
    "  importances = model.feature_importances_  #assumed model is random forest\n",
    "  std = np.std([tree.feature_importances_ for tree in model.estimators_],\n",
    "               axis=0)\n",
    "  indices = np.argsort(importances)[::-1]\n",
    "\n",
    "  # Print the feature ranking\n",
    "  print(\"Feature ranking:\")\n",
    "\n",
    "  for f in range(X.shape[1]):\n",
    "      print(\"%d. %s (%f)\" % (f + 1, X.columns[indices[f]], importances[indices[f]]))\n",
    "\n",
    "  # Plot the feature importances of the forest\n",
    "  plt.figure()\n",
    "  plt.title(\"Feature importances\")\n",
    "  plt.bar(range(X.shape[1]), importances[indices],\n",
    "          color=\"r\", yerr=std[indices], align=\"center\")\n",
    "  plt.xticks(range(X.shape[1]), indices)\n",
    "  plt.xlim([-1, X.shape[1]])\n",
    "  plt.show()\n",
    "\n",
    "\n",
    "\"\"\"\n",
    "Customer churn is the rate at which customers stop using a company's products or services. \n",
    "It is a major problem for businesses of all sizes, as it can lead to lost revenue and profits.\n",
    "\n",
    "There are many factors that can contribute to customer churn, such as:\n",
    "\n",
    "* Poor product or service quality\n",
    "* High prices\n",
    "* Lack of customer support\n",
    "* Inconvenient features\n",
    "* Competition from other businesses\n",
    "\n",
    "Businesses can use a variety of methods to reduce customer churn, such as:\n",
    "\n",
    "* Improving the quality of their products and services\n",
    "* Offering competitive prices\n",
    "* Providing excellent customer support\n",
    "* Making their features more convenient\n",
    "* Developing loyalty programs\n",
    "\n",
    "Calibration curves can be used to improve the performance of customer churn models by identifying any \n",
    "potential biases. A customer churn model is a machine learning model that is trained to predict the probability \n",
    "of a customer churning.\n",
    "\n",
    "To create a calibration curve for a customer churn model, we first need to divide the data \n",
    "into two sets: a training set and a test set. We then train the model on the training set and \n",
    "use it to predict the probabilities of churn for the data points in the test set. Finally, \n",
    "we plot the predicted probabilities against the actual churn outcomes.\n",
    "\n",
    "The ideal calibration curve for a customer churn model is a diagonal line, which indicates \n",
    "that the model is perfectly calibrated. This means that the predicted probabilities are equal\n",
    "to the actual churn rates. A model that is overconfident will have a calibration curve that is\n",
    "above the diagonal line, and a model that is underconfident will have a calibration curve that is below the diagonal line.\n",
    "\n",
    "If the calibration curve for a customer churn model is below the diagonal line for low-risk \n",
    "customers, this indicates that the model is underpredicting the probability of churn for these \n",
    "customers. This is a potential bias, as the model is more likely to misclassify low-risk customers as churners.\n",
    "\n",
    "Businesses can use calibration curves to identify and address potential biases in their customer\n",
    "churn models. This can help them to improve the accuracy of their predictions and to reduce customer churn.\n",
    "\n",
    "Here is an example of how a business can use a calibration curve to improve its customer churn model:\n",
    "\n",
    "A telecommunications company has a customer churn model that it uses to predict the probability \n",
    "of a customer churning. The company wants to improve the accuracy of its predictions, so it\n",
    "creates a calibration curve for the model.\n",
    "\n",
    "The calibration curve shows that the model is overconfident for low-risk customers. This means \n",
    "that the model is more likely to predict that a low-risk customer will churn than they actually will.\n",
    "\n",
    "The company decides to address this bias by retraining the model on a dataset that is\n",
    "more balanced between churners and non-churners. After retraining the model, the \n",
    "calibration curve shows that the model is now more accurate for low-risk customers.\n",
    "\n",
    "By using calibration curves, businesses can improve the accuracy of their customer \n",
    "churn models and reduce customer churn.\n",
    "\"\"\"\n",
    "\n",
    "# Plot calibration plots\n",
    "def plot_calibration(y_true, y_prob, n_bins, model_name):\n",
    "  plt.figure(figsize=(10, 10))\n",
    "  ax1 = plt.subplot2grid((3, 1), (0, 0), rowspan=2)\n",
    "  ax2 = plt.subplot2grid((3, 1), (2, 0))\n",
    "\n",
    "  ax1.plot([0, 1], [0, 1], \"k:\", label=\"Perfectly calibrated\")\n",
    "  fraction_of_positives, mean_predicted_value = \\\n",
    "        calibration_curve(y_true, y_prob, n_bins=n_bins)\n",
    "\n",
    "  ax1.plot(mean_predicted_value, fraction_of_positives, \"s-\",\n",
    "             label=\"%s\" % (model_name, ))\n",
    "\n",
    "  ax2.hist(y_pred_prob, range=(0, 1), bins=10, label=model_name,\n",
    "             histtype=\"step\", lw=2)\n",
    "\n",
    "  ax1.set_ylabel(\"Fraction of positives\")\n",
    "  ax1.set_ylim([-0.05, 1.05])\n",
    "  ax1.legend(loc=\"lower right\")\n",
    "  ax1.set_title('Calibration plots')\n",
    "\n",
    "  ax2.set_xlabel(\"Mean predicted value\")\n",
    "  ax2.set_ylabel(\"Count\")\n",
    "  ax2.legend(loc=\"upper right\", ncol=2)\n",
    "\n",
    "  plt.tight_layout()\n",
    "  plt.show()"
   ]
  },
  {
   "cell_type": "markdown",
   "metadata": {
    "colab_type": "text",
    "id": "z0F3xTe2-Uxm"
   },
   "source": [
    "**Confusion Matrix**\n",
    "*   first argument is actual values, second argument is predicted values\n",
    "\n",
    "**Precision:**\n",
    "*  When a positive value is predicted, how often is the prediction correct?\n",
    "*  How \"precise\" is the classifier when predicting positive instances?\n",
    "\n",
    "**Recall**\n",
    "*   Calculate TP rate or recall\n",
    "\n"
   ]
  },
  {
   "cell_type": "markdown",
   "metadata": {
    "colab_type": "text",
    "id": "LW9UtJqVrU2D"
   },
   "source": [
    "**Pandas**\n",
    "*   use the pandas library to read data into Python\n"
   ]
  },
  {
   "cell_type": "code",
   "execution_count": 3,
   "metadata": {
    "colab": {},
    "colab_type": "code",
    "id": "TDgwLehGp2S-"
   },
   "outputs": [],
   "source": [
    "file_url ='https://drive.google.com/uc?export=download&id=13YvNpCckww8rNdLGxAh0tekdsehXI0HU'\n",
    "df = pd.read_csv(file_url)\n",
    "\n"
   ]
  },
  {
   "cell_type": "markdown",
   "metadata": {
    "colab_type": "text",
    "id": "YQisvN2SqnCY"
   },
   "source": [
    "Use the head method to display the first 5 rows"
   ]
  },
  {
   "cell_type": "code",
   "execution_count": 4,
   "metadata": {
    "colab": {
     "base_uri": "https://localhost:8080/",
     "height": 348
    },
    "colab_type": "code",
    "id": "8M62KAAwqpsM",
    "outputId": "6d8e3472-d8f1-485a-c4d7-cf789db93148"
   },
   "outputs": [
    {
     "data": {
      "text/html": [
       "<div>\n",
       "<style scoped>\n",
       "    .dataframe tbody tr th:only-of-type {\n",
       "        vertical-align: middle;\n",
       "    }\n",
       "\n",
       "    .dataframe tbody tr th {\n",
       "        vertical-align: top;\n",
       "    }\n",
       "\n",
       "    .dataframe thead th {\n",
       "        text-align: right;\n",
       "    }\n",
       "</style>\n",
       "<table border=\"1\" class=\"dataframe\">\n",
       "  <thead>\n",
       "    <tr style=\"text-align: right;\">\n",
       "      <th></th>\n",
       "      <th>Loan_ID</th>\n",
       "      <th>Customer_ID</th>\n",
       "      <th>Loan_Status</th>\n",
       "      <th>Current_Loan_Amount</th>\n",
       "      <th>Term</th>\n",
       "      <th>Credit_Score</th>\n",
       "      <th>Years_in_current_job</th>\n",
       "      <th>Home_Ownership</th>\n",
       "      <th>Annual_Income</th>\n",
       "      <th>Purpose</th>\n",
       "      <th>Monthly_Debt</th>\n",
       "      <th>Years_of_Credit_History</th>\n",
       "      <th>Months_since_last_delinquent</th>\n",
       "      <th>Number_of_Open_Accounts</th>\n",
       "      <th>Number_of_Credit_Problems</th>\n",
       "      <th>Current_Credit_Balance</th>\n",
       "      <th>Maximum_Open_Credit</th>\n",
       "      <th>Bankruptcies</th>\n",
       "      <th>Tax_Liens</th>\n",
       "    </tr>\n",
       "  </thead>\n",
       "  <tbody>\n",
       "    <tr>\n",
       "      <th>0</th>\n",
       "      <td>6cf51492-02a2-423e-b93d-676f05b9ad53</td>\n",
       "      <td>7c202b37-2add-44e8-9aea-d5b119aea935</td>\n",
       "      <td>Charged Off</td>\n",
       "      <td>12232</td>\n",
       "      <td>Short Term</td>\n",
       "      <td>7280.0</td>\n",
       "      <td>&lt; 1 year</td>\n",
       "      <td>Rent</td>\n",
       "      <td>46643.0</td>\n",
       "      <td>Debt Consolidation</td>\n",
       "      <td>777.39</td>\n",
       "      <td>18.0</td>\n",
       "      <td>10.0</td>\n",
       "      <td>12</td>\n",
       "      <td>0</td>\n",
       "      <td>6762</td>\n",
       "      <td>7946</td>\n",
       "      <td>0.0</td>\n",
       "      <td>0.0</td>\n",
       "    </tr>\n",
       "    <tr>\n",
       "      <th>1</th>\n",
       "      <td>552e7ade-4292-4354-9ff9-c48031697d72</td>\n",
       "      <td>e7217b0a-07ac-47dd-b379-577b5a35b7c6</td>\n",
       "      <td>Charged Off</td>\n",
       "      <td>25014</td>\n",
       "      <td>Long Term</td>\n",
       "      <td>7330.0</td>\n",
       "      <td>10+ years</td>\n",
       "      <td>Home Mortgage</td>\n",
       "      <td>81099.0</td>\n",
       "      <td>Debt Consolidation</td>\n",
       "      <td>892.09</td>\n",
       "      <td>26.7</td>\n",
       "      <td>NaN</td>\n",
       "      <td>14</td>\n",
       "      <td>0</td>\n",
       "      <td>35706</td>\n",
       "      <td>77961</td>\n",
       "      <td>0.0</td>\n",
       "      <td>0.0</td>\n",
       "    </tr>\n",
       "    <tr>\n",
       "      <th>2</th>\n",
       "      <td>9b5e32b3-8d76-4801-afc8-d729d5a2e6b9</td>\n",
       "      <td>0a62fc41-16c8-40b5-92ff-9e4b763ce714</td>\n",
       "      <td>Charged Off</td>\n",
       "      <td>16117</td>\n",
       "      <td>Short Term</td>\n",
       "      <td>7240.0</td>\n",
       "      <td>9 years</td>\n",
       "      <td>Home Mortgage</td>\n",
       "      <td>60438.0</td>\n",
       "      <td>Home Improvements</td>\n",
       "      <td>1,244.02</td>\n",
       "      <td>16.7</td>\n",
       "      <td>32.0</td>\n",
       "      <td>11</td>\n",
       "      <td>1</td>\n",
       "      <td>11275</td>\n",
       "      <td>14815</td>\n",
       "      <td>1.0</td>\n",
       "      <td>0.0</td>\n",
       "    </tr>\n",
       "    <tr>\n",
       "      <th>3</th>\n",
       "      <td>5419b7c7-ac11-4be2-a8a7-b131fb6d6dbe</td>\n",
       "      <td>30f36c59-5182-4482-8bbb-5b736849ae43</td>\n",
       "      <td>Charged Off</td>\n",
       "      <td>11716</td>\n",
       "      <td>Short Term</td>\n",
       "      <td>7400.0</td>\n",
       "      <td>3 years</td>\n",
       "      <td>Rent</td>\n",
       "      <td>34171.0</td>\n",
       "      <td>Debt Consolidation</td>\n",
       "      <td>990.94</td>\n",
       "      <td>10.0</td>\n",
       "      <td>NaN</td>\n",
       "      <td>21</td>\n",
       "      <td>0</td>\n",
       "      <td>7009</td>\n",
       "      <td>43533</td>\n",
       "      <td>0.0</td>\n",
       "      <td>0.0</td>\n",
       "    </tr>\n",
       "    <tr>\n",
       "      <th>4</th>\n",
       "      <td>1450910f-9495-4fc9-afaf-9bdf4b9821df</td>\n",
       "      <td>70c26012-bba5-42c0-8dcb-75295ada31bb</td>\n",
       "      <td>Charged Off</td>\n",
       "      <td>9789</td>\n",
       "      <td>Long Term</td>\n",
       "      <td>6860.0</td>\n",
       "      <td>10+ years</td>\n",
       "      <td>Home Mortgage</td>\n",
       "      <td>47003.0</td>\n",
       "      <td>Home Improvements</td>\n",
       "      <td>503.71</td>\n",
       "      <td>16.7</td>\n",
       "      <td>25.0</td>\n",
       "      <td>13</td>\n",
       "      <td>1</td>\n",
       "      <td>16913</td>\n",
       "      <td>19553</td>\n",
       "      <td>1.0</td>\n",
       "      <td>0.0</td>\n",
       "    </tr>\n",
       "  </tbody>\n",
       "</table>\n",
       "</div>"
      ],
      "text/plain": [
       "                                Loan_ID                           Customer_ID  \\\n",
       "0  6cf51492-02a2-423e-b93d-676f05b9ad53  7c202b37-2add-44e8-9aea-d5b119aea935   \n",
       "1  552e7ade-4292-4354-9ff9-c48031697d72  e7217b0a-07ac-47dd-b379-577b5a35b7c6   \n",
       "2  9b5e32b3-8d76-4801-afc8-d729d5a2e6b9  0a62fc41-16c8-40b5-92ff-9e4b763ce714   \n",
       "3  5419b7c7-ac11-4be2-a8a7-b131fb6d6dbe  30f36c59-5182-4482-8bbb-5b736849ae43   \n",
       "4  1450910f-9495-4fc9-afaf-9bdf4b9821df  70c26012-bba5-42c0-8dcb-75295ada31bb   \n",
       "\n",
       "   Loan_Status  Current_Loan_Amount        Term  Credit_Score  \\\n",
       "0  Charged Off                12232  Short Term        7280.0   \n",
       "1  Charged Off                25014   Long Term        7330.0   \n",
       "2  Charged Off                16117  Short Term        7240.0   \n",
       "3  Charged Off                11716  Short Term        7400.0   \n",
       "4  Charged Off                 9789   Long Term        6860.0   \n",
       "\n",
       "  Years_in_current_job Home_Ownership  Annual_Income             Purpose  \\\n",
       "0             < 1 year           Rent        46643.0  Debt Consolidation   \n",
       "1            10+ years  Home Mortgage        81099.0  Debt Consolidation   \n",
       "2              9 years  Home Mortgage        60438.0   Home Improvements   \n",
       "3              3 years           Rent        34171.0  Debt Consolidation   \n",
       "4            10+ years  Home Mortgage        47003.0   Home Improvements   \n",
       "\n",
       "  Monthly_Debt  Years_of_Credit_History  Months_since_last_delinquent  \\\n",
       "0       777.39                     18.0                          10.0   \n",
       "1       892.09                     26.7                           NaN   \n",
       "2     1,244.02                     16.7                          32.0   \n",
       "3       990.94                     10.0                           NaN   \n",
       "4       503.71                     16.7                          25.0   \n",
       "\n",
       "   Number_of_Open_Accounts  Number_of_Credit_Problems  Current_Credit_Balance  \\\n",
       "0                       12                          0                    6762   \n",
       "1                       14                          0                   35706   \n",
       "2                       11                          1                   11275   \n",
       "3                       21                          0                    7009   \n",
       "4                       13                          1                   16913   \n",
       "\n",
       "   Maximum_Open_Credit  Bankruptcies  Tax_Liens  \n",
       "0                 7946           0.0        0.0  \n",
       "1                77961           0.0        0.0  \n",
       "2                14815           1.0        0.0  \n",
       "3                43533           0.0        0.0  \n",
       "4                19553           1.0        0.0  "
      ]
     },
     "execution_count": 4,
     "metadata": {},
     "output_type": "execute_result"
    }
   ],
   "source": [
    "df.head()"
   ]
  },
  {
   "cell_type": "markdown",
   "metadata": {
    "colab_type": "text",
    "id": "OTnQ8HKUq_FA"
   },
   "source": [
    "check the shape of the DataFrame (rows, columns)"
   ]
  },
  {
   "cell_type": "code",
   "execution_count": 5,
   "metadata": {
    "colab": {
     "base_uri": "https://localhost:8080/",
     "height": 35
    },
    "colab_type": "code",
    "id": "O317wwz7rBRS",
    "outputId": "56ed7923-fc88-47ff-ad6b-5f13223dab30"
   },
   "outputs": [
    {
     "data": {
      "text/plain": [
       "(111105, 19)"
      ]
     },
     "execution_count": 5,
     "metadata": {},
     "output_type": "execute_result"
    }
   ],
   "source": [
    "df.shape"
   ]
  },
  {
   "cell_type": "code",
   "execution_count": 6,
   "metadata": {
    "colab": {
     "base_uri": "https://localhost:8080/",
     "height": 371
    },
    "colab_type": "code",
    "id": "gR4TakGpjj_4",
    "outputId": "bcd865a9-ca32-4955-fbaa-356b5d3aa963"
   },
   "outputs": [
    {
     "data": {
      "text/plain": [
       "Loan_ID                          object\n",
       "Customer_ID                      object\n",
       "Loan_Status                      object\n",
       "Current_Loan_Amount               int64\n",
       "Term                             object\n",
       "Credit_Score                    float64\n",
       "Years_in_current_job             object\n",
       "Home_Ownership                   object\n",
       "Annual_Income                   float64\n",
       "Purpose                          object\n",
       "Monthly_Debt                     object\n",
       "Years_of_Credit_History         float64\n",
       "Months_since_last_delinquent    float64\n",
       "Number_of_Open_Accounts           int64\n",
       "Number_of_Credit_Problems         int64\n",
       "Current_Credit_Balance            int64\n",
       "Maximum_Open_Credit               int64\n",
       "Bankruptcies                    float64\n",
       "Tax_Liens                       float64\n",
       "dtype: object"
      ]
     },
     "execution_count": 6,
     "metadata": {},
     "output_type": "execute_result"
    }
   ],
   "source": [
    "df.dtypes"
   ]
  },
  {
   "cell_type": "markdown",
   "metadata": {
    "colab_type": "text",
    "id": "bknrRXqcsDS7"
   },
   "source": [
    "Use the describe method to generates descriptive statistics that summarize the central tendency, dispersion and shape of a dataset’s distribution, excluding NaN values"
   ]
  },
  {
   "cell_type": "code",
   "execution_count": 7,
   "metadata": {
    "colab": {
     "base_uri": "https://localhost:8080/",
     "height": 320
    },
    "colab_type": "code",
    "id": "9CNOexb8sEqN",
    "outputId": "30ae4bcc-ef94-4be6-b930-e9c74c584ffe"
   },
   "outputs": [
    {
     "data": {
      "text/html": [
       "<div>\n",
       "<style scoped>\n",
       "    .dataframe tbody tr th:only-of-type {\n",
       "        vertical-align: middle;\n",
       "    }\n",
       "\n",
       "    .dataframe tbody tr th {\n",
       "        vertical-align: top;\n",
       "    }\n",
       "\n",
       "    .dataframe thead th {\n",
       "        text-align: right;\n",
       "    }\n",
       "</style>\n",
       "<table border=\"1\" class=\"dataframe\">\n",
       "  <thead>\n",
       "    <tr style=\"text-align: right;\">\n",
       "      <th></th>\n",
       "      <th>Current_Loan_Amount</th>\n",
       "      <th>Credit_Score</th>\n",
       "      <th>Annual_Income</th>\n",
       "      <th>Years_of_Credit_History</th>\n",
       "      <th>Months_since_last_delinquent</th>\n",
       "      <th>Number_of_Open_Accounts</th>\n",
       "      <th>Number_of_Credit_Problems</th>\n",
       "      <th>Current_Credit_Balance</th>\n",
       "      <th>Maximum_Open_Credit</th>\n",
       "      <th>Bankruptcies</th>\n",
       "      <th>Tax_Liens</th>\n",
       "    </tr>\n",
       "  </thead>\n",
       "  <tbody>\n",
       "    <tr>\n",
       "      <th>count</th>\n",
       "      <td>1.111050e+05</td>\n",
       "      <td>89768.000000</td>\n",
       "      <td>8.976800e+04</td>\n",
       "      <td>111105.000000</td>\n",
       "      <td>52102.000000</td>\n",
       "      <td>111105.000000</td>\n",
       "      <td>111105.000000</td>\n",
       "      <td>1.111050e+05</td>\n",
       "      <td>1.111050e+05</td>\n",
       "      <td>110877.000000</td>\n",
       "      <td>111094.000000</td>\n",
       "    </tr>\n",
       "    <tr>\n",
       "      <th>mean</th>\n",
       "      <td>1.147739e+07</td>\n",
       "      <td>1075.728701</td>\n",
       "      <td>7.248575e+04</td>\n",
       "      <td>18.200991</td>\n",
       "      <td>34.902403</td>\n",
       "      <td>11.125197</td>\n",
       "      <td>0.168030</td>\n",
       "      <td>1.548342e+04</td>\n",
       "      <td>3.438644e+04</td>\n",
       "      <td>0.117662</td>\n",
       "      <td>0.029354</td>\n",
       "    </tr>\n",
       "    <tr>\n",
       "      <th>std</th>\n",
       "      <td>3.185533e+07</td>\n",
       "      <td>1474.007753</td>\n",
       "      <td>5.593120e+04</td>\n",
       "      <td>7.014542</td>\n",
       "      <td>21.971081</td>\n",
       "      <td>5.010249</td>\n",
       "      <td>0.484216</td>\n",
       "      <td>1.982122e+04</td>\n",
       "      <td>3.643027e+05</td>\n",
       "      <td>0.351423</td>\n",
       "      <td>0.260577</td>\n",
       "    </tr>\n",
       "    <tr>\n",
       "      <th>min</th>\n",
       "      <td>4.910000e+02</td>\n",
       "      <td>585.000000</td>\n",
       "      <td>4.033000e+03</td>\n",
       "      <td>3.600000</td>\n",
       "      <td>0.000000</td>\n",
       "      <td>0.000000</td>\n",
       "      <td>0.000000</td>\n",
       "      <td>0.000000e+00</td>\n",
       "      <td>0.000000e+00</td>\n",
       "      <td>0.000000</td>\n",
       "      <td>0.000000</td>\n",
       "    </tr>\n",
       "    <tr>\n",
       "      <th>25%</th>\n",
       "      <td>8.162000e+03</td>\n",
       "      <td>705.000000</td>\n",
       "      <td>4.468750e+04</td>\n",
       "      <td>13.500000</td>\n",
       "      <td>16.000000</td>\n",
       "      <td>8.000000</td>\n",
       "      <td>0.000000</td>\n",
       "      <td>5.905000e+03</td>\n",
       "      <td>1.241700e+04</td>\n",
       "      <td>0.000000</td>\n",
       "      <td>0.000000</td>\n",
       "    </tr>\n",
       "    <tr>\n",
       "      <th>50%</th>\n",
       "      <td>1.418300e+04</td>\n",
       "      <td>724.000000</td>\n",
       "      <td>6.175200e+04</td>\n",
       "      <td>16.900000</td>\n",
       "      <td>32.000000</td>\n",
       "      <td>10.000000</td>\n",
       "      <td>0.000000</td>\n",
       "      <td>1.102700e+04</td>\n",
       "      <td>2.124300e+04</td>\n",
       "      <td>0.000000</td>\n",
       "      <td>0.000000</td>\n",
       "    </tr>\n",
       "    <tr>\n",
       "      <th>75%</th>\n",
       "      <td>2.382200e+04</td>\n",
       "      <td>741.000000</td>\n",
       "      <td>8.688700e+04</td>\n",
       "      <td>21.700000</td>\n",
       "      <td>51.000000</td>\n",
       "      <td>14.000000</td>\n",
       "      <td>0.000000</td>\n",
       "      <td>1.933800e+04</td>\n",
       "      <td>3.558400e+04</td>\n",
       "      <td>0.000000</td>\n",
       "      <td>0.000000</td>\n",
       "    </tr>\n",
       "    <tr>\n",
       "      <th>max</th>\n",
       "      <td>1.000000e+08</td>\n",
       "      <td>7510.000000</td>\n",
       "      <td>8.713547e+06</td>\n",
       "      <td>70.500000</td>\n",
       "      <td>176.000000</td>\n",
       "      <td>76.000000</td>\n",
       "      <td>15.000000</td>\n",
       "      <td>1.730472e+06</td>\n",
       "      <td>6.998809e+07</td>\n",
       "      <td>7.000000</td>\n",
       "      <td>15.000000</td>\n",
       "    </tr>\n",
       "  </tbody>\n",
       "</table>\n",
       "</div>"
      ],
      "text/plain": [
       "       Current_Loan_Amount  Credit_Score  Annual_Income  \\\n",
       "count         1.111050e+05  89768.000000   8.976800e+04   \n",
       "mean          1.147739e+07   1075.728701   7.248575e+04   \n",
       "std           3.185533e+07   1474.007753   5.593120e+04   \n",
       "min           4.910000e+02    585.000000   4.033000e+03   \n",
       "25%           8.162000e+03    705.000000   4.468750e+04   \n",
       "50%           1.418300e+04    724.000000   6.175200e+04   \n",
       "75%           2.382200e+04    741.000000   8.688700e+04   \n",
       "max           1.000000e+08   7510.000000   8.713547e+06   \n",
       "\n",
       "       Years_of_Credit_History  Months_since_last_delinquent  \\\n",
       "count            111105.000000                  52102.000000   \n",
       "mean                 18.200991                     34.902403   \n",
       "std                   7.014542                     21.971081   \n",
       "min                   3.600000                      0.000000   \n",
       "25%                  13.500000                     16.000000   \n",
       "50%                  16.900000                     32.000000   \n",
       "75%                  21.700000                     51.000000   \n",
       "max                  70.500000                    176.000000   \n",
       "\n",
       "       Number_of_Open_Accounts  Number_of_Credit_Problems  \\\n",
       "count            111105.000000              111105.000000   \n",
       "mean                 11.125197                   0.168030   \n",
       "std                   5.010249                   0.484216   \n",
       "min                   0.000000                   0.000000   \n",
       "25%                   8.000000                   0.000000   \n",
       "50%                  10.000000                   0.000000   \n",
       "75%                  14.000000                   0.000000   \n",
       "max                  76.000000                  15.000000   \n",
       "\n",
       "       Current_Credit_Balance  Maximum_Open_Credit   Bankruptcies  \\\n",
       "count            1.111050e+05         1.111050e+05  110877.000000   \n",
       "mean             1.548342e+04         3.438644e+04       0.117662   \n",
       "std              1.982122e+04         3.643027e+05       0.351423   \n",
       "min              0.000000e+00         0.000000e+00       0.000000   \n",
       "25%              5.905000e+03         1.241700e+04       0.000000   \n",
       "50%              1.102700e+04         2.124300e+04       0.000000   \n",
       "75%              1.933800e+04         3.558400e+04       0.000000   \n",
       "max              1.730472e+06         6.998809e+07       7.000000   \n",
       "\n",
       "           Tax_Liens  \n",
       "count  111094.000000  \n",
       "mean        0.029354  \n",
       "std         0.260577  \n",
       "min         0.000000  \n",
       "25%         0.000000  \n",
       "50%         0.000000  \n",
       "75%         0.000000  \n",
       "max        15.000000  "
      ]
     },
     "execution_count": 7,
     "metadata": {},
     "output_type": "execute_result"
    }
   ],
   "source": [
    "df.describe()"
   ]
  },
  {
   "cell_type": "code",
   "execution_count": 8,
   "metadata": {
    "colab": {},
    "colab_type": "code",
    "id": "wD_Ndkm61UNe"
   },
   "outputs": [],
   "source": [
    "\"\"\"\n",
    "To remove outliers from the data.\n",
    "To flag data points that need to be investigated further.\n",
    "To prepare the data for a machine learning model that cannot handle missing values.\n",
    "\"\"\"\n",
    "\n",
    "df.loc[((df['Credit_Score'] > 850) & \n",
    "        (df['Credit_Score'] < 300)), 'Credit_Score'] = np.nan"
   ]
  },
  {
   "cell_type": "markdown",
   "metadata": {
    "colab_type": "text",
    "id": "Tod1lAZerWpK"
   },
   "source": [
    "Counting the number of NA values for each variable"
   ]
  },
  {
   "cell_type": "code",
   "execution_count": 9,
   "metadata": {
    "colab": {
     "base_uri": "https://localhost:8080/",
     "height": 371
    },
    "colab_type": "code",
    "id": "ghQUdQ5irXa-",
    "outputId": "859d02ff-68fc-49af-f862-a0f99dc4bdce"
   },
   "outputs": [
    {
     "data": {
      "text/plain": [
       "Loan_ID                             0\n",
       "Customer_ID                         0\n",
       "Loan_Status                         0\n",
       "Current_Loan_Amount                 0\n",
       "Term                                0\n",
       "Credit_Score                    21337\n",
       "Years_in_current_job             4693\n",
       "Home_Ownership                      0\n",
       "Annual_Income                   21337\n",
       "Purpose                             0\n",
       "Monthly_Debt                        0\n",
       "Years_of_Credit_History             0\n",
       "Months_since_last_delinquent    59003\n",
       "Number_of_Open_Accounts             0\n",
       "Number_of_Credit_Problems           0\n",
       "Current_Credit_Balance              0\n",
       "Maximum_Open_Credit                 0\n",
       "Bankruptcies                      228\n",
       "Tax_Liens                          11\n",
       "dtype: int64"
      ]
     },
     "execution_count": 9,
     "metadata": {},
     "output_type": "execute_result"
    }
   ],
   "source": [
    "df.isnull().sum()"
   ]
  },
  {
   "cell_type": "markdown",
   "metadata": {
    "colab_type": "text",
    "id": "rdjhtv_-sAdg"
   },
   "source": [
    "Number of examples per class"
   ]
  },
  {
   "cell_type": "code",
   "execution_count": 10,
   "metadata": {
    "colab": {
     "base_uri": "https://localhost:8080/",
     "height": 86
    },
    "colab_type": "code",
    "id": "8M_bXHxgr-0u",
    "outputId": "1a7a3de9-44d7-40f4-de21-dc53fb789b30"
   },
   "outputs": [
    {
     "data": {
      "text/plain": [
       "Loan_Status\n",
       "Charged Off    25171\n",
       "Fully Paid     85934\n",
       "Name: Loan_ID, dtype: int64"
      ]
     },
     "execution_count": 10,
     "metadata": {},
     "output_type": "execute_result"
    }
   ],
   "source": [
    "df.groupby('Loan_Status')['Loan_ID'].count()"
   ]
  },
  {
   "cell_type": "code",
   "execution_count": 11,
   "metadata": {
    "colab": {
     "base_uri": "https://localhost:8080/",
     "height": 141
    },
    "colab_type": "code",
    "id": "rFnpP5CstI2w",
    "outputId": "55c993e0-6cbf-438e-de4e-8c9b8b04c61d"
   },
   "outputs": [
    {
     "data": {
      "text/plain": [
       "Loan_ID\n",
       "ffffe32e-ed17-459f-9cfd-7b9ee7972933    2\n",
       "4d6ad857-0421-447a-9328-816bbabd2139    2\n",
       "4e0a83ad-4055-4a11-b3c8-e158a08db278    2\n",
       "4e07ca4f-abcd-454f-a2f1-4e55b5fefaf0    2\n",
       "4e049f22-78f9-4230-ac53-2c98745cf76c    2\n",
       "Name: Loan_Status, dtype: int64"
      ]
     },
     "execution_count": 11,
     "metadata": {},
     "output_type": "execute_result"
    }
   ],
   "source": [
    "loanIDCount = df.groupby('Loan_ID')['Loan_Status'].count()\n",
    "loanIDCount = loanIDCount.sort_values(ascending = False)\n",
    "loanIDCount[0:5]"
   ]
  },
  {
   "cell_type": "markdown",
   "metadata": {},
   "source": [
    "#### Checking for the duplicate LOAN_ID"
   ]
  },
  {
   "cell_type": "code",
   "execution_count": 12,
   "metadata": {
    "colab": {
     "base_uri": "https://localhost:8080/",
     "height": 167
    },
    "colab_type": "code",
    "id": "MR3hlN7gt2O8",
    "outputId": "7e1dc523-b0a8-44ea-9ba4-137dd966b337"
   },
   "outputs": [
    {
     "data": {
      "text/html": [
       "<div>\n",
       "<style scoped>\n",
       "    .dataframe tbody tr th:only-of-type {\n",
       "        vertical-align: middle;\n",
       "    }\n",
       "\n",
       "    .dataframe tbody tr th {\n",
       "        vertical-align: top;\n",
       "    }\n",
       "\n",
       "    .dataframe thead th {\n",
       "        text-align: right;\n",
       "    }\n",
       "</style>\n",
       "<table border=\"1\" class=\"dataframe\">\n",
       "  <thead>\n",
       "    <tr style=\"text-align: right;\">\n",
       "      <th></th>\n",
       "      <th>Loan_ID</th>\n",
       "      <th>Customer_ID</th>\n",
       "      <th>Loan_Status</th>\n",
       "      <th>Current_Loan_Amount</th>\n",
       "      <th>Term</th>\n",
       "      <th>Credit_Score</th>\n",
       "      <th>Years_in_current_job</th>\n",
       "      <th>Home_Ownership</th>\n",
       "      <th>Annual_Income</th>\n",
       "      <th>Purpose</th>\n",
       "      <th>Monthly_Debt</th>\n",
       "      <th>Years_of_Credit_History</th>\n",
       "      <th>Months_since_last_delinquent</th>\n",
       "      <th>Number_of_Open_Accounts</th>\n",
       "      <th>Number_of_Credit_Problems</th>\n",
       "      <th>Current_Credit_Balance</th>\n",
       "      <th>Maximum_Open_Credit</th>\n",
       "      <th>Bankruptcies</th>\n",
       "      <th>Tax_Liens</th>\n",
       "    </tr>\n",
       "  </thead>\n",
       "  <tbody>\n",
       "    <tr>\n",
       "      <th>78728</th>\n",
       "      <td>ffffe32e-ed17-459f-9cfd-7b9ee7972933</td>\n",
       "      <td>97281336-1e45-41d2-acb2-263ce56a590e</td>\n",
       "      <td>Fully Paid</td>\n",
       "      <td>27902</td>\n",
       "      <td>Long Term</td>\n",
       "      <td>678.0</td>\n",
       "      <td>10+ years</td>\n",
       "      <td>Home Mortgage</td>\n",
       "      <td>117480.0</td>\n",
       "      <td>Debt Consolidation</td>\n",
       "      <td>2,525.82</td>\n",
       "      <td>18.0</td>\n",
       "      <td>11.0</td>\n",
       "      <td>10</td>\n",
       "      <td>0</td>\n",
       "      <td>28317</td>\n",
       "      <td>62371</td>\n",
       "      <td>0.0</td>\n",
       "      <td>0.0</td>\n",
       "    </tr>\n",
       "    <tr>\n",
       "      <th>111027</th>\n",
       "      <td>ffffe32e-ed17-459f-9cfd-7b9ee7972933</td>\n",
       "      <td>97281336-1e45-41d2-acb2-263ce56a590e</td>\n",
       "      <td>Fully Paid</td>\n",
       "      <td>27902</td>\n",
       "      <td>Long Term</td>\n",
       "      <td>678.0</td>\n",
       "      <td>10+ years</td>\n",
       "      <td>Home Mortgage</td>\n",
       "      <td>117480.0</td>\n",
       "      <td>Debt Consolidation</td>\n",
       "      <td>2,525.82</td>\n",
       "      <td>18.0</td>\n",
       "      <td>11.0</td>\n",
       "      <td>10</td>\n",
       "      <td>0</td>\n",
       "      <td>28317</td>\n",
       "      <td>62371</td>\n",
       "      <td>0.0</td>\n",
       "      <td>0.0</td>\n",
       "    </tr>\n",
       "  </tbody>\n",
       "</table>\n",
       "</div>"
      ],
      "text/plain": [
       "                                     Loan_ID  \\\n",
       "78728   ffffe32e-ed17-459f-9cfd-7b9ee7972933   \n",
       "111027  ffffe32e-ed17-459f-9cfd-7b9ee7972933   \n",
       "\n",
       "                                 Customer_ID Loan_Status  Current_Loan_Amount  \\\n",
       "78728   97281336-1e45-41d2-acb2-263ce56a590e  Fully Paid                27902   \n",
       "111027  97281336-1e45-41d2-acb2-263ce56a590e  Fully Paid                27902   \n",
       "\n",
       "             Term  Credit_Score Years_in_current_job Home_Ownership  \\\n",
       "78728   Long Term         678.0            10+ years  Home Mortgage   \n",
       "111027  Long Term         678.0            10+ years  Home Mortgage   \n",
       "\n",
       "        Annual_Income             Purpose Monthly_Debt  \\\n",
       "78728        117480.0  Debt Consolidation     2,525.82   \n",
       "111027       117480.0  Debt Consolidation     2,525.82   \n",
       "\n",
       "        Years_of_Credit_History  Months_since_last_delinquent  \\\n",
       "78728                      18.0                          11.0   \n",
       "111027                     18.0                          11.0   \n",
       "\n",
       "        Number_of_Open_Accounts  Number_of_Credit_Problems  \\\n",
       "78728                        10                          0   \n",
       "111027                       10                          0   \n",
       "\n",
       "        Current_Credit_Balance  Maximum_Open_Credit  Bankruptcies  Tax_Liens  \n",
       "78728                    28317                62371           0.0        0.0  \n",
       "111027                   28317                62371           0.0        0.0  "
      ]
     },
     "execution_count": 12,
     "metadata": {},
     "output_type": "execute_result"
    }
   ],
   "source": [
    "df[df['Loan_ID'] == 'ffffe32e-ed17-459f-9cfd-7b9ee7972933']"
   ]
  },
  {
   "cell_type": "markdown",
   "metadata": {},
   "source": [
    "### Remove duplicates"
   ]
  },
  {
   "cell_type": "code",
   "execution_count": 13,
   "metadata": {
    "colab": {},
    "colab_type": "code",
    "id": "obU3P4rHuJPy"
   },
   "outputs": [],
   "source": [
    "df.drop_duplicates(inplace = True)"
   ]
  },
  {
   "cell_type": "code",
   "execution_count": 14,
   "metadata": {
    "colab": {
     "base_uri": "https://localhost:8080/",
     "height": 35
    },
    "colab_type": "code",
    "id": "ylo1w-nuukC4",
    "outputId": "62c31426-51e0-4e05-e492-8d9b00167231"
   },
   "outputs": [
    {
     "data": {
      "text/plain": [
       "(98579, 19)"
      ]
     },
     "execution_count": 14,
     "metadata": {},
     "output_type": "execute_result"
    }
   ],
   "source": [
    "df.shape"
   ]
  },
  {
   "cell_type": "code",
   "execution_count": 15,
   "metadata": {
    "colab": {
     "base_uri": "https://localhost:8080/",
     "height": 141
    },
    "colab_type": "code",
    "id": "Andda3pUufG6",
    "outputId": "5db22e59-9f09-46a9-ac8c-0926f697ea65"
   },
   "outputs": [
    {
     "data": {
      "text/plain": [
       "Loan_ID\n",
       "bc609460-6bca-402c-a49f-90d869805cf7    2\n",
       "763eb146-e045-44fc-b914-669a99c0e27b    2\n",
       "9616bc3b-392d-4ae6-9c6b-50373450f987    2\n",
       "c85df7c1-7908-449d-b77f-d6cbe089054b    2\n",
       "9617dabf-60cc-4a27-b5a5-c53c31a1dbfe    2\n",
       "Name: Loan_Status, dtype: int64"
      ]
     },
     "execution_count": 15,
     "metadata": {},
     "output_type": "execute_result"
    }
   ],
   "source": [
    "loanIDCount = df.groupby('Loan_ID')['Loan_Status'].count()\n",
    "loanIDCount = loanIDCount.sort_values(ascending = False)\n",
    "loanIDCount[0:5]"
   ]
  },
  {
   "cell_type": "code",
   "execution_count": 16,
   "metadata": {
    "colab": {
     "base_uri": "https://localhost:8080/",
     "height": 236
    },
    "colab_type": "code",
    "id": "nffrsuO7usWw",
    "outputId": "7ec44097-6d07-4c39-baac-74f046b15184"
   },
   "outputs": [
    {
     "data": {
      "text/html": [
       "<div>\n",
       "<style scoped>\n",
       "    .dataframe tbody tr th:only-of-type {\n",
       "        vertical-align: middle;\n",
       "    }\n",
       "\n",
       "    .dataframe tbody tr th {\n",
       "        vertical-align: top;\n",
       "    }\n",
       "\n",
       "    .dataframe thead th {\n",
       "        text-align: right;\n",
       "    }\n",
       "</style>\n",
       "<table border=\"1\" class=\"dataframe\">\n",
       "  <thead>\n",
       "    <tr style=\"text-align: right;\">\n",
       "      <th></th>\n",
       "      <th>Loan_ID</th>\n",
       "      <th>Customer_ID</th>\n",
       "      <th>Loan_Status</th>\n",
       "      <th>Current_Loan_Amount</th>\n",
       "      <th>Term</th>\n",
       "      <th>Credit_Score</th>\n",
       "      <th>Years_in_current_job</th>\n",
       "      <th>Home_Ownership</th>\n",
       "      <th>Annual_Income</th>\n",
       "      <th>Purpose</th>\n",
       "      <th>Monthly_Debt</th>\n",
       "      <th>Years_of_Credit_History</th>\n",
       "      <th>Months_since_last_delinquent</th>\n",
       "      <th>Number_of_Open_Accounts</th>\n",
       "      <th>Number_of_Credit_Problems</th>\n",
       "      <th>Current_Credit_Balance</th>\n",
       "      <th>Maximum_Open_Credit</th>\n",
       "      <th>Bankruptcies</th>\n",
       "      <th>Tax_Liens</th>\n",
       "    </tr>\n",
       "  </thead>\n",
       "  <tbody>\n",
       "    <tr>\n",
       "      <th>27947</th>\n",
       "      <td>7f85733b-ef51-48e5-a0a2-1a7b68492d4e</td>\n",
       "      <td>bc89f7d9-b603-41ee-9497-a40752183ae9</td>\n",
       "      <td>Fully Paid</td>\n",
       "      <td>11887</td>\n",
       "      <td>Short Term</td>\n",
       "      <td>NaN</td>\n",
       "      <td>4 years</td>\n",
       "      <td>Home Mortgage</td>\n",
       "      <td>NaN</td>\n",
       "      <td>Debt Consolidation</td>\n",
       "      <td>1,287.70</td>\n",
       "      <td>16.6</td>\n",
       "      <td>26.0</td>\n",
       "      <td>11</td>\n",
       "      <td>0</td>\n",
       "      <td>32953</td>\n",
       "      <td>35471</td>\n",
       "      <td>0.0</td>\n",
       "      <td>0.0</td>\n",
       "    </tr>\n",
       "    <tr>\n",
       "      <th>100165</th>\n",
       "      <td>7f85733b-ef51-48e5-a0a2-1a7b68492d4e</td>\n",
       "      <td>bc89f7d9-b603-41ee-9497-a40752183ae9</td>\n",
       "      <td>Fully Paid</td>\n",
       "      <td>11887</td>\n",
       "      <td>Short Term</td>\n",
       "      <td>701.0</td>\n",
       "      <td>4 years</td>\n",
       "      <td>Home Mortgage</td>\n",
       "      <td>188214.0</td>\n",
       "      <td>Debt Consolidation</td>\n",
       "      <td>1,287.70</td>\n",
       "      <td>16.6</td>\n",
       "      <td>26.0</td>\n",
       "      <td>11</td>\n",
       "      <td>0</td>\n",
       "      <td>32953</td>\n",
       "      <td>35471</td>\n",
       "      <td>0.0</td>\n",
       "      <td>0.0</td>\n",
       "    </tr>\n",
       "  </tbody>\n",
       "</table>\n",
       "</div>"
      ],
      "text/plain": [
       "                                     Loan_ID  \\\n",
       "27947   7f85733b-ef51-48e5-a0a2-1a7b68492d4e   \n",
       "100165  7f85733b-ef51-48e5-a0a2-1a7b68492d4e   \n",
       "\n",
       "                                 Customer_ID Loan_Status  Current_Loan_Amount  \\\n",
       "27947   bc89f7d9-b603-41ee-9497-a40752183ae9  Fully Paid                11887   \n",
       "100165  bc89f7d9-b603-41ee-9497-a40752183ae9  Fully Paid                11887   \n",
       "\n",
       "              Term  Credit_Score Years_in_current_job Home_Ownership  \\\n",
       "27947   Short Term           NaN              4 years  Home Mortgage   \n",
       "100165  Short Term         701.0              4 years  Home Mortgage   \n",
       "\n",
       "        Annual_Income             Purpose Monthly_Debt  \\\n",
       "27947             NaN  Debt Consolidation     1,287.70   \n",
       "100165       188214.0  Debt Consolidation     1,287.70   \n",
       "\n",
       "        Years_of_Credit_History  Months_since_last_delinquent  \\\n",
       "27947                      16.6                          26.0   \n",
       "100165                     16.6                          26.0   \n",
       "\n",
       "        Number_of_Open_Accounts  Number_of_Credit_Problems  \\\n",
       "27947                        11                          0   \n",
       "100165                       11                          0   \n",
       "\n",
       "        Current_Credit_Balance  Maximum_Open_Credit  Bankruptcies  Tax_Liens  \n",
       "27947                    32953                35471           0.0        0.0  \n",
       "100165                   32953                35471           0.0        0.0  "
      ]
     },
     "execution_count": 16,
     "metadata": {},
     "output_type": "execute_result"
    }
   ],
   "source": [
    "df[df['Loan_ID'] == '7f85733b-ef51-48e5-a0a2-1a7b68492d4e']"
   ]
  },
  {
   "cell_type": "code",
   "execution_count": 17,
   "metadata": {
    "colab": {},
    "colab_type": "code",
    "id": "mMXq_RTVvxbg"
   },
   "outputs": [],
   "source": [
    "\n",
    "\n",
    "\"\"\"\n",
    "The naCount column can be useful for a number of reasons, such as:\n",
    "\n",
    "To identify rows in the DataFrame that contain missing values.\n",
    "To drop rows from the DataFrame that contain missing values.\n",
    "To impute missing values in the DataFrame.\n",
    "To visualize the distribution of missing values in the DataFrame.\n",
    "\"\"\"\n",
    "\n",
    "df['naCount'] = df.isnull().sum(axis=1)"
   ]
  },
  {
   "cell_type": "code",
   "execution_count": 18,
   "metadata": {
    "colab": {
     "base_uri": "https://localhost:8080/",
     "height": 348
    },
    "colab_type": "code",
    "id": "zV81-DgN7efR",
    "outputId": "8d2ce8f8-566d-4e1e-fe41-2ce632d5060b",
    "scrolled": true
   },
   "outputs": [
    {
     "data": {
      "text/html": [
       "<div>\n",
       "<style scoped>\n",
       "    .dataframe tbody tr th:only-of-type {\n",
       "        vertical-align: middle;\n",
       "    }\n",
       "\n",
       "    .dataframe tbody tr th {\n",
       "        vertical-align: top;\n",
       "    }\n",
       "\n",
       "    .dataframe thead th {\n",
       "        text-align: right;\n",
       "    }\n",
       "</style>\n",
       "<table border=\"1\" class=\"dataframe\">\n",
       "  <thead>\n",
       "    <tr style=\"text-align: right;\">\n",
       "      <th></th>\n",
       "      <th>Loan_ID</th>\n",
       "      <th>Customer_ID</th>\n",
       "      <th>Loan_Status</th>\n",
       "      <th>Current_Loan_Amount</th>\n",
       "      <th>Term</th>\n",
       "      <th>Credit_Score</th>\n",
       "      <th>Years_in_current_job</th>\n",
       "      <th>Home_Ownership</th>\n",
       "      <th>Annual_Income</th>\n",
       "      <th>Purpose</th>\n",
       "      <th>Monthly_Debt</th>\n",
       "      <th>Years_of_Credit_History</th>\n",
       "      <th>Months_since_last_delinquent</th>\n",
       "      <th>Number_of_Open_Accounts</th>\n",
       "      <th>Number_of_Credit_Problems</th>\n",
       "      <th>Current_Credit_Balance</th>\n",
       "      <th>Maximum_Open_Credit</th>\n",
       "      <th>Bankruptcies</th>\n",
       "      <th>Tax_Liens</th>\n",
       "      <th>naCount</th>\n",
       "    </tr>\n",
       "  </thead>\n",
       "  <tbody>\n",
       "    <tr>\n",
       "      <th>0</th>\n",
       "      <td>6cf51492-02a2-423e-b93d-676f05b9ad53</td>\n",
       "      <td>7c202b37-2add-44e8-9aea-d5b119aea935</td>\n",
       "      <td>Charged Off</td>\n",
       "      <td>12232</td>\n",
       "      <td>Short Term</td>\n",
       "      <td>7280.0</td>\n",
       "      <td>&lt; 1 year</td>\n",
       "      <td>Rent</td>\n",
       "      <td>46643.0</td>\n",
       "      <td>Debt Consolidation</td>\n",
       "      <td>777.39</td>\n",
       "      <td>18.0</td>\n",
       "      <td>10.0</td>\n",
       "      <td>12</td>\n",
       "      <td>0</td>\n",
       "      <td>6762</td>\n",
       "      <td>7946</td>\n",
       "      <td>0.0</td>\n",
       "      <td>0.0</td>\n",
       "      <td>0</td>\n",
       "    </tr>\n",
       "    <tr>\n",
       "      <th>1</th>\n",
       "      <td>552e7ade-4292-4354-9ff9-c48031697d72</td>\n",
       "      <td>e7217b0a-07ac-47dd-b379-577b5a35b7c6</td>\n",
       "      <td>Charged Off</td>\n",
       "      <td>25014</td>\n",
       "      <td>Long Term</td>\n",
       "      <td>7330.0</td>\n",
       "      <td>10+ years</td>\n",
       "      <td>Home Mortgage</td>\n",
       "      <td>81099.0</td>\n",
       "      <td>Debt Consolidation</td>\n",
       "      <td>892.09</td>\n",
       "      <td>26.7</td>\n",
       "      <td>NaN</td>\n",
       "      <td>14</td>\n",
       "      <td>0</td>\n",
       "      <td>35706</td>\n",
       "      <td>77961</td>\n",
       "      <td>0.0</td>\n",
       "      <td>0.0</td>\n",
       "      <td>1</td>\n",
       "    </tr>\n",
       "    <tr>\n",
       "      <th>2</th>\n",
       "      <td>9b5e32b3-8d76-4801-afc8-d729d5a2e6b9</td>\n",
       "      <td>0a62fc41-16c8-40b5-92ff-9e4b763ce714</td>\n",
       "      <td>Charged Off</td>\n",
       "      <td>16117</td>\n",
       "      <td>Short Term</td>\n",
       "      <td>7240.0</td>\n",
       "      <td>9 years</td>\n",
       "      <td>Home Mortgage</td>\n",
       "      <td>60438.0</td>\n",
       "      <td>Home Improvements</td>\n",
       "      <td>1,244.02</td>\n",
       "      <td>16.7</td>\n",
       "      <td>32.0</td>\n",
       "      <td>11</td>\n",
       "      <td>1</td>\n",
       "      <td>11275</td>\n",
       "      <td>14815</td>\n",
       "      <td>1.0</td>\n",
       "      <td>0.0</td>\n",
       "      <td>0</td>\n",
       "    </tr>\n",
       "    <tr>\n",
       "      <th>3</th>\n",
       "      <td>5419b7c7-ac11-4be2-a8a7-b131fb6d6dbe</td>\n",
       "      <td>30f36c59-5182-4482-8bbb-5b736849ae43</td>\n",
       "      <td>Charged Off</td>\n",
       "      <td>11716</td>\n",
       "      <td>Short Term</td>\n",
       "      <td>7400.0</td>\n",
       "      <td>3 years</td>\n",
       "      <td>Rent</td>\n",
       "      <td>34171.0</td>\n",
       "      <td>Debt Consolidation</td>\n",
       "      <td>990.94</td>\n",
       "      <td>10.0</td>\n",
       "      <td>NaN</td>\n",
       "      <td>21</td>\n",
       "      <td>0</td>\n",
       "      <td>7009</td>\n",
       "      <td>43533</td>\n",
       "      <td>0.0</td>\n",
       "      <td>0.0</td>\n",
       "      <td>1</td>\n",
       "    </tr>\n",
       "    <tr>\n",
       "      <th>4</th>\n",
       "      <td>1450910f-9495-4fc9-afaf-9bdf4b9821df</td>\n",
       "      <td>70c26012-bba5-42c0-8dcb-75295ada31bb</td>\n",
       "      <td>Charged Off</td>\n",
       "      <td>9789</td>\n",
       "      <td>Long Term</td>\n",
       "      <td>6860.0</td>\n",
       "      <td>10+ years</td>\n",
       "      <td>Home Mortgage</td>\n",
       "      <td>47003.0</td>\n",
       "      <td>Home Improvements</td>\n",
       "      <td>503.71</td>\n",
       "      <td>16.7</td>\n",
       "      <td>25.0</td>\n",
       "      <td>13</td>\n",
       "      <td>1</td>\n",
       "      <td>16913</td>\n",
       "      <td>19553</td>\n",
       "      <td>1.0</td>\n",
       "      <td>0.0</td>\n",
       "      <td>0</td>\n",
       "    </tr>\n",
       "  </tbody>\n",
       "</table>\n",
       "</div>"
      ],
      "text/plain": [
       "                                Loan_ID                           Customer_ID  \\\n",
       "0  6cf51492-02a2-423e-b93d-676f05b9ad53  7c202b37-2add-44e8-9aea-d5b119aea935   \n",
       "1  552e7ade-4292-4354-9ff9-c48031697d72  e7217b0a-07ac-47dd-b379-577b5a35b7c6   \n",
       "2  9b5e32b3-8d76-4801-afc8-d729d5a2e6b9  0a62fc41-16c8-40b5-92ff-9e4b763ce714   \n",
       "3  5419b7c7-ac11-4be2-a8a7-b131fb6d6dbe  30f36c59-5182-4482-8bbb-5b736849ae43   \n",
       "4  1450910f-9495-4fc9-afaf-9bdf4b9821df  70c26012-bba5-42c0-8dcb-75295ada31bb   \n",
       "\n",
       "   Loan_Status  Current_Loan_Amount        Term  Credit_Score  \\\n",
       "0  Charged Off                12232  Short Term        7280.0   \n",
       "1  Charged Off                25014   Long Term        7330.0   \n",
       "2  Charged Off                16117  Short Term        7240.0   \n",
       "3  Charged Off                11716  Short Term        7400.0   \n",
       "4  Charged Off                 9789   Long Term        6860.0   \n",
       "\n",
       "  Years_in_current_job Home_Ownership  Annual_Income             Purpose  \\\n",
       "0             < 1 year           Rent        46643.0  Debt Consolidation   \n",
       "1            10+ years  Home Mortgage        81099.0  Debt Consolidation   \n",
       "2              9 years  Home Mortgage        60438.0   Home Improvements   \n",
       "3              3 years           Rent        34171.0  Debt Consolidation   \n",
       "4            10+ years  Home Mortgage        47003.0   Home Improvements   \n",
       "\n",
       "  Monthly_Debt  Years_of_Credit_History  Months_since_last_delinquent  \\\n",
       "0       777.39                     18.0                          10.0   \n",
       "1       892.09                     26.7                           NaN   \n",
       "2     1,244.02                     16.7                          32.0   \n",
       "3       990.94                     10.0                           NaN   \n",
       "4       503.71                     16.7                          25.0   \n",
       "\n",
       "   Number_of_Open_Accounts  Number_of_Credit_Problems  Current_Credit_Balance  \\\n",
       "0                       12                          0                    6762   \n",
       "1                       14                          0                   35706   \n",
       "2                       11                          1                   11275   \n",
       "3                       21                          0                    7009   \n",
       "4                       13                          1                   16913   \n",
       "\n",
       "   Maximum_Open_Credit  Bankruptcies  Tax_Liens  naCount  \n",
       "0                 7946           0.0        0.0        0  \n",
       "1                77961           0.0        0.0        1  \n",
       "2                14815           1.0        0.0        0  \n",
       "3                43533           0.0        0.0        1  \n",
       "4                19553           1.0        0.0        0  "
      ]
     },
     "execution_count": 18,
     "metadata": {},
     "output_type": "execute_result"
    }
   ],
   "source": [
    "df.head()"
   ]
  },
  {
   "cell_type": "code",
   "execution_count": 19,
   "metadata": {
    "colab": {},
    "colab_type": "code",
    "id": "1GGS7HolwCKo"
   },
   "outputs": [],
   "source": [
    "df.sort_values(by=['Loan_ID', 'naCount'], inplace = True)"
   ]
  },
  {
   "cell_type": "code",
   "execution_count": 20,
   "metadata": {
    "colab": {},
    "colab_type": "code",
    "id": "Ru8NA5yjw0lY"
   },
   "outputs": [],
   "source": [
    "\n",
    "## Drop the duplicate rows from the DataFrame based on the \n",
    "##Loan_ID column, keeping the first occurrence of each row\n",
    "df.drop_duplicates(subset=['Loan_ID'], keep = 'first', inplace = True)"
   ]
  },
  {
   "cell_type": "code",
   "execution_count": 21,
   "metadata": {
    "colab": {
     "base_uri": "https://localhost:8080/",
     "height": 141
    },
    "colab_type": "code",
    "id": "BaX07KJf7-Ws",
    "outputId": "03320502-2499-4e06-895a-96bbc92c942d"
   },
   "outputs": [
    {
     "data": {
      "text/plain": [
       "Loan_ID\n",
       "0000757f-a121-41ed-b17b-162e76647c1f    1\n",
       "aa4ec5b8-69c5-482d-a999-b03f3f4ebd60    1\n",
       "aa52d132-d9af-4482-9ca0-1bd99f6f4998    1\n",
       "aa529316-dbac-48cf-9be0-96e68be3dadc    1\n",
       "aa51f419-00a2-4445-a284-34f5b1cdc2d2    1\n",
       "Name: Loan_Status, dtype: int64"
      ]
     },
     "execution_count": 21,
     "metadata": {},
     "output_type": "execute_result"
    }
   ],
   "source": [
    "loanIDCount = df.groupby('Loan_ID')['Loan_Status'].count()\n",
    "loanIDCount = loanIDCount.sort_values(ascending = False)\n",
    "loanIDCount[0:5]"
   ]
  },
  {
   "cell_type": "code",
   "execution_count": 22,
   "metadata": {
    "colab": {
     "base_uri": "https://localhost:8080/",
     "height": 52
    },
    "colab_type": "code",
    "id": "z0zkFi9Nskws",
    "outputId": "d06e4d9c-6924-4082-9df6-5a43dc787dc8"
   },
   "outputs": [
    {
     "name": "stdout",
     "output_type": "stream",
     "text": [
      "88908\n",
      "(88908, 20)\n"
     ]
    }
   ],
   "source": [
    "print(len(df['Loan_ID'].unique()))\n",
    "print(df.shape)"
   ]
  },
  {
   "cell_type": "code",
   "execution_count": 23,
   "metadata": {
    "colab": {
     "base_uri": "https://localhost:8080/",
     "height": 389
    },
    "colab_type": "code",
    "id": "WT_mFX4CxaY2",
    "outputId": "1deeeffc-ec28-4ee6-e222-181e406cb9a7"
   },
   "outputs": [
    {
     "data": {
      "text/plain": [
       "Loan_ID                             0\n",
       "Customer_ID                         0\n",
       "Loan_Status                         0\n",
       "Current_Loan_Amount                 0\n",
       "Term                                0\n",
       "Credit_Score                    16088\n",
       "Years_in_current_job             3817\n",
       "Home_Ownership                      0\n",
       "Annual_Income                   16088\n",
       "Purpose                             0\n",
       "Monthly_Debt                        0\n",
       "Years_of_Credit_History             0\n",
       "Months_since_last_delinquent    48506\n",
       "Number_of_Open_Accounts             0\n",
       "Number_of_Credit_Problems           0\n",
       "Current_Credit_Balance              0\n",
       "Maximum_Open_Credit                 0\n",
       "Bankruptcies                      192\n",
       "Tax_Liens                           8\n",
       "naCount                             0\n",
       "dtype: int64"
      ]
     },
     "execution_count": 23,
     "metadata": {},
     "output_type": "execute_result"
    }
   ],
   "source": [
    "df.isnull().sum()"
   ]
  },
  {
   "cell_type": "code",
   "execution_count": 24,
   "metadata": {
    "colab": {
     "base_uri": "https://localhost:8080/",
     "height": 320
    },
    "colab_type": "code",
    "id": "vohV5cSNz5Jg",
    "outputId": "dcc8975a-caa1-4c32-83d4-00f3256fc0b4"
   },
   "outputs": [
    {
     "data": {
      "text/html": [
       "<div>\n",
       "<style scoped>\n",
       "    .dataframe tbody tr th:only-of-type {\n",
       "        vertical-align: middle;\n",
       "    }\n",
       "\n",
       "    .dataframe tbody tr th {\n",
       "        vertical-align: top;\n",
       "    }\n",
       "\n",
       "    .dataframe thead th {\n",
       "        text-align: right;\n",
       "    }\n",
       "</style>\n",
       "<table border=\"1\" class=\"dataframe\">\n",
       "  <thead>\n",
       "    <tr style=\"text-align: right;\">\n",
       "      <th></th>\n",
       "      <th>Current_Loan_Amount</th>\n",
       "      <th>Credit_Score</th>\n",
       "      <th>Annual_Income</th>\n",
       "      <th>Years_of_Credit_History</th>\n",
       "      <th>Months_since_last_delinquent</th>\n",
       "      <th>Number_of_Open_Accounts</th>\n",
       "      <th>Number_of_Credit_Problems</th>\n",
       "      <th>Current_Credit_Balance</th>\n",
       "      <th>Maximum_Open_Credit</th>\n",
       "      <th>Bankruptcies</th>\n",
       "      <th>Tax_Liens</th>\n",
       "      <th>naCount</th>\n",
       "    </tr>\n",
       "  </thead>\n",
       "  <tbody>\n",
       "    <tr>\n",
       "      <th>count</th>\n",
       "      <td>8.890800e+04</td>\n",
       "      <td>72820.000000</td>\n",
       "      <td>7.282000e+04</td>\n",
       "      <td>88908.000000</td>\n",
       "      <td>40402.000000</td>\n",
       "      <td>88908.000000</td>\n",
       "      <td>88908.000000</td>\n",
       "      <td>8.890800e+04</td>\n",
       "      <td>8.890800e+04</td>\n",
       "      <td>88716.000000</td>\n",
       "      <td>88900.000000</td>\n",
       "      <td>88908.000000</td>\n",
       "    </tr>\n",
       "    <tr>\n",
       "      <th>mean</th>\n",
       "      <td>1.433911e+07</td>\n",
       "      <td>1163.139371</td>\n",
       "      <td>7.240451e+04</td>\n",
       "      <td>18.315301</td>\n",
       "      <td>35.080466</td>\n",
       "      <td>11.110463</td>\n",
       "      <td>0.160480</td>\n",
       "      <td>1.543628e+04</td>\n",
       "      <td>3.596531e+04</td>\n",
       "      <td>0.112674</td>\n",
       "      <td>0.028223</td>\n",
       "      <td>0.952659</td>\n",
       "    </tr>\n",
       "    <tr>\n",
       "      <th>std</th>\n",
       "      <td>3.503029e+07</td>\n",
       "      <td>1624.120461</td>\n",
       "      <td>5.771389e+04</td>\n",
       "      <td>7.049233</td>\n",
       "      <td>22.009079</td>\n",
       "      <td>4.978438</td>\n",
       "      <td>0.473751</td>\n",
       "      <td>1.965881e+04</td>\n",
       "      <td>4.041805e+05</td>\n",
       "      <td>0.343303</td>\n",
       "      <td>0.257536</td>\n",
       "      <td>0.949000</td>\n",
       "    </tr>\n",
       "    <tr>\n",
       "      <th>min</th>\n",
       "      <td>4.910000e+02</td>\n",
       "      <td>585.000000</td>\n",
       "      <td>4.033000e+03</td>\n",
       "      <td>3.600000</td>\n",
       "      <td>0.000000</td>\n",
       "      <td>0.000000</td>\n",
       "      <td>0.000000</td>\n",
       "      <td>0.000000e+00</td>\n",
       "      <td>0.000000e+00</td>\n",
       "      <td>0.000000</td>\n",
       "      <td>0.000000</td>\n",
       "      <td>0.000000</td>\n",
       "    </tr>\n",
       "    <tr>\n",
       "      <th>25%</th>\n",
       "      <td>8.284500e+03</td>\n",
       "      <td>711.000000</td>\n",
       "      <td>4.463750e+04</td>\n",
       "      <td>13.500000</td>\n",
       "      <td>16.000000</td>\n",
       "      <td>8.000000</td>\n",
       "      <td>0.000000</td>\n",
       "      <td>5.949000e+03</td>\n",
       "      <td>1.277500e+04</td>\n",
       "      <td>0.000000</td>\n",
       "      <td>0.000000</td>\n",
       "      <td>0.000000</td>\n",
       "    </tr>\n",
       "    <tr>\n",
       "      <th>50%</th>\n",
       "      <td>1.435500e+04</td>\n",
       "      <td>731.000000</td>\n",
       "      <td>6.158500e+04</td>\n",
       "      <td>17.000000</td>\n",
       "      <td>32.000000</td>\n",
       "      <td>10.000000</td>\n",
       "      <td>0.000000</td>\n",
       "      <td>1.103900e+04</td>\n",
       "      <td>2.178100e+04</td>\n",
       "      <td>0.000000</td>\n",
       "      <td>0.000000</td>\n",
       "      <td>1.000000</td>\n",
       "    </tr>\n",
       "    <tr>\n",
       "      <th>75%</th>\n",
       "      <td>2.448550e+04</td>\n",
       "      <td>743.000000</td>\n",
       "      <td>8.678500e+04</td>\n",
       "      <td>21.800000</td>\n",
       "      <td>51.000000</td>\n",
       "      <td>14.000000</td>\n",
       "      <td>0.000000</td>\n",
       "      <td>1.930100e+04</td>\n",
       "      <td>3.636700e+04</td>\n",
       "      <td>0.000000</td>\n",
       "      <td>0.000000</td>\n",
       "      <td>1.000000</td>\n",
       "    </tr>\n",
       "    <tr>\n",
       "      <th>max</th>\n",
       "      <td>1.000000e+08</td>\n",
       "      <td>7510.000000</td>\n",
       "      <td>8.713547e+06</td>\n",
       "      <td>70.500000</td>\n",
       "      <td>176.000000</td>\n",
       "      <td>76.000000</td>\n",
       "      <td>15.000000</td>\n",
       "      <td>1.730472e+06</td>\n",
       "      <td>6.998809e+07</td>\n",
       "      <td>7.000000</td>\n",
       "      <td>15.000000</td>\n",
       "      <td>5.000000</td>\n",
       "    </tr>\n",
       "  </tbody>\n",
       "</table>\n",
       "</div>"
      ],
      "text/plain": [
       "       Current_Loan_Amount  Credit_Score  Annual_Income  \\\n",
       "count         8.890800e+04  72820.000000   7.282000e+04   \n",
       "mean          1.433911e+07   1163.139371   7.240451e+04   \n",
       "std           3.503029e+07   1624.120461   5.771389e+04   \n",
       "min           4.910000e+02    585.000000   4.033000e+03   \n",
       "25%           8.284500e+03    711.000000   4.463750e+04   \n",
       "50%           1.435500e+04    731.000000   6.158500e+04   \n",
       "75%           2.448550e+04    743.000000   8.678500e+04   \n",
       "max           1.000000e+08   7510.000000   8.713547e+06   \n",
       "\n",
       "       Years_of_Credit_History  Months_since_last_delinquent  \\\n",
       "count             88908.000000                  40402.000000   \n",
       "mean                 18.315301                     35.080466   \n",
       "std                   7.049233                     22.009079   \n",
       "min                   3.600000                      0.000000   \n",
       "25%                  13.500000                     16.000000   \n",
       "50%                  17.000000                     32.000000   \n",
       "75%                  21.800000                     51.000000   \n",
       "max                  70.500000                    176.000000   \n",
       "\n",
       "       Number_of_Open_Accounts  Number_of_Credit_Problems  \\\n",
       "count             88908.000000               88908.000000   \n",
       "mean                 11.110463                   0.160480   \n",
       "std                   4.978438                   0.473751   \n",
       "min                   0.000000                   0.000000   \n",
       "25%                   8.000000                   0.000000   \n",
       "50%                  10.000000                   0.000000   \n",
       "75%                  14.000000                   0.000000   \n",
       "max                  76.000000                  15.000000   \n",
       "\n",
       "       Current_Credit_Balance  Maximum_Open_Credit  Bankruptcies  \\\n",
       "count            8.890800e+04         8.890800e+04  88716.000000   \n",
       "mean             1.543628e+04         3.596531e+04      0.112674   \n",
       "std              1.965881e+04         4.041805e+05      0.343303   \n",
       "min              0.000000e+00         0.000000e+00      0.000000   \n",
       "25%              5.949000e+03         1.277500e+04      0.000000   \n",
       "50%              1.103900e+04         2.178100e+04      0.000000   \n",
       "75%              1.930100e+04         3.636700e+04      0.000000   \n",
       "max              1.730472e+06         6.998809e+07      7.000000   \n",
       "\n",
       "          Tax_Liens       naCount  \n",
       "count  88900.000000  88908.000000  \n",
       "mean       0.028223      0.952659  \n",
       "std        0.257536      0.949000  \n",
       "min        0.000000      0.000000  \n",
       "25%        0.000000      0.000000  \n",
       "50%        0.000000      1.000000  \n",
       "75%        0.000000      1.000000  \n",
       "max       15.000000      5.000000  "
      ]
     },
     "execution_count": 24,
     "metadata": {},
     "output_type": "execute_result"
    }
   ],
   "source": [
    "df.describe()"
   ]
  },
  {
   "cell_type": "code",
   "execution_count": 25,
   "metadata": {
    "colab": {
     "base_uri": "https://localhost:8080/",
     "height": 389
    },
    "colab_type": "code",
    "id": "d8Q25bYv3VGi",
    "outputId": "923b4d75-3391-424f-bc0d-32c8f9461a3d"
   },
   "outputs": [
    {
     "data": {
      "text/plain": [
       "Loan_ID                          object\n",
       "Customer_ID                      object\n",
       "Loan_Status                      object\n",
       "Current_Loan_Amount               int64\n",
       "Term                             object\n",
       "Credit_Score                    float64\n",
       "Years_in_current_job             object\n",
       "Home_Ownership                   object\n",
       "Annual_Income                   float64\n",
       "Purpose                          object\n",
       "Monthly_Debt                     object\n",
       "Years_of_Credit_History         float64\n",
       "Months_since_last_delinquent    float64\n",
       "Number_of_Open_Accounts           int64\n",
       "Number_of_Credit_Problems         int64\n",
       "Current_Credit_Balance            int64\n",
       "Maximum_Open_Credit               int64\n",
       "Bankruptcies                    float64\n",
       "Tax_Liens                       float64\n",
       "naCount                           int64\n",
       "dtype: object"
      ]
     },
     "execution_count": 25,
     "metadata": {},
     "output_type": "execute_result"
    }
   ],
   "source": [
    "df.dtypes"
   ]
  },
  {
   "cell_type": "code",
   "execution_count": 26,
   "metadata": {
    "colab": {
     "base_uri": "https://localhost:8080/",
     "height": 243
    },
    "colab_type": "code",
    "id": "7ZQ8ErcJ0Y6s",
    "outputId": "634e7d71-c39d-4e65-9368-bff7d7561c3b"
   },
   "outputs": [
    {
     "data": {
      "text/plain": [
       "Years_in_current_job\n",
       "10+ years    27409\n",
       "2 years       8186\n",
       "< 1 year      7312\n",
       "3 years       7263\n",
       "5 years       6084\n",
       "1 year        5765\n",
       "4 years       5474\n",
       "6 years       5095\n",
       "7 years       4943\n",
       "8 years       4098\n",
       "9 years       3462\n",
       "Name: Loan_ID, dtype: int64"
      ]
     },
     "execution_count": 26,
     "metadata": {},
     "output_type": "execute_result"
    }
   ],
   "source": [
    "yearsInCurrentJobCount = df.groupby('Years_in_current_job')['Loan_ID'].count()\n",
    "yearsInCurrentJobCount = yearsInCurrentJobCount.sort_values(ascending = False)\n",
    "yearsInCurrentJobCount"
   ]
  },
  {
   "cell_type": "markdown",
   "metadata": {},
   "source": [
    "#### Rounding off the columns"
   ]
  },
  {
   "cell_type": "code",
   "execution_count": 35,
   "metadata": {
    "colab": {},
    "colab_type": "code",
    "id": "nSVgoYD23184"
   },
   "outputs": [],
   "source": [
    "\"\"\"\n",
    "\n",
    "\n",
    "\n",
    "The code you provided is useful for converting a \n",
    "categorical variable, Years_in_current_job, to a \n",
    "numerical variable. This is useful for a number of reasons:\n",
    "\n",
    "Numerical variables are easier for machine learning \n",
    "algorithms to process. Many machine learning algorithms\n",
    "cannot handle categorical variables directly, so they \n",
    "need to be converted to numerical variables first.\n",
    "Numerical variables can be used to perform more complex \n",
    "calculations. For example, you could calculate the average \n",
    "number of years of experience for your employees, or the \n",
    "difference in years of experience between two employees.\n",
    "Numerical variables can be used to create more informative\n",
    "visualizations. For example, you could create a histogram of the number of years of experience for your employees, or a scatter plot of the relationship between years of experience and salary.\n",
    "\"\"\"\n",
    "\n",
    "\n",
    "df.loc[(df['Years_in_current_job'] == '< 1 year'), 'Years_in_current_job'] = 0.5\n",
    "df.loc[(df['Years_in_current_job'] == '1 year'), 'Years_in_current_job'] = 1\n",
    "df.loc[(df['Years_in_current_job'] == '2 years'), 'Years_in_current_job'] = 2\n",
    "df.loc[(df['Years_in_current_job'] == '3 years'), 'Years_in_current_job'] = 3\n",
    "df.loc[(df['Years_in_current_job'] == '4 years'), 'Years_in_current_job'] = 4\n",
    "df.loc[(df['Years_in_current_job'] == '5 years'), 'Years_in_current_job'] = 5\n",
    "df.loc[(df['Years_in_current_job'] == '6 years'), 'Years_in_current_job'] = 6\n",
    "df.loc[(df['Years_in_current_job'] == '7 years'), 'Years_in_current_job'] = 7\n",
    "df.loc[(df['Years_in_current_job'] == '8 years'), 'Years_in_current_job'] = 8\n",
    "df.loc[(df['Years_in_current_job'] == '9 years'), 'Years_in_current_job'] = 9\n",
    "df.loc[(df['Years_in_current_job'] == '10+ years'), 'Years_in_current_job'] = 10"
   ]
  },
  {
   "cell_type": "code",
   "execution_count": 36,
   "metadata": {
    "colab": {},
    "colab_type": "code",
    "id": "nSH_SkiN48G8"
   },
   "outputs": [],
   "source": [
    "df['Years_in_current_job'] = df['Years_in_current_job'].astype('float')"
   ]
  },
  {
   "cell_type": "code",
   "execution_count": 37,
   "metadata": {
    "colab": {
     "base_uri": "https://localhost:8080/",
     "height": 1111
    },
    "colab_type": "code",
    "id": "2nQvYBMH4JmY",
    "outputId": "5d35768a-67cf-47b8-aab9-57803b62a751"
   },
   "outputs": [
    {
     "data": {
      "text/plain": [
       "Monthly_Debt\n",
       "0.00        69\n",
       "775.08       8\n",
       "560.42       7\n",
       "984.75       7\n",
       "837.00       7\n",
       "            ..\n",
       "834.03       1\n",
       "277.31       1\n",
       "834.05       1\n",
       "277.30       1\n",
       "22939.12     1\n",
       "Name: Loan_ID, Length: 70063, dtype: int64"
      ]
     },
     "execution_count": 37,
     "metadata": {},
     "output_type": "execute_result"
    }
   ],
   "source": [
    "monthlyDebtCount = df.groupby('Monthly_Debt')['Loan_ID'].count()\n",
    "monthlyDebtCount = monthlyDebtCount.sort_values(ascending = False)\n",
    "monthlyDebtCount"
   ]
  },
  {
   "cell_type": "code",
   "execution_count": 38,
   "metadata": {
    "colab": {},
    "colab_type": "code",
    "id": "jA4Zd45O69fi"
   },
   "outputs": [
    {
     "ename": "AttributeError",
     "evalue": "Can only use .str accessor with string values!",
     "output_type": "error",
     "traceback": [
      "\u001b[1;31m---------------------------------------------------------------------------\u001b[0m",
      "\u001b[1;31mAttributeError\u001b[0m                            Traceback (most recent call last)",
      "\u001b[1;32m<ipython-input-38-03fb96777a40>\u001b[0m in \u001b[0;36m<module>\u001b[1;34m\u001b[0m\n\u001b[1;32m----> 1\u001b[1;33m \u001b[0mdf\u001b[0m\u001b[1;33m[\u001b[0m\u001b[1;34m\"Monthly_Debt\"\u001b[0m\u001b[1;33m]\u001b[0m \u001b[1;33m=\u001b[0m \u001b[0mdf\u001b[0m\u001b[1;33m[\u001b[0m\u001b[1;34m\"Monthly_Debt\"\u001b[0m\u001b[1;33m]\u001b[0m\u001b[1;33m.\u001b[0m\u001b[0mstr\u001b[0m\u001b[1;33m.\u001b[0m\u001b[0mreplace\u001b[0m\u001b[1;33m(\u001b[0m\u001b[1;34m\",\"\u001b[0m\u001b[1;33m,\u001b[0m\u001b[1;34m\"\"\u001b[0m\u001b[1;33m)\u001b[0m\u001b[1;33m.\u001b[0m\u001b[0mastype\u001b[0m\u001b[1;33m(\u001b[0m\u001b[0mfloat\u001b[0m\u001b[1;33m)\u001b[0m\u001b[1;33m\u001b[0m\u001b[1;33m\u001b[0m\u001b[0m\n\u001b[0m\u001b[0;32m      2\u001b[0m \u001b[0mdf\u001b[0m\u001b[1;33m[\u001b[0m\u001b[1;34m'Monthly_Debt'\u001b[0m\u001b[1;33m]\u001b[0m \u001b[1;33m=\u001b[0m \u001b[0mdf\u001b[0m\u001b[1;33m[\u001b[0m\u001b[1;34m'Monthly_Debt'\u001b[0m\u001b[1;33m]\u001b[0m\u001b[1;33m.\u001b[0m\u001b[0mastype\u001b[0m\u001b[1;33m(\u001b[0m\u001b[1;34m'float'\u001b[0m\u001b[1;33m)\u001b[0m\u001b[1;33m\u001b[0m\u001b[1;33m\u001b[0m\u001b[0m\n",
      "\u001b[1;32m~\\Anaconda3\\lib\\site-packages\\pandas\\core\\generic.py\u001b[0m in \u001b[0;36m__getattr__\u001b[1;34m(self, name)\u001b[0m\n\u001b[0;32m   5485\u001b[0m         ):\n\u001b[0;32m   5486\u001b[0m             \u001b[1;32mreturn\u001b[0m \u001b[0mself\u001b[0m\u001b[1;33m[\u001b[0m\u001b[0mname\u001b[0m\u001b[1;33m]\u001b[0m\u001b[1;33m\u001b[0m\u001b[1;33m\u001b[0m\u001b[0m\n\u001b[1;32m-> 5487\u001b[1;33m         \u001b[1;32mreturn\u001b[0m \u001b[0mobject\u001b[0m\u001b[1;33m.\u001b[0m\u001b[0m__getattribute__\u001b[0m\u001b[1;33m(\u001b[0m\u001b[0mself\u001b[0m\u001b[1;33m,\u001b[0m \u001b[0mname\u001b[0m\u001b[1;33m)\u001b[0m\u001b[1;33m\u001b[0m\u001b[1;33m\u001b[0m\u001b[0m\n\u001b[0m\u001b[0;32m   5488\u001b[0m \u001b[1;33m\u001b[0m\u001b[0m\n\u001b[0;32m   5489\u001b[0m     \u001b[1;32mdef\u001b[0m \u001b[0m__setattr__\u001b[0m\u001b[1;33m(\u001b[0m\u001b[0mself\u001b[0m\u001b[1;33m,\u001b[0m \u001b[0mname\u001b[0m\u001b[1;33m:\u001b[0m \u001b[0mstr\u001b[0m\u001b[1;33m,\u001b[0m \u001b[0mvalue\u001b[0m\u001b[1;33m)\u001b[0m \u001b[1;33m->\u001b[0m \u001b[1;32mNone\u001b[0m\u001b[1;33m:\u001b[0m\u001b[1;33m\u001b[0m\u001b[1;33m\u001b[0m\u001b[0m\n",
      "\u001b[1;32m~\\Anaconda3\\lib\\site-packages\\pandas\\core\\accessor.py\u001b[0m in \u001b[0;36m__get__\u001b[1;34m(self, obj, cls)\u001b[0m\n\u001b[0;32m    179\u001b[0m             \u001b[1;31m# we're accessing the attribute of the class, i.e., Dataset.geo\u001b[0m\u001b[1;33m\u001b[0m\u001b[1;33m\u001b[0m\u001b[1;33m\u001b[0m\u001b[0m\n\u001b[0;32m    180\u001b[0m             \u001b[1;32mreturn\u001b[0m \u001b[0mself\u001b[0m\u001b[1;33m.\u001b[0m\u001b[0m_accessor\u001b[0m\u001b[1;33m\u001b[0m\u001b[1;33m\u001b[0m\u001b[0m\n\u001b[1;32m--> 181\u001b[1;33m         \u001b[0maccessor_obj\u001b[0m \u001b[1;33m=\u001b[0m \u001b[0mself\u001b[0m\u001b[1;33m.\u001b[0m\u001b[0m_accessor\u001b[0m\u001b[1;33m(\u001b[0m\u001b[0mobj\u001b[0m\u001b[1;33m)\u001b[0m\u001b[1;33m\u001b[0m\u001b[1;33m\u001b[0m\u001b[0m\n\u001b[0m\u001b[0;32m    182\u001b[0m         \u001b[1;31m# Replace the property with the accessor object. Inspired by:\u001b[0m\u001b[1;33m\u001b[0m\u001b[1;33m\u001b[0m\u001b[1;33m\u001b[0m\u001b[0m\n\u001b[0;32m    183\u001b[0m         \u001b[1;31m# https://www.pydanny.com/cached-property.html\u001b[0m\u001b[1;33m\u001b[0m\u001b[1;33m\u001b[0m\u001b[1;33m\u001b[0m\u001b[0m\n",
      "\u001b[1;32m~\\Anaconda3\\lib\\site-packages\\pandas\\core\\strings\\accessor.py\u001b[0m in \u001b[0;36m__init__\u001b[1;34m(self, data)\u001b[0m\n\u001b[0;32m    166\u001b[0m         \u001b[1;32mfrom\u001b[0m \u001b[0mpandas\u001b[0m\u001b[1;33m.\u001b[0m\u001b[0mcore\u001b[0m\u001b[1;33m.\u001b[0m\u001b[0marrays\u001b[0m\u001b[1;33m.\u001b[0m\u001b[0mstring_\u001b[0m \u001b[1;32mimport\u001b[0m \u001b[0mStringDtype\u001b[0m\u001b[1;33m\u001b[0m\u001b[1;33m\u001b[0m\u001b[0m\n\u001b[0;32m    167\u001b[0m \u001b[1;33m\u001b[0m\u001b[0m\n\u001b[1;32m--> 168\u001b[1;33m         \u001b[0mself\u001b[0m\u001b[1;33m.\u001b[0m\u001b[0m_inferred_dtype\u001b[0m \u001b[1;33m=\u001b[0m \u001b[0mself\u001b[0m\u001b[1;33m.\u001b[0m\u001b[0m_validate\u001b[0m\u001b[1;33m(\u001b[0m\u001b[0mdata\u001b[0m\u001b[1;33m)\u001b[0m\u001b[1;33m\u001b[0m\u001b[1;33m\u001b[0m\u001b[0m\n\u001b[0m\u001b[0;32m    169\u001b[0m         \u001b[0mself\u001b[0m\u001b[1;33m.\u001b[0m\u001b[0m_is_categorical\u001b[0m \u001b[1;33m=\u001b[0m \u001b[0mis_categorical_dtype\u001b[0m\u001b[1;33m(\u001b[0m\u001b[0mdata\u001b[0m\u001b[1;33m.\u001b[0m\u001b[0mdtype\u001b[0m\u001b[1;33m)\u001b[0m\u001b[1;33m\u001b[0m\u001b[1;33m\u001b[0m\u001b[0m\n\u001b[0;32m    170\u001b[0m         \u001b[0mself\u001b[0m\u001b[1;33m.\u001b[0m\u001b[0m_is_string\u001b[0m \u001b[1;33m=\u001b[0m \u001b[0misinstance\u001b[0m\u001b[1;33m(\u001b[0m\u001b[0mdata\u001b[0m\u001b[1;33m.\u001b[0m\u001b[0mdtype\u001b[0m\u001b[1;33m,\u001b[0m \u001b[0mStringDtype\u001b[0m\u001b[1;33m)\u001b[0m\u001b[1;33m\u001b[0m\u001b[1;33m\u001b[0m\u001b[0m\n",
      "\u001b[1;32m~\\Anaconda3\\lib\\site-packages\\pandas\\core\\strings\\accessor.py\u001b[0m in \u001b[0;36m_validate\u001b[1;34m(data)\u001b[0m\n\u001b[0;32m    223\u001b[0m \u001b[1;33m\u001b[0m\u001b[0m\n\u001b[0;32m    224\u001b[0m         \u001b[1;32mif\u001b[0m \u001b[0minferred_dtype\u001b[0m \u001b[1;32mnot\u001b[0m \u001b[1;32min\u001b[0m \u001b[0mallowed_types\u001b[0m\u001b[1;33m:\u001b[0m\u001b[1;33m\u001b[0m\u001b[1;33m\u001b[0m\u001b[0m\n\u001b[1;32m--> 225\u001b[1;33m             \u001b[1;32mraise\u001b[0m \u001b[0mAttributeError\u001b[0m\u001b[1;33m(\u001b[0m\u001b[1;34m\"Can only use .str accessor with string values!\"\u001b[0m\u001b[1;33m)\u001b[0m\u001b[1;33m\u001b[0m\u001b[1;33m\u001b[0m\u001b[0m\n\u001b[0m\u001b[0;32m    226\u001b[0m         \u001b[1;32mreturn\u001b[0m \u001b[0minferred_dtype\u001b[0m\u001b[1;33m\u001b[0m\u001b[1;33m\u001b[0m\u001b[0m\n\u001b[0;32m    227\u001b[0m \u001b[1;33m\u001b[0m\u001b[0m\n",
      "\u001b[1;31mAttributeError\u001b[0m: Can only use .str accessor with string values!"
     ]
    }
   ],
   "source": [
    "df[\"Monthly_Debt\"] = df[\"Monthly_Debt\"].str.replace(\",\",\"\").astype(float)\n",
    "df['Monthly_Debt'] = df['Monthly_Debt'].astype('float')\n"
   ]
  },
  {
   "cell_type": "code",
   "execution_count": 39,
   "metadata": {},
   "outputs": [
    {
     "ename": "AttributeError",
     "evalue": "Can only use .str accessor with string values!",
     "output_type": "error",
     "traceback": [
      "\u001b[1;31m---------------------------------------------------------------------------\u001b[0m",
      "\u001b[1;31mAttributeError\u001b[0m                            Traceback (most recent call last)",
      "\u001b[1;32m<ipython-input-39-19cfea2fad7a>\u001b[0m in \u001b[0;36m<module>\u001b[1;34m\u001b[0m\n\u001b[1;32m----> 1\u001b[1;33m \u001b[0mdf\u001b[0m\u001b[1;33m[\u001b[0m\u001b[1;34m'Monthly_Debt'\u001b[0m\u001b[1;33m]\u001b[0m \u001b[1;33m=\u001b[0m \u001b[0mdf\u001b[0m\u001b[1;33m[\u001b[0m\u001b[1;34m\"Monthly_Debt\"\u001b[0m\u001b[1;33m]\u001b[0m\u001b[1;33m.\u001b[0m\u001b[0mstr\u001b[0m\u001b[1;33m.\u001b[0m\u001b[0mreplace\u001b[0m\u001b[1;33m(\u001b[0m\u001b[1;34m\",\"\u001b[0m\u001b[1;33m,\u001b[0m\u001b[1;34m\"\"\u001b[0m\u001b[1;33m)\u001b[0m\u001b[1;33m.\u001b[0m\u001b[0mastype\u001b[0m\u001b[1;33m(\u001b[0m\u001b[0mfloat\u001b[0m\u001b[1;33m)\u001b[0m\u001b[1;33m\u001b[0m\u001b[1;33m\u001b[0m\u001b[0m\n\u001b[0m",
      "\u001b[1;32m~\\Anaconda3\\lib\\site-packages\\pandas\\core\\generic.py\u001b[0m in \u001b[0;36m__getattr__\u001b[1;34m(self, name)\u001b[0m\n\u001b[0;32m   5485\u001b[0m         ):\n\u001b[0;32m   5486\u001b[0m             \u001b[1;32mreturn\u001b[0m \u001b[0mself\u001b[0m\u001b[1;33m[\u001b[0m\u001b[0mname\u001b[0m\u001b[1;33m]\u001b[0m\u001b[1;33m\u001b[0m\u001b[1;33m\u001b[0m\u001b[0m\n\u001b[1;32m-> 5487\u001b[1;33m         \u001b[1;32mreturn\u001b[0m \u001b[0mobject\u001b[0m\u001b[1;33m.\u001b[0m\u001b[0m__getattribute__\u001b[0m\u001b[1;33m(\u001b[0m\u001b[0mself\u001b[0m\u001b[1;33m,\u001b[0m \u001b[0mname\u001b[0m\u001b[1;33m)\u001b[0m\u001b[1;33m\u001b[0m\u001b[1;33m\u001b[0m\u001b[0m\n\u001b[0m\u001b[0;32m   5488\u001b[0m \u001b[1;33m\u001b[0m\u001b[0m\n\u001b[0;32m   5489\u001b[0m     \u001b[1;32mdef\u001b[0m \u001b[0m__setattr__\u001b[0m\u001b[1;33m(\u001b[0m\u001b[0mself\u001b[0m\u001b[1;33m,\u001b[0m \u001b[0mname\u001b[0m\u001b[1;33m:\u001b[0m \u001b[0mstr\u001b[0m\u001b[1;33m,\u001b[0m \u001b[0mvalue\u001b[0m\u001b[1;33m)\u001b[0m \u001b[1;33m->\u001b[0m \u001b[1;32mNone\u001b[0m\u001b[1;33m:\u001b[0m\u001b[1;33m\u001b[0m\u001b[1;33m\u001b[0m\u001b[0m\n",
      "\u001b[1;32m~\\Anaconda3\\lib\\site-packages\\pandas\\core\\accessor.py\u001b[0m in \u001b[0;36m__get__\u001b[1;34m(self, obj, cls)\u001b[0m\n\u001b[0;32m    179\u001b[0m             \u001b[1;31m# we're accessing the attribute of the class, i.e., Dataset.geo\u001b[0m\u001b[1;33m\u001b[0m\u001b[1;33m\u001b[0m\u001b[1;33m\u001b[0m\u001b[0m\n\u001b[0;32m    180\u001b[0m             \u001b[1;32mreturn\u001b[0m \u001b[0mself\u001b[0m\u001b[1;33m.\u001b[0m\u001b[0m_accessor\u001b[0m\u001b[1;33m\u001b[0m\u001b[1;33m\u001b[0m\u001b[0m\n\u001b[1;32m--> 181\u001b[1;33m         \u001b[0maccessor_obj\u001b[0m \u001b[1;33m=\u001b[0m \u001b[0mself\u001b[0m\u001b[1;33m.\u001b[0m\u001b[0m_accessor\u001b[0m\u001b[1;33m(\u001b[0m\u001b[0mobj\u001b[0m\u001b[1;33m)\u001b[0m\u001b[1;33m\u001b[0m\u001b[1;33m\u001b[0m\u001b[0m\n\u001b[0m\u001b[0;32m    182\u001b[0m         \u001b[1;31m# Replace the property with the accessor object. Inspired by:\u001b[0m\u001b[1;33m\u001b[0m\u001b[1;33m\u001b[0m\u001b[1;33m\u001b[0m\u001b[0m\n\u001b[0;32m    183\u001b[0m         \u001b[1;31m# https://www.pydanny.com/cached-property.html\u001b[0m\u001b[1;33m\u001b[0m\u001b[1;33m\u001b[0m\u001b[1;33m\u001b[0m\u001b[0m\n",
      "\u001b[1;32m~\\Anaconda3\\lib\\site-packages\\pandas\\core\\strings\\accessor.py\u001b[0m in \u001b[0;36m__init__\u001b[1;34m(self, data)\u001b[0m\n\u001b[0;32m    166\u001b[0m         \u001b[1;32mfrom\u001b[0m \u001b[0mpandas\u001b[0m\u001b[1;33m.\u001b[0m\u001b[0mcore\u001b[0m\u001b[1;33m.\u001b[0m\u001b[0marrays\u001b[0m\u001b[1;33m.\u001b[0m\u001b[0mstring_\u001b[0m \u001b[1;32mimport\u001b[0m \u001b[0mStringDtype\u001b[0m\u001b[1;33m\u001b[0m\u001b[1;33m\u001b[0m\u001b[0m\n\u001b[0;32m    167\u001b[0m \u001b[1;33m\u001b[0m\u001b[0m\n\u001b[1;32m--> 168\u001b[1;33m         \u001b[0mself\u001b[0m\u001b[1;33m.\u001b[0m\u001b[0m_inferred_dtype\u001b[0m \u001b[1;33m=\u001b[0m \u001b[0mself\u001b[0m\u001b[1;33m.\u001b[0m\u001b[0m_validate\u001b[0m\u001b[1;33m(\u001b[0m\u001b[0mdata\u001b[0m\u001b[1;33m)\u001b[0m\u001b[1;33m\u001b[0m\u001b[1;33m\u001b[0m\u001b[0m\n\u001b[0m\u001b[0;32m    169\u001b[0m         \u001b[0mself\u001b[0m\u001b[1;33m.\u001b[0m\u001b[0m_is_categorical\u001b[0m \u001b[1;33m=\u001b[0m \u001b[0mis_categorical_dtype\u001b[0m\u001b[1;33m(\u001b[0m\u001b[0mdata\u001b[0m\u001b[1;33m.\u001b[0m\u001b[0mdtype\u001b[0m\u001b[1;33m)\u001b[0m\u001b[1;33m\u001b[0m\u001b[1;33m\u001b[0m\u001b[0m\n\u001b[0;32m    170\u001b[0m         \u001b[0mself\u001b[0m\u001b[1;33m.\u001b[0m\u001b[0m_is_string\u001b[0m \u001b[1;33m=\u001b[0m \u001b[0misinstance\u001b[0m\u001b[1;33m(\u001b[0m\u001b[0mdata\u001b[0m\u001b[1;33m.\u001b[0m\u001b[0mdtype\u001b[0m\u001b[1;33m,\u001b[0m \u001b[0mStringDtype\u001b[0m\u001b[1;33m)\u001b[0m\u001b[1;33m\u001b[0m\u001b[1;33m\u001b[0m\u001b[0m\n",
      "\u001b[1;32m~\\Anaconda3\\lib\\site-packages\\pandas\\core\\strings\\accessor.py\u001b[0m in \u001b[0;36m_validate\u001b[1;34m(data)\u001b[0m\n\u001b[0;32m    223\u001b[0m \u001b[1;33m\u001b[0m\u001b[0m\n\u001b[0;32m    224\u001b[0m         \u001b[1;32mif\u001b[0m \u001b[0minferred_dtype\u001b[0m \u001b[1;32mnot\u001b[0m \u001b[1;32min\u001b[0m \u001b[0mallowed_types\u001b[0m\u001b[1;33m:\u001b[0m\u001b[1;33m\u001b[0m\u001b[1;33m\u001b[0m\u001b[0m\n\u001b[1;32m--> 225\u001b[1;33m             \u001b[1;32mraise\u001b[0m \u001b[0mAttributeError\u001b[0m\u001b[1;33m(\u001b[0m\u001b[1;34m\"Can only use .str accessor with string values!\"\u001b[0m\u001b[1;33m)\u001b[0m\u001b[1;33m\u001b[0m\u001b[1;33m\u001b[0m\u001b[0m\n\u001b[0m\u001b[0;32m    226\u001b[0m         \u001b[1;32mreturn\u001b[0m \u001b[0minferred_dtype\u001b[0m\u001b[1;33m\u001b[0m\u001b[1;33m\u001b[0m\u001b[0m\n\u001b[0;32m    227\u001b[0m \u001b[1;33m\u001b[0m\u001b[0m\n",
      "\u001b[1;31mAttributeError\u001b[0m: Can only use .str accessor with string values!"
     ]
    }
   ],
   "source": [
    "df['Monthly_Debt'] = df[\"Monthly_Debt\"].str.replace(\",\",\"\").astype(float)\n"
   ]
  },
  {
   "cell_type": "markdown",
   "metadata": {
    "colab_type": "text",
    "id": "HMh4DByX7jki"
   },
   "source": [
    "Convert number strings with commas to float"
   ]
  },
  {
   "cell_type": "code",
   "execution_count": 40,
   "metadata": {
    "colab": {
     "base_uri": "https://localhost:8080/",
     "height": 389
    },
    "colab_type": "code",
    "id": "G5aN2JC3oyms",
    "outputId": "2ec588d0-511f-4ac3-99bb-a8a30dd93fe3"
   },
   "outputs": [
    {
     "data": {
      "text/plain": [
       "Loan_ID                          object\n",
       "Customer_ID                      object\n",
       "Loan_Status                      object\n",
       "Current_Loan_Amount               int64\n",
       "Term                             object\n",
       "Credit_Score                    float64\n",
       "Years_in_current_job            float64\n",
       "Home_Ownership                   object\n",
       "Annual_Income                   float64\n",
       "Purpose                          object\n",
       "Monthly_Debt                    float64\n",
       "Years_of_Credit_History         float64\n",
       "Months_since_last_delinquent    float64\n",
       "Number_of_Open_Accounts           int64\n",
       "Number_of_Credit_Problems         int64\n",
       "Current_Credit_Balance            int64\n",
       "Maximum_Open_Credit               int64\n",
       "Bankruptcies                    float64\n",
       "Tax_Liens                       float64\n",
       "naCount                           int64\n",
       "dtype: object"
      ]
     },
     "execution_count": 40,
     "metadata": {},
     "output_type": "execute_result"
    }
   ],
   "source": [
    "df.dtypes"
   ]
  },
  {
   "cell_type": "code",
   "execution_count": 41,
   "metadata": {
    "colab": {
     "base_uri": "https://localhost:8080/",
     "height": 389
    },
    "colab_type": "code",
    "id": "AjqXD44Q-aYq",
    "outputId": "4ebe5fb9-378e-4814-a8bd-203cb5ad7db7"
   },
   "outputs": [
    {
     "data": {
      "text/plain": [
       "Loan_ID                             0\n",
       "Customer_ID                         0\n",
       "Loan_Status                         0\n",
       "Current_Loan_Amount                 0\n",
       "Term                                0\n",
       "Credit_Score                    16088\n",
       "Years_in_current_job             3817\n",
       "Home_Ownership                      0\n",
       "Annual_Income                   16088\n",
       "Purpose                             0\n",
       "Monthly_Debt                        0\n",
       "Years_of_Credit_History             0\n",
       "Months_since_last_delinquent    48506\n",
       "Number_of_Open_Accounts             0\n",
       "Number_of_Credit_Problems           0\n",
       "Current_Credit_Balance              0\n",
       "Maximum_Open_Credit                 0\n",
       "Bankruptcies                      192\n",
       "Tax_Liens                           8\n",
       "naCount                             0\n",
       "dtype: int64"
      ]
     },
     "execution_count": 41,
     "metadata": {},
     "output_type": "execute_result"
    }
   ],
   "source": [
    "df.isnull().sum()"
   ]
  },
  {
   "cell_type": "markdown",
   "metadata": {
    "colab_type": "text",
    "id": "p2bxbGEE9IU-"
   },
   "source": [
    "Fill in missing values with mean"
   ]
  },
  {
   "cell_type": "code",
   "execution_count": 42,
   "metadata": {
    "colab": {},
    "colab_type": "code",
    "id": "IwipG4SH-pmu"
   },
   "outputs": [],
   "source": [
    "for f in ['Credit_Score', \n",
    "          'Years_in_current_job', \n",
    "          'Annual_Income', \n",
    "          'Months_since_last_delinquent',\n",
    "          'Bankruptcies', 'Tax_Liens']:\n",
    "  df.loc[df[f].isnull(), f] = df[f].mean()\n"
   ]
  },
  {
   "cell_type": "code",
   "execution_count": 43,
   "metadata": {
    "colab": {
     "base_uri": "https://localhost:8080/",
     "height": 389
    },
    "colab_type": "code",
    "id": "QO9DbYJMC8Hm",
    "outputId": "73bb4c8d-458b-4906-ee41-6910a480c346"
   },
   "outputs": [
    {
     "data": {
      "text/plain": [
       "Loan_ID                         0\n",
       "Customer_ID                     0\n",
       "Loan_Status                     0\n",
       "Current_Loan_Amount             0\n",
       "Term                            0\n",
       "Credit_Score                    0\n",
       "Years_in_current_job            0\n",
       "Home_Ownership                  0\n",
       "Annual_Income                   0\n",
       "Purpose                         0\n",
       "Monthly_Debt                    0\n",
       "Years_of_Credit_History         0\n",
       "Months_since_last_delinquent    0\n",
       "Number_of_Open_Accounts         0\n",
       "Number_of_Credit_Problems       0\n",
       "Current_Credit_Balance          0\n",
       "Maximum_Open_Credit             0\n",
       "Bankruptcies                    0\n",
       "Tax_Liens                       0\n",
       "naCount                         0\n",
       "dtype: int64"
      ]
     },
     "execution_count": 43,
     "metadata": {},
     "output_type": "execute_result"
    }
   ],
   "source": [
    "df.isnull().sum()"
   ]
  },
  {
   "cell_type": "code",
   "execution_count": 44,
   "metadata": {
    "colab": {
     "base_uri": "https://localhost:8080/",
     "height": 389
    },
    "colab_type": "code",
    "id": "AGHT_ATM-zig",
    "outputId": "a16ceb31-faa1-43ad-8b80-71bbed5f6060"
   },
   "outputs": [
    {
     "data": {
      "text/plain": [
       "Loan_ID                          object\n",
       "Customer_ID                      object\n",
       "Loan_Status                      object\n",
       "Current_Loan_Amount               int64\n",
       "Term                             object\n",
       "Credit_Score                    float64\n",
       "Years_in_current_job            float64\n",
       "Home_Ownership                   object\n",
       "Annual_Income                   float64\n",
       "Purpose                          object\n",
       "Monthly_Debt                    float64\n",
       "Years_of_Credit_History         float64\n",
       "Months_since_last_delinquent    float64\n",
       "Number_of_Open_Accounts           int64\n",
       "Number_of_Credit_Problems         int64\n",
       "Current_Credit_Balance            int64\n",
       "Maximum_Open_Credit               int64\n",
       "Bankruptcies                    float64\n",
       "Tax_Liens                       float64\n",
       "naCount                           int64\n",
       "dtype: object"
      ]
     },
     "execution_count": 44,
     "metadata": {},
     "output_type": "execute_result"
    }
   ],
   "source": [
    "df.dtypes"
   ]
  },
  {
   "cell_type": "code",
   "execution_count": 45,
   "metadata": {
    "colab": {},
    "colab_type": "code",
    "id": "bYzNhBNYAkbG"
   },
   "outputs": [],
   "source": [
    "qtyFeatures = ['Current_Loan_Amount', \n",
    "               'Credit_Score', 'Years_in_current_job', \n",
    "               'Annual_Income', 'Monthly_Debt', \n",
    "               'Years_of_Credit_History',\n",
    "               'Months_since_last_delinquent', 'Number_of_Open_Accounts',\n",
    "               'Current_Credit_Balance',\n",
    "               'Maximum_Open_Credit', \n",
    "               'Number_of_Credit_Problems', 'Bankruptcies', 'Tax_Liens'\n",
    "              ]\n",
    "\n",
    "catFeatures = ['Term', 'Home_Ownership', 'Purpose']\n",
    "\n",
    "label = 'Loan_Status'"
   ]
  },
  {
   "cell_type": "code",
   "execution_count": 46,
   "metadata": {
    "colab": {
     "base_uri": "https://localhost:8080/",
     "height": 121
    },
    "colab_type": "code",
    "id": "v0xpj2jg_uP4",
    "outputId": "b4803867-6de5-4ec0-ccd2-bf93aeb3e979"
   },
   "outputs": [
    {
     "data": {
      "text/plain": [
       "Home_Ownership\n",
       "HaveMortgage       170\n",
       "Home Mortgage    43270\n",
       "Own Home          8075\n",
       "Rent             37393\n",
       "Name: Loan_ID, dtype: int64"
      ]
     },
     "execution_count": 46,
     "metadata": {},
     "output_type": "execute_result"
    }
   ],
   "source": [
    "df.groupby(['Home_Ownership'])['Loan_ID'].count()"
   ]
  },
  {
   "cell_type": "code",
   "execution_count": 47,
   "metadata": {
    "colab": {},
    "colab_type": "code",
    "id": "RNWKxYSx_3Ii"
   },
   "outputs": [],
   "source": [
    "df.loc[(df['Home_Ownership'] == 'HaveMortgage'), 'Home_Ownership'] = 'Home Mortgage' "
   ]
  },
  {
   "cell_type": "code",
   "execution_count": 48,
   "metadata": {
    "colab": {
     "base_uri": "https://localhost:8080/",
     "height": 88
    },
    "colab_type": "code",
    "id": "4dQprwsH_qPJ",
    "outputId": "64400843-9b26-4054-9dd7-446ac4271828"
   },
   "outputs": [
    {
     "data": {
      "text/plain": [
       "Term\n",
       "Long Term     21978\n",
       "Short Term    66930\n",
       "Name: Loan_ID, dtype: int64"
      ]
     },
     "execution_count": 48,
     "metadata": {},
     "output_type": "execute_result"
    }
   ],
   "source": [
    "df.groupby(['Term'])['Loan_ID'].count()"
   ]
  },
  {
   "cell_type": "code",
   "execution_count": 49,
   "metadata": {
    "colab": {
     "base_uri": "https://localhost:8080/",
     "height": 318
    },
    "colab_type": "code",
    "id": "XJ5EKynkqvXO",
    "outputId": "736d1471-a716-4186-e5a8-69722da89f46"
   },
   "outputs": [
    {
     "data": {
      "text/plain": [
       "Purpose\n",
       "Business Loan            1328\n",
       "Buy House                 559\n",
       "Buy a Car                1196\n",
       "Debt Consolidation      70445\n",
       "Educational Expenses       92\n",
       "Home Improvements        5206\n",
       "Medical Bills             955\n",
       "Other                    2850\n",
       "Take a Trip               454\n",
       "major_purchase            344\n",
       "moving                    124\n",
       "other                    4917\n",
       "renewable_energy            9\n",
       "small_business            248\n",
       "vacation                   82\n",
       "wedding                    99\n",
       "Name: Loan_ID, dtype: int64"
      ]
     },
     "execution_count": 49,
     "metadata": {},
     "output_type": "execute_result"
    }
   ],
   "source": [
    "df.groupby(['Purpose'])['Loan_ID'].count()"
   ]
  },
  {
   "cell_type": "code",
   "execution_count": 50,
   "metadata": {
    "colab": {},
    "colab_type": "code",
    "id": "9NE8HlCyrH_g"
   },
   "outputs": [],
   "source": [
    "df.loc[(df['Purpose'] == 'other'), 'Purpose'] = 'Other' "
   ]
  },
  {
   "cell_type": "code",
   "execution_count": 51,
   "metadata": {
    "colab": {
     "base_uri": "https://localhost:8080/",
     "height": 35
    },
    "colab_type": "code",
    "id": "QKT4rrX4sSxa",
    "outputId": "ec1664b8-ac60-4668-af87-5b4b3519ffc7"
   },
   "outputs": [
    {
     "data": {
      "text/plain": [
       "array(['Fully Paid', 'Charged Off'], dtype=object)"
      ]
     },
     "execution_count": 51,
     "metadata": {},
     "output_type": "execute_result"
    }
   ],
   "source": [
    "df['Loan_Status'].unique()"
   ]
  },
  {
   "cell_type": "markdown",
   "metadata": {
    "colab_type": "text",
    "id": "FRLboxQdLDhm"
   },
   "source": [
    "**Preparing X and y using pandas:**"
   ]
  },
  {
   "cell_type": "code",
   "execution_count": 52,
   "metadata": {
    "colab": {},
    "colab_type": "code",
    "id": "gQLOneYHJhfW"
   },
   "outputs": [],
   "source": [
    "X_encoded = encoder(df, catFeatures, qtyFeatures)\n",
    "\n",
    "\"\"\"\n",
    "The code `le = LabelEncoder() y_encoded = le.fit_transform(df[label])` \n",
    "converts a categorical variable in a pandas DataFrame to a numerical \n",
    "variable using label encoding.\n",
    "\n",
    "Label encoding is a simple but effective way to encode categorical\n",
    "variables. It works by assigning a unique integer value to each category in the variable. For example, if the categorical variable is \"Color\" and the categories are \"Red\", \"Green\", and \"Blue\", then label encoding would assign the value 0 to \"Red\", the value 1 to \"Green\", and the value 2 to \"Blue\".\n",
    "\n",
    "To use label encoding in Python, we can use the `LabelEncoder` \n",
    "class from the `scikit-learn` library. The `LabelEncoder` class has \n",
    "two methods: `fit()` and `transform()`.\n",
    "\n",
    "The `fit()` method takes a categorical variable as input and \n",
    "learns the unique categories in the variable. It also assigns a unique \n",
    "integer value to each category.\n",
    "\n",
    "The `transform()` method takes a categorical variable as input \n",
    "and converts it to a numerical variable using the label encoding scheme that was learned by the `fit()` method.\n",
    "\n",
    "The code `le = LabelEncoder() y_encoded = le.fit_transform(df[label])` \n",
    "creates a `LabelEncoder` object and fits it to the categorical variable `label` in the DataFrame `df`. The encoded variable is then stored in the variable `y_encoded`.\n",
    "\n",
    "Here is an example of how to use label encoding to encode the \n",
    "categorical variable `Color` in a pandas DataFrame:\n",
    "\n",
    "```python\n",
    "import pandas as pd\n",
    "from sklearn.preprocessing import LabelEncoder\n",
    "\n",
    "df = pd.DataFrame({'Color': ['Red', 'Green', 'Blue', 'Red', 'Green']})\n",
    "\n",
    "le = LabelEncoder()\n",
    "y_encoded = le.fit_transform(df['Color'])\n",
    "\n",
    "print(y_encoded)\n",
    "```\n",
    "\n",
    "Output:\n",
    "\n",
    "```\n",
    "[0 1 2 0 1]\n",
    "```\n",
    "\n",
    "Label encoding is a simple and effective way\n",
    "to encode categorical variables, but it is important \n",
    "to note that it does not preserve the order of the categories. \n",
    "\n",
    "This means that we should not use label encoding if the order of \n",
    "the categories is important.\n",
    "\n",
    "\n",
    "\n",
    "\"\"\"\n",
    "le = LabelEncoder()\n",
    "y_encoded = le.fit_transform(df[label])\n",
    "\n",
    "\n",
    "\n",
    "\n",
    "\n",
    "\n"
   ]
  },
  {
   "cell_type": "code",
   "execution_count": 53,
   "metadata": {
    "colab": {
     "base_uri": "https://localhost:8080/",
     "height": 273
    },
    "colab_type": "code",
    "id": "QNJ2anZsqWRQ",
    "outputId": "6ac7c583-8e7e-44e4-94ed-f8caf7eee283"
   },
   "outputs": [
    {
     "data": {
      "text/html": [
       "<div>\n",
       "<style scoped>\n",
       "    .dataframe tbody tr th:only-of-type {\n",
       "        vertical-align: middle;\n",
       "    }\n",
       "\n",
       "    .dataframe tbody tr th {\n",
       "        vertical-align: top;\n",
       "    }\n",
       "\n",
       "    .dataframe thead th {\n",
       "        text-align: right;\n",
       "    }\n",
       "</style>\n",
       "<table border=\"1\" class=\"dataframe\">\n",
       "  <thead>\n",
       "    <tr style=\"text-align: right;\">\n",
       "      <th></th>\n",
       "      <th>Current_Loan_Amount</th>\n",
       "      <th>Credit_Score</th>\n",
       "      <th>Years_in_current_job</th>\n",
       "      <th>Annual_Income</th>\n",
       "      <th>Monthly_Debt</th>\n",
       "      <th>Years_of_Credit_History</th>\n",
       "      <th>Months_since_last_delinquent</th>\n",
       "      <th>Number_of_Open_Accounts</th>\n",
       "      <th>Current_Credit_Balance</th>\n",
       "      <th>Maximum_Open_Credit</th>\n",
       "      <th>...</th>\n",
       "      <th>Purpose_Home Improvements</th>\n",
       "      <th>Purpose_Medical Bills</th>\n",
       "      <th>Purpose_Other</th>\n",
       "      <th>Purpose_Take a Trip</th>\n",
       "      <th>Purpose_major_purchase</th>\n",
       "      <th>Purpose_moving</th>\n",
       "      <th>Purpose_renewable_energy</th>\n",
       "      <th>Purpose_small_business</th>\n",
       "      <th>Purpose_vacation</th>\n",
       "      <th>Purpose_wedding</th>\n",
       "    </tr>\n",
       "  </thead>\n",
       "  <tbody>\n",
       "    <tr>\n",
       "      <th>49725</th>\n",
       "      <td>11731</td>\n",
       "      <td>746.000000</td>\n",
       "      <td>4.0</td>\n",
       "      <td>50025.000000</td>\n",
       "      <td>355.18</td>\n",
       "      <td>11.5</td>\n",
       "      <td>35.080466</td>\n",
       "      <td>12</td>\n",
       "      <td>17391</td>\n",
       "      <td>37081</td>\n",
       "      <td>...</td>\n",
       "      <td>0</td>\n",
       "      <td>0</td>\n",
       "      <td>0</td>\n",
       "      <td>0</td>\n",
       "      <td>0</td>\n",
       "      <td>0</td>\n",
       "      <td>0</td>\n",
       "      <td>0</td>\n",
       "      <td>0</td>\n",
       "      <td>0</td>\n",
       "    </tr>\n",
       "    <tr>\n",
       "      <th>20733</th>\n",
       "      <td>24613</td>\n",
       "      <td>1163.139371</td>\n",
       "      <td>6.0</td>\n",
       "      <td>72404.505136</td>\n",
       "      <td>542.29</td>\n",
       "      <td>17.6</td>\n",
       "      <td>73.000000</td>\n",
       "      <td>7</td>\n",
       "      <td>14123</td>\n",
       "      <td>16954</td>\n",
       "      <td>...</td>\n",
       "      <td>0</td>\n",
       "      <td>0</td>\n",
       "      <td>0</td>\n",
       "      <td>0</td>\n",
       "      <td>0</td>\n",
       "      <td>0</td>\n",
       "      <td>0</td>\n",
       "      <td>0</td>\n",
       "      <td>0</td>\n",
       "      <td>0</td>\n",
       "    </tr>\n",
       "    <tr>\n",
       "      <th>15639</th>\n",
       "      <td>99999999</td>\n",
       "      <td>742.000000</td>\n",
       "      <td>3.0</td>\n",
       "      <td>64760.000000</td>\n",
       "      <td>582.84</td>\n",
       "      <td>26.8</td>\n",
       "      <td>35.080466</td>\n",
       "      <td>11</td>\n",
       "      <td>8880</td>\n",
       "      <td>22711</td>\n",
       "      <td>...</td>\n",
       "      <td>0</td>\n",
       "      <td>0</td>\n",
       "      <td>0</td>\n",
       "      <td>0</td>\n",
       "      <td>0</td>\n",
       "      <td>0</td>\n",
       "      <td>0</td>\n",
       "      <td>0</td>\n",
       "      <td>0</td>\n",
       "      <td>0</td>\n",
       "    </tr>\n",
       "    <tr>\n",
       "      <th>68632</th>\n",
       "      <td>11863</td>\n",
       "      <td>734.000000</td>\n",
       "      <td>10.0</td>\n",
       "      <td>69202.000000</td>\n",
       "      <td>859.26</td>\n",
       "      <td>30.3</td>\n",
       "      <td>35.080466</td>\n",
       "      <td>7</td>\n",
       "      <td>9959</td>\n",
       "      <td>16995</td>\n",
       "      <td>...</td>\n",
       "      <td>0</td>\n",
       "      <td>0</td>\n",
       "      <td>0</td>\n",
       "      <td>0</td>\n",
       "      <td>0</td>\n",
       "      <td>0</td>\n",
       "      <td>0</td>\n",
       "      <td>0</td>\n",
       "      <td>0</td>\n",
       "      <td>0</td>\n",
       "    </tr>\n",
       "    <tr>\n",
       "      <th>97429</th>\n",
       "      <td>13719</td>\n",
       "      <td>724.000000</td>\n",
       "      <td>1.0</td>\n",
       "      <td>34297.000000</td>\n",
       "      <td>777.38</td>\n",
       "      <td>13.6</td>\n",
       "      <td>2.000000</td>\n",
       "      <td>12</td>\n",
       "      <td>6720</td>\n",
       "      <td>53335</td>\n",
       "      <td>...</td>\n",
       "      <td>1</td>\n",
       "      <td>0</td>\n",
       "      <td>0</td>\n",
       "      <td>0</td>\n",
       "      <td>0</td>\n",
       "      <td>0</td>\n",
       "      <td>0</td>\n",
       "      <td>0</td>\n",
       "      <td>0</td>\n",
       "      <td>0</td>\n",
       "    </tr>\n",
       "  </tbody>\n",
       "</table>\n",
       "<p>5 rows × 30 columns</p>\n",
       "</div>"
      ],
      "text/plain": [
       "       Current_Loan_Amount  Credit_Score  Years_in_current_job  Annual_Income  \\\n",
       "49725                11731    746.000000                   4.0   50025.000000   \n",
       "20733                24613   1163.139371                   6.0   72404.505136   \n",
       "15639             99999999    742.000000                   3.0   64760.000000   \n",
       "68632                11863    734.000000                  10.0   69202.000000   \n",
       "97429                13719    724.000000                   1.0   34297.000000   \n",
       "\n",
       "       Monthly_Debt  Years_of_Credit_History  Months_since_last_delinquent  \\\n",
       "49725        355.18                     11.5                     35.080466   \n",
       "20733        542.29                     17.6                     73.000000   \n",
       "15639        582.84                     26.8                     35.080466   \n",
       "68632        859.26                     30.3                     35.080466   \n",
       "97429        777.38                     13.6                      2.000000   \n",
       "\n",
       "       Number_of_Open_Accounts  Current_Credit_Balance  Maximum_Open_Credit  \\\n",
       "49725                       12                   17391                37081   \n",
       "20733                        7                   14123                16954   \n",
       "15639                       11                    8880                22711   \n",
       "68632                        7                    9959                16995   \n",
       "97429                       12                    6720                53335   \n",
       "\n",
       "       ...  Purpose_Home Improvements  Purpose_Medical Bills  Purpose_Other  \\\n",
       "49725  ...                          0                      0              0   \n",
       "20733  ...                          0                      0              0   \n",
       "15639  ...                          0                      0              0   \n",
       "68632  ...                          0                      0              0   \n",
       "97429  ...                          1                      0              0   \n",
       "\n",
       "       Purpose_Take a Trip  Purpose_major_purchase  Purpose_moving  \\\n",
       "49725                    0                       0               0   \n",
       "20733                    0                       0               0   \n",
       "15639                    0                       0               0   \n",
       "68632                    0                       0               0   \n",
       "97429                    0                       0               0   \n",
       "\n",
       "       Purpose_renewable_energy  Purpose_small_business  Purpose_vacation  \\\n",
       "49725                         0                       0                 0   \n",
       "20733                         0                       0                 0   \n",
       "15639                         0                       0                 0   \n",
       "68632                         0                       0                 0   \n",
       "97429                         0                       0                 0   \n",
       "\n",
       "       Purpose_wedding  \n",
       "49725                0  \n",
       "20733                0  \n",
       "15639                0  \n",
       "68632                0  \n",
       "97429                0  \n",
       "\n",
       "[5 rows x 30 columns]"
      ]
     },
     "execution_count": 53,
     "metadata": {},
     "output_type": "execute_result"
    }
   ],
   "source": [
    "X_encoded.head()"
   ]
  },
  {
   "cell_type": "code",
   "execution_count": 54,
   "metadata": {
    "colab": {
     "base_uri": "https://localhost:8080/",
     "height": 35
    },
    "colab_type": "code",
    "id": "7ubxBFXxs9-W",
    "outputId": "32319878-8a26-4d97-b2b9-d6278e64ccf9"
   },
   "outputs": [
    {
     "data": {
      "text/plain": [
       "array([1, 0, 1, ..., 0, 1, 1])"
      ]
     },
     "execution_count": 54,
     "metadata": {},
     "output_type": "execute_result"
    }
   ],
   "source": [
    "y_encoded"
   ]
  },
  {
   "cell_type": "markdown",
   "metadata": {
    "colab_type": "text",
    "id": "yCdWvNtBKxiS"
   },
   "source": [
    "Splitting X and y into training and testing sets"
   ]
  },
  {
   "cell_type": "code",
   "execution_count": 55,
   "metadata": {
    "colab": {},
    "colab_type": "code",
    "id": "fZYdqQ-dKlVC"
   },
   "outputs": [],
   "source": [
    "X_train, X_test, y_train, y_test = train_test_split(X_encoded, \n",
    "                                                    y_encoded, \n",
    "                                                    test_size = 0.2,\n",
    "                                                    random_state = 1)"
   ]
  },
  {
   "cell_type": "markdown",
   "metadata": {
    "colab_type": "text",
    "id": "ApHGmdXT_B9g"
   },
   "source": [
    "**Fit logistic regression**"
   ]
  },
  {
   "cell_type": "code",
   "execution_count": 58,
   "metadata": {
    "colab": {
     "base_uri": "https://localhost:8080/",
     "height": 546
    },
    "colab_type": "code",
    "id": "CZzZ5NT8_Azg",
    "outputId": "8c675832-f708-46e4-ea17-f1a0afe9f07e"
   },
   "outputs": [
    {
     "name": "stdout",
     "output_type": "stream",
     "text": [
      "Optimal Cutoff: [0.65140152]\n",
      "Accurcay: 0.6459903272972669\n",
      "AUC: 0.7271619341532423\n",
      "Log Loss: 0.48396355706437216\n",
      "Confusion Matrix:\n",
      " [[3140 1867]\n",
      " [4428 8347]]\n",
      "Recall: 0.653385518590998\n",
      "Precision: 0.8172116702565106\n"
     ]
    },
    {
     "data": {
      "image/png": "[encoded data removed]",
      "text/plain": [
       "<Figure size 432x288 with 1 Axes>"
      ]
     },
     "metadata": {
      "needs_background": "light"
     },
     "output_type": "display_data"
    }
   ],
   "source": [
    "logreg = LogisticRegression()\n",
    "model_training(logreg, X_train, y_train)\n",
    "\n",
    "plot_auc_curve(logreg, X_test, y_test)\n",
    "Find_Optimal_Cutoff(logreg, X_test, y_test)\n",
    "print_accurcay_metrics(logreg, X_test, y_test, 0.65)"
   ]
  },
  {
   "cell_type": "code",
   "execution_count": 60,
   "metadata": {
    "colab": {
     "base_uri": "https://localhost:8080/",
     "height": 725
    },
    "colab_type": "code",
    "id": "Exwea0v4DSsU",
    "outputId": "f9dce231-b587-47a9-a828-99ca3de885f2"
   },
   "outputs": [
    {
     "data": {
      "image/png": "[encoded data removed]",
      "text/plain": [
       "<Figure size 720x720 with 2 Axes>"
      ]
     },
     "metadata": {
      "needs_background": "light"
     },
     "output_type": "display_data"
    }
   ],
   "source": [
    "y_pred_prob = logreg.predict_proba(X_test)[:, 1]\n",
    "\n",
    "plot_calibration(y_test, y_pred_prob, 20, \"Logistic Regression\")"
   ]
  },
  {
   "cell_type": "code",
   "execution_count": 62,
   "metadata": {
    "colab": {
     "base_uri": "https://localhost:8080/",
     "height": 725
    },
    "colab_type": "code",
    "id": "cDOVTE8eDj8Y",
    "outputId": "03f4738e-4eb7-4ba7-de35-354f37706d2c"
   },
   "outputs": [
    {
     "data": {
      "image/png": "[encoded data removed]",
      "text/plain": [
       "<Figure size 720x720 with 2 Axes>"
      ]
     },
     "metadata": {
      "needs_background": "light"
     },
     "output_type": "display_data"
    },
    {
     "data": {
      "text/plain": [
       "'\\nIf the model is not well-calibrated, there are a few things\\nyou can do:\\n\\nCollect more training data.\\nUse a regularization technique to prevent overfitting.\\nSimplify the model.\\nCalibrate the model using a method such as Platt scaling or\\nisotonic regression.\\n'"
      ]
     },
     "execution_count": 62,
     "metadata": {},
     "output_type": "execute_result"
    }
   ],
   "source": [
    "y_pred_prob = logreg.predict_proba(X_train)[:, 1]\n",
    "\n",
    "plot_calibration(y_train, y_pred_prob, 20, \"Logistic Regression\")\n",
    "\"\"\"\n",
    "If the model is not well-calibrated, there are a few things\n",
    "you can do:\n",
    "\n",
    "Collect more training data.\n",
    "Use a regularization technique to prevent overfitting.\n",
    "Simplify the model.\n",
    "Calibrate the model using a method such as Platt scaling or\n",
    "isotonic regression.\n",
    "\"\"\""
   ]
  },
  {
   "cell_type": "code",
   "execution_count": 63,
   "metadata": {
    "colab": {
     "base_uri": "https://localhost:8080/",
     "height": 156
    },
    "colab_type": "code",
    "id": "gTQ17szmvNZo",
    "outputId": "727e5f8a-6a49-4703-b664-b429527c5376"
   },
   "outputs": [
    {
     "name": "stdout",
     "output_type": "stream",
     "text": [
      "Accurcay: 0.6443916429997469\n",
      "AUC: 0.7218433715982926\n",
      "Log Loss: 0.49279784499498114\n",
      "Confusion Matrix:\n",
      " [[12659  7505]\n",
      " [17788 33174]]\n",
      "Recall: 0.6509556139868922\n",
      "Precision: 0.8155067725361981\n"
     ]
    }
   ],
   "source": [
    "print_accurcay_metrics(logreg, X_train, y_train, 0.65)"
   ]
  },
  {
   "cell_type": "markdown",
   "metadata": {
    "colab_type": "text",
    "id": "D2B1l3jEE-iU"
   },
   "source": [
    "**Fit Logistic regression with L2 regularization (Ridge)**"
   ]
  },
  {
   "cell_type": "code",
   "execution_count": 64,
   "metadata": {
    "colab": {
     "base_uri": "https://localhost:8080/",
     "height": 636
    },
    "colab_type": "code",
    "id": "T4raC22eEdfw",
    "outputId": "3db9dd49-c16a-4f7e-aed6-d3b71d765e0f"
   },
   "outputs": [
    {
     "name": "stdout",
     "output_type": "stream",
     "text": [
      "Optimal Cutoff: [0.61144314]\n",
      "Accurcay: 0.6917107187043078\n",
      "AUC: 0.774842703580936\n",
      "Log Loss: 0.546761018208294\n",
      "Confusion Matrix:\n",
      " [[3352 1655]\n",
      " [3827 8948]]\n",
      "Recall: 0.7004305283757338\n",
      "Precision: 0.8439121003489578\n"
     ]
    },
    {
     "data": {
      "image/png": "[encoded data removed]",
      "text/plain": [
       "<Figure size 432x288 with 1 Axes>"
      ]
     },
     "metadata": {
      "needs_background": "light"
     },
     "output_type": "display_data"
    }
   ],
   "source": [
    "\n",
    "\"\"\"\n",
    "Ridge classification is a type of regularized linear regression \n",
    "that can be used for classification tasks. It is similar to \n",
    "logistic regression, but it adds a penalty term to the cost \n",
    "function that penalizes large model coefficients. This helps \n",
    "to prevent overfitting and improve the generalization performance of the model.\n",
    "\n",
    "Ridge classification is a good choice for classification tasks \n",
    "when the data is noisy or the number of features is large. It is\n",
    "also a good choice when the features are highly correlated.\n",
    "\n",
    "To use ridge classification, we first need to train the model on a \n",
    "set of labeled training data. Once the model is trained, we can use \n",
    "it to make predictions on new data.\n",
    "\n",
    "Here is an example of how to use ridge classification to classify\n",
    "customer churn data:\n",
    "\n",
    "```python\n",
    "import numpy as np\n",
    "import pandas as pd\n",
    "from sklearn.model_selection import train_test_split\n",
    "from sklearn.linear_model import RidgeClassifier\n",
    "\n",
    "# Load the data\n",
    "df = pd.read_csv('customer_churn_data.csv')\n",
    "\n",
    "# Split the data into training and test sets\n",
    "X_train, X_test, y_train, y_test = train_test_split(df, df['churn'],\n",
    "test_size=0.25)\n",
    "\n",
    "# Create a ridge classifier model\n",
    "ridge = RidgeClassifier(alpha=1.0)\n",
    "\n",
    "# Train the model\n",
    "ridge.fit(X_train, y_train)\n",
    "\n",
    "# Make predictions on the test set\n",
    "y_pred = ridge.predict(X_test)\n",
    "\n",
    "# Evaluate the model's performance\n",
    "accuracy = accuracy_score(y_test, y_pred)\n",
    "\n",
    "print('Accuracy:', accuracy)\n",
    "```\n",
    "\n",
    "In this example, we are using the `RidgeClassifier()` \n",
    "class from the `scikit-learn` library to create a ridge \n",
    "classifier model. We are setting the `alpha` parameter to 1.0, \n",
    "but this parameter can be tuned to improve the model's performance.\n",
    "\n",
    "Once the model is trained, we can use it to make predictions\n",
    "on the test set. We then evaluate the model's performance using \n",
    "the `accuracy_score()` function.\n",
    "\n",
    "Ridge classification is a powerful tool for classification tasks.\n",
    "It is easy to use and can be effective for a wide range of problems.\n",
    "\"\"\"\n",
    "\n",
    "\n",
    "ridge = RidgeClassifier(alpha=1.0)\n",
    "model_training(ridge, X_train, y_train)\n",
    "\n",
    "plot_auc_curve(ridge, X_test, y_test)\n",
    "Find_Optimal_Cutoff(ridge, X_test, y_test)\n",
    "print_accurcay_metrics(ridge, X_test, y_test, 0.61)"
   ]
  },
  {
   "cell_type": "code",
   "execution_count": 65,
   "metadata": {
    "colab": {
     "base_uri": "https://localhost:8080/",
     "height": 725
    },
    "colab_type": "code",
    "id": "WZpS-puGEBz4",
    "outputId": "ea706ccf-71e3-4313-88b8-82c78d46c3a8"
   },
   "outputs": [
    {
     "data": {
      "image/png": "[encoded data removed]",
      "text/plain": [
       "<Figure size 720x720 with 2 Axes>"
      ]
     },
     "metadata": {
      "needs_background": "light"
     },
     "output_type": "display_data"
    }
   ],
   "source": [
    "y_pred_prob = logreg.predict_proba(X_test)[:, 1]\n",
    "\n",
    "plot_calibration(y_test, y_pred_prob, 20, \"Ridge\")"
   ]
  },
  {
   "cell_type": "code",
   "execution_count": 66,
   "metadata": {
    "colab": {
     "base_uri": "https://localhost:8080/",
     "height": 17763
    },
    "colab_type": "code",
    "id": "zB9AmTI1F3Ki",
    "outputId": "084f59e0-4513-4ad7-cc9e-4244dd7fdc61"
   },
   "outputs": [
    {
     "data": {
      "image/png": "[encoded data removed]",
      "text/plain": [
       "<Figure size 432x288 with 1 Axes>"
      ]
     },
     "metadata": {
      "needs_background": "light"
     },
     "output_type": "display_data"
    }
   ],
   "source": [
    "\n",
    "\"\"\"\n",
    "Ridge regression adds “squared magnitude” of \n",
    "coefficient as penalty term to the loss function.\n",
    "Here the highlighted part represents L2 regularization element.\n",
    "\n",
    "The code you provided is used to tune the alpha parameter of a\n",
    "ridge classifier model using cross-validation.\n",
    "\n",
    "The alpha parameter is a regularization parameter that controls\n",
    "the strength of the penalty on large model coefficients. A higher value of alpha will result in a more regularized model, which can help to prevent overfitting and improve the generalization performance of the model.\n",
    "\n",
    "The code works by iterating over a range of alpha values and \n",
    "training and evaluating a ridge classifier model for each value. \n",
    "The performance of the model is evaluated using the 5-fold cross-validation\n",
    "technique.\n",
    "\n",
    "The cross_val_score() function from the scikit-learn library is\n",
    "used to perform the cross-validation. The scoring parameter is set \n",
    "to roc_auc, which means that the area under the receiver operating \n",
    "characteristic (ROC) curve is used to evaluate the performance of the model.\n",
    "\n",
    "The average ROC AUC score for each alpha value is stored in the \n",
    "scores list.\n",
    "\n",
    "Once the code has finished running, the scores list will contain \n",
    "a list of ROC AUC scores for each alpha value. The best alpha value \n",
    "is the one that corresponds to the highest ROC AUC score.\n",
    "\n",
    "\n",
    "K-fold cross-validation is a resampling technique used to \n",
    "evaluate the performance of machine learning models on a limited\n",
    "data sample. It works by dividing the data sample into k subsets, \n",
    "or folds. The model is then trained and evaluated k times, using a\n",
    "different fold as the validation set each time. The performance metrics\n",
    "obtained from each fold are averaged to provide a more robust estimate \n",
    "of the model's generalization performance\n",
    "\n",
    "K-fold cross-validation is a popular technique for evaluating machine learning\n",
    "models because it is relatively simple to implement and it can be used with a\n",
    "variety of different models. It is also a good way to avoid overfitting, which\n",
    "is a common problem when training machine learning models on small datasets.\n",
    "\"\"\"\n",
    "\n",
    "alpha_range = np.arange(0.001, 5, 0.1)\n",
    "scores = []\n",
    "for lam in alpha_range:\n",
    "  ridge = RidgeClassifier(alpha=lam)\n",
    "  scores.append(cross_val_score(ridge, X_train, y_train, cv=5, scoring='roc_auc').mean())\n",
    "\n",
    "plt.plot(alpha_range, scores)\n",
    "plt.xlim([0.0, 5])\n",
    "#plt.ylim([0.0, 1.0])\n",
    "plt.title('L2 Regularization')\n",
    "plt.xlabel('Lambda')\n",
    "plt.ylabel('AUC')\n",
    "plt.grid(True)"
   ]
  },
  {
   "cell_type": "code",
   "execution_count": 67,
   "metadata": {
    "colab": {},
    "colab_type": "code",
    "id": "k7tUXY8YwVkE"
   },
   "outputs": [
    {
     "data": {
      "text/plain": [
       "[0.7709436674330263,\n",
       " 0.7709439448015283,\n",
       " 0.7709446065257987,\n",
       " 0.770944762215704,\n",
       " 0.7709452779766025,\n",
       " 0.7709457207416666,\n",
       " 0.7709460662061656,\n",
       " 0.7709462997946994,\n",
       " 0.7709468009544472,\n",
       " 0.7709469615220327,\n",
       " 0.77094721943528,\n",
       " 0.7709475648934674,\n",
       " 0.7709479833427154,\n",
       " 0.7709485817863742,\n",
       " 0.7709485525978369,\n",
       " 0.7709490148512523,\n",
       " 0.7709493895380349,\n",
       " 0.770949632776858,\n",
       " 0.7709506545632638,\n",
       " 0.7709511654715566,\n",
       " 0.7709515304122607,\n",
       " 0.7709516131225751,\n",
       " 0.7709517201655591,\n",
       " 0.7709521142765947,\n",
       " 0.7709525862290428,\n",
       " 0.7709531311820852,\n",
       " 0.7709535398806668,\n",
       " 0.7709534036674044,\n",
       " 0.7709536371980058,\n",
       " 0.770953822050499,\n",
       " 0.7709544983491879,\n",
       " 0.7709545129673243,\n",
       " 0.7709549119646856,\n",
       " 0.7709551698535216,\n",
       " 0.7709554228761076,\n",
       " 0.7709559824384685,\n",
       " 0.7709561722149981,\n",
       " 0.770956157615293,\n",
       " 0.7709563522127241,\n",
       " 0.7709567609165301,\n",
       " 0.77095676574678,\n",
       " 0.7709570284585066,\n",
       " 0.7709572961071183,\n",
       " 0.770957558890302,\n",
       " 0.7709578508411787,\n",
       " 0.7709578459898326,\n",
       " 0.7709582157368791,\n",
       " 0.7709583811263074,\n",
       " 0.7709585611321352,\n",
       " 0.7709586535657609]"
      ]
     },
     "execution_count": 67,
     "metadata": {},
     "output_type": "execute_result"
    }
   ],
   "source": [
    "scores"
   ]
  },
  {
   "cell_type": "markdown",
   "metadata": {
    "colab_type": "text",
    "id": "_yQdXyUNFl5y"
   },
   "source": [
    "**Fit Logistic regression with L1 regularization (Lasso)**"
   ]
  },
  {
   "cell_type": "code",
   "execution_count": 71,
   "metadata": {
    "colab": {
     "base_uri": "https://localhost:8080/",
     "height": 546
    },
    "colab_type": "code",
    "id": "ro5FMpfHFIPO",
    "outputId": "343dea43-341d-416f-82c9-35929bac31e2"
   },
   "outputs": [
    {
     "name": "stdout",
     "output_type": "stream",
     "text": [
      "Optimal Cutoff: [0.62913569]\n",
      "Accurcay: 0.4529861657856259\n",
      "AUC: 0.6409466668386372\n",
      "Log Loss: 0.5424248068932721\n",
      "Confusion Matrix:\n",
      " [[4794  213]\n",
      " [9514 3261]]\n",
      "Recall: 0.2552641878669276\n",
      "Precision: 0.9386873920552677\n"
     ]
    },
    {
     "data": {
      "image/png": "[encoded data removed]",
      "text/plain": [
       "<Figure size 432x288 with 1 Axes>"
      ]
     },
     "metadata": {
      "needs_background": "light"
     },
     "output_type": "display_data"
    }
   ],
   "source": [
    "\"\"\"\n",
    "Lasso Regression (Least Absolute Shrinkage and Selection Operator) adds \n",
    "“absolute value of magnitude” of coefficient as penalty term to the \n",
    "loss function.\n",
    "\n",
    "The code lasso = LogisticRegression(penalty='l1', C=1) creates\n",
    "a logistic regression model with L1 regularization.\n",
    "\n",
    "L1 regularization is a regularization technique that penalizes \n",
    "large model coefficients. This helps to prevent overfitting and \n",
    "improve the generalization performance of the model.\n",
    "\n",
    "The C parameter is the regularization strength parameter. A higher\n",
    "value of C will result in a more regularized model, which can help \n",
    "to prevent overfitting. However, a too high value of C can also lead\n",
    "to underfitting, which is when the model is too simple to learn the\n",
    "relationship between the input and output variables.\n",
    "\n",
    "The default value of C is 1.0, but this parameter can be tuned to\n",
    "improve the model's performance.\n",
    "\"\"\"\n",
    "\n",
    "\n",
    "lasso = LogisticRegression(penalty='l1', C=1,  solver='saga')\n",
    "model_training(lasso, X_train, y_train)\n",
    "\n",
    "plot_auc_curve(lasso, X_test, y_test)\n",
    "Find_Optimal_Cutoff(lasso, X_test, y_test)\n",
    "print_accurcay_metrics(lasso, X_test, y_test, 0.73)"
   ]
  },
  {
   "cell_type": "code",
   "execution_count": null,
   "metadata": {
    "colab": {
     "base_uri": "https://localhost:8080/",
     "height": 257
    },
    "colab_type": "code",
    "id": "Ll6iUlrIHFMI",
    "outputId": "bc53e195-8989-4d0a-95fe-b39b437d3ca0"
   },
   "outputs": [],
   "source": [
    "lambda_range = np.arange(0.001, 5, 0.1)\n",
    "scores = []\n",
    "for lam in lambda_range:\n",
    "  lasso = LogisticRegression(penalty='l1', C=1/lam, solver= 'saga')\n",
    "  scores.append(cross_val_score(lasso, X_train, y_train, cv=5, scoring='roc_auc').mean())\n",
    "\n",
    "\n"
   ]
  },
  {
   "cell_type": "code",
   "execution_count": 76,
   "metadata": {},
   "outputs": [
    {
     "ename": "ValueError",
     "evalue": "x and y must have same first dimension, but have shapes (50,) and (21,)",
     "output_type": "error",
     "traceback": [
      "\u001b[1;31m---------------------------------------------------------------------------\u001b[0m",
      "\u001b[1;31mValueError\u001b[0m                                Traceback (most recent call last)",
      "\u001b[1;32m<ipython-input-76-057c7a510074>\u001b[0m in \u001b[0;36m<module>\u001b[1;34m\u001b[0m\n\u001b[1;32m----> 1\u001b[1;33m \u001b[0mplt\u001b[0m\u001b[1;33m.\u001b[0m\u001b[0mplot\u001b[0m\u001b[1;33m(\u001b[0m\u001b[0mlambda_range\u001b[0m\u001b[1;33m,\u001b[0m \u001b[0mscores\u001b[0m\u001b[1;33m)\u001b[0m\u001b[1;33m\u001b[0m\u001b[1;33m\u001b[0m\u001b[0m\n\u001b[0m\u001b[0;32m      2\u001b[0m \u001b[0mplt\u001b[0m\u001b[1;33m.\u001b[0m\u001b[0mxlim\u001b[0m\u001b[1;33m(\u001b[0m\u001b[1;33m[\u001b[0m\u001b[1;36m0.0\u001b[0m\u001b[1;33m,\u001b[0m \u001b[1;36m5\u001b[0m\u001b[1;33m]\u001b[0m\u001b[1;33m)\u001b[0m\u001b[1;33m\u001b[0m\u001b[1;33m\u001b[0m\u001b[0m\n\u001b[0;32m      3\u001b[0m \u001b[1;31m#plt.ylim([0.0, 1.0])\u001b[0m\u001b[1;33m\u001b[0m\u001b[1;33m\u001b[0m\u001b[1;33m\u001b[0m\u001b[0m\n\u001b[0;32m      4\u001b[0m \u001b[0mplt\u001b[0m\u001b[1;33m.\u001b[0m\u001b[0mtitle\u001b[0m\u001b[1;33m(\u001b[0m\u001b[1;34m'L1 Regularization'\u001b[0m\u001b[1;33m)\u001b[0m\u001b[1;33m\u001b[0m\u001b[1;33m\u001b[0m\u001b[0m\n\u001b[0;32m      5\u001b[0m \u001b[0mplt\u001b[0m\u001b[1;33m.\u001b[0m\u001b[0mxlabel\u001b[0m\u001b[1;33m(\u001b[0m\u001b[1;34m'Lambda'\u001b[0m\u001b[1;33m)\u001b[0m\u001b[1;33m\u001b[0m\u001b[1;33m\u001b[0m\u001b[0m\n",
      "\u001b[1;32m~\\Anaconda3\\lib\\site-packages\\matplotlib\\pyplot.py\u001b[0m in \u001b[0;36mplot\u001b[1;34m(scalex, scaley, data, *args, **kwargs)\u001b[0m\n\u001b[0;32m   2787\u001b[0m     return gca().plot(\n\u001b[0;32m   2788\u001b[0m         *args, scalex=scalex, scaley=scaley, **({\"data\": data} if data\n\u001b[1;32m-> 2789\u001b[1;33m         is not None else {}), **kwargs)\n\u001b[0m\u001b[0;32m   2790\u001b[0m \u001b[1;33m\u001b[0m\u001b[0m\n\u001b[0;32m   2791\u001b[0m \u001b[1;33m\u001b[0m\u001b[0m\n",
      "\u001b[1;32m~\\Anaconda3\\lib\\site-packages\\matplotlib\\axes\\_axes.py\u001b[0m in \u001b[0;36mplot\u001b[1;34m(self, scalex, scaley, data, *args, **kwargs)\u001b[0m\n\u001b[0;32m   1664\u001b[0m         \"\"\"\n\u001b[0;32m   1665\u001b[0m         \u001b[0mkwargs\u001b[0m \u001b[1;33m=\u001b[0m \u001b[0mcbook\u001b[0m\u001b[1;33m.\u001b[0m\u001b[0mnormalize_kwargs\u001b[0m\u001b[1;33m(\u001b[0m\u001b[0mkwargs\u001b[0m\u001b[1;33m,\u001b[0m \u001b[0mmlines\u001b[0m\u001b[1;33m.\u001b[0m\u001b[0mLine2D\u001b[0m\u001b[1;33m.\u001b[0m\u001b[0m_alias_map\u001b[0m\u001b[1;33m)\u001b[0m\u001b[1;33m\u001b[0m\u001b[1;33m\u001b[0m\u001b[0m\n\u001b[1;32m-> 1666\u001b[1;33m         \u001b[0mlines\u001b[0m \u001b[1;33m=\u001b[0m \u001b[1;33m[\u001b[0m\u001b[1;33m*\u001b[0m\u001b[0mself\u001b[0m\u001b[1;33m.\u001b[0m\u001b[0m_get_lines\u001b[0m\u001b[1;33m(\u001b[0m\u001b[1;33m*\u001b[0m\u001b[0margs\u001b[0m\u001b[1;33m,\u001b[0m \u001b[0mdata\u001b[0m\u001b[1;33m=\u001b[0m\u001b[0mdata\u001b[0m\u001b[1;33m,\u001b[0m \u001b[1;33m**\u001b[0m\u001b[0mkwargs\u001b[0m\u001b[1;33m)\u001b[0m\u001b[1;33m]\u001b[0m\u001b[1;33m\u001b[0m\u001b[1;33m\u001b[0m\u001b[0m\n\u001b[0m\u001b[0;32m   1667\u001b[0m         \u001b[1;32mfor\u001b[0m \u001b[0mline\u001b[0m \u001b[1;32min\u001b[0m \u001b[0mlines\u001b[0m\u001b[1;33m:\u001b[0m\u001b[1;33m\u001b[0m\u001b[1;33m\u001b[0m\u001b[0m\n\u001b[0;32m   1668\u001b[0m             \u001b[0mself\u001b[0m\u001b[1;33m.\u001b[0m\u001b[0madd_line\u001b[0m\u001b[1;33m(\u001b[0m\u001b[0mline\u001b[0m\u001b[1;33m)\u001b[0m\u001b[1;33m\u001b[0m\u001b[1;33m\u001b[0m\u001b[0m\n",
      "\u001b[1;32m~\\Anaconda3\\lib\\site-packages\\matplotlib\\axes\\_base.py\u001b[0m in \u001b[0;36m__call__\u001b[1;34m(self, *args, **kwargs)\u001b[0m\n\u001b[0;32m    223\u001b[0m                 \u001b[0mthis\u001b[0m \u001b[1;33m+=\u001b[0m \u001b[0margs\u001b[0m\u001b[1;33m[\u001b[0m\u001b[1;36m0\u001b[0m\u001b[1;33m]\u001b[0m\u001b[1;33m,\u001b[0m\u001b[1;33m\u001b[0m\u001b[1;33m\u001b[0m\u001b[0m\n\u001b[0;32m    224\u001b[0m                 \u001b[0margs\u001b[0m \u001b[1;33m=\u001b[0m \u001b[0margs\u001b[0m\u001b[1;33m[\u001b[0m\u001b[1;36m1\u001b[0m\u001b[1;33m:\u001b[0m\u001b[1;33m]\u001b[0m\u001b[1;33m\u001b[0m\u001b[1;33m\u001b[0m\u001b[0m\n\u001b[1;32m--> 225\u001b[1;33m             \u001b[1;32myield\u001b[0m \u001b[1;32mfrom\u001b[0m \u001b[0mself\u001b[0m\u001b[1;33m.\u001b[0m\u001b[0m_plot_args\u001b[0m\u001b[1;33m(\u001b[0m\u001b[0mthis\u001b[0m\u001b[1;33m,\u001b[0m \u001b[0mkwargs\u001b[0m\u001b[1;33m)\u001b[0m\u001b[1;33m\u001b[0m\u001b[1;33m\u001b[0m\u001b[0m\n\u001b[0m\u001b[0;32m    226\u001b[0m \u001b[1;33m\u001b[0m\u001b[0m\n\u001b[0;32m    227\u001b[0m     \u001b[1;32mdef\u001b[0m \u001b[0mget_next_color\u001b[0m\u001b[1;33m(\u001b[0m\u001b[0mself\u001b[0m\u001b[1;33m)\u001b[0m\u001b[1;33m:\u001b[0m\u001b[1;33m\u001b[0m\u001b[1;33m\u001b[0m\u001b[0m\n",
      "\u001b[1;32m~\\Anaconda3\\lib\\site-packages\\matplotlib\\axes\\_base.py\u001b[0m in \u001b[0;36m_plot_args\u001b[1;34m(self, tup, kwargs)\u001b[0m\n\u001b[0;32m    389\u001b[0m             \u001b[0mx\u001b[0m\u001b[1;33m,\u001b[0m \u001b[0my\u001b[0m \u001b[1;33m=\u001b[0m \u001b[0mindex_of\u001b[0m\u001b[1;33m(\u001b[0m\u001b[0mtup\u001b[0m\u001b[1;33m[\u001b[0m\u001b[1;33m-\u001b[0m\u001b[1;36m1\u001b[0m\u001b[1;33m]\u001b[0m\u001b[1;33m)\u001b[0m\u001b[1;33m\u001b[0m\u001b[1;33m\u001b[0m\u001b[0m\n\u001b[0;32m    390\u001b[0m \u001b[1;33m\u001b[0m\u001b[0m\n\u001b[1;32m--> 391\u001b[1;33m         \u001b[0mx\u001b[0m\u001b[1;33m,\u001b[0m \u001b[0my\u001b[0m \u001b[1;33m=\u001b[0m \u001b[0mself\u001b[0m\u001b[1;33m.\u001b[0m\u001b[0m_xy_from_xy\u001b[0m\u001b[1;33m(\u001b[0m\u001b[0mx\u001b[0m\u001b[1;33m,\u001b[0m \u001b[0my\u001b[0m\u001b[1;33m)\u001b[0m\u001b[1;33m\u001b[0m\u001b[1;33m\u001b[0m\u001b[0m\n\u001b[0m\u001b[0;32m    392\u001b[0m \u001b[1;33m\u001b[0m\u001b[0m\n\u001b[0;32m    393\u001b[0m         \u001b[1;32mif\u001b[0m \u001b[0mself\u001b[0m\u001b[1;33m.\u001b[0m\u001b[0mcommand\u001b[0m \u001b[1;33m==\u001b[0m \u001b[1;34m'plot'\u001b[0m\u001b[1;33m:\u001b[0m\u001b[1;33m\u001b[0m\u001b[1;33m\u001b[0m\u001b[0m\n",
      "\u001b[1;32m~\\Anaconda3\\lib\\site-packages\\matplotlib\\axes\\_base.py\u001b[0m in \u001b[0;36m_xy_from_xy\u001b[1;34m(self, x, y)\u001b[0m\n\u001b[0;32m    268\u001b[0m         \u001b[1;32mif\u001b[0m \u001b[0mx\u001b[0m\u001b[1;33m.\u001b[0m\u001b[0mshape\u001b[0m\u001b[1;33m[\u001b[0m\u001b[1;36m0\u001b[0m\u001b[1;33m]\u001b[0m \u001b[1;33m!=\u001b[0m \u001b[0my\u001b[0m\u001b[1;33m.\u001b[0m\u001b[0mshape\u001b[0m\u001b[1;33m[\u001b[0m\u001b[1;36m0\u001b[0m\u001b[1;33m]\u001b[0m\u001b[1;33m:\u001b[0m\u001b[1;33m\u001b[0m\u001b[1;33m\u001b[0m\u001b[0m\n\u001b[0;32m    269\u001b[0m             raise ValueError(\"x and y must have same first dimension, but \"\n\u001b[1;32m--> 270\u001b[1;33m                              \"have shapes {} and {}\".format(x.shape, y.shape))\n\u001b[0m\u001b[0;32m    271\u001b[0m         \u001b[1;32mif\u001b[0m \u001b[0mx\u001b[0m\u001b[1;33m.\u001b[0m\u001b[0mndim\u001b[0m \u001b[1;33m>\u001b[0m \u001b[1;36m2\u001b[0m \u001b[1;32mor\u001b[0m \u001b[0my\u001b[0m\u001b[1;33m.\u001b[0m\u001b[0mndim\u001b[0m \u001b[1;33m>\u001b[0m \u001b[1;36m2\u001b[0m\u001b[1;33m:\u001b[0m\u001b[1;33m\u001b[0m\u001b[1;33m\u001b[0m\u001b[0m\n\u001b[0;32m    272\u001b[0m             raise ValueError(\"x and y can be no greater than 2-D, but have \"\n",
      "\u001b[1;31mValueError\u001b[0m: x and y must have same first dimension, but have shapes (50,) and (21,)"
     ]
    },
    {
     "data": {
      "image/png": "[encoded data removed]",
      "text/plain": [
       "<Figure size 432x288 with 1 Axes>"
      ]
     },
     "metadata": {
      "needs_background": "light"
     },
     "output_type": "display_data"
    }
   ],
   "source": [
    "plt.plot(lambda_range, scores)\n",
    "plt.xlim([0.0, 5])\n",
    "#plt.ylim([0.0, 1.0])\n",
    "plt.title('L1 Regularization')\n",
    "plt.xlabel('Lambda')\n",
    "plt.ylabel('AUC')\n",
    "plt.grid(True)"
   ]
  },
  {
   "cell_type": "markdown",
   "metadata": {
    "colab_type": "text",
    "id": "RmSzc5HtIAXU"
   },
   "source": [
    "**2-degree Polynomial Features**"
   ]
  },
  {
   "cell_type": "code",
   "execution_count": 77,
   "metadata": {
    "colab": {},
    "colab_type": "code",
    "id": "r07HEC9tH9x0"
   },
   "outputs": [],
   "source": [
    "\"\"\"\n",
    "The code `poly = PolynomialFeatures(2)` creates a polynomial\n",
    "features transformer object that will generate polynomial features \n",
    "of degree 2.\n",
    "\n",
    "Polynomial features are features that are created by raising existing\n",
    "features to a power. For example, if you have a single feature X, then \n",
    "a polynomial feature of degree 2 would be X^2.\n",
    "\n",
    "Polynomial features can be used to capture non-linear relationships \n",
    "between features. For example, if you have a feature that represents \n",
    "the square footage of a house and a feature that represents the number\n",
    "of bedrooms in a house, you could create a polynomial feature of degree\n",
    "2 to capture the relationship between these two features.\n",
    "\n",
    "Polynomial features can be used with any machine learning algorithm,\n",
    "but they are most commonly used with linear regression and logistic \n",
    "regression algorithms.\n",
    "\n",
    "Here is an example of how to use the `PolynomialFeatures` transformer\n",
    "to create polynomial features of degree 2 for a dataset with two features:\n",
    "\n",
    "```python\n",
    "import numpy as np\n",
    "from sklearn.preprocessing import PolynomialFeatures\n",
    "\n",
    "# Create the dataset\n",
    "X = np.array([[1, 2], [3, 4]])\n",
    "\n",
    "# Create the polynomial features transformer\n",
    "poly = PolynomialFeatures(2)\n",
    "\n",
    "# Transform the dataset\n",
    "X_poly = poly.fit_transform(X)\n",
    "\n",
    "# Print the transformed dataset\n",
    "print(X_poly)\n",
    "```\n",
    "\n",
    "Output:\n",
    "\n",
    "```\n",
    "[[ 1.  2.  1.  4.  4.  16.]\n",
    " [ 9. 12.  9.  16.  24.  36.]]\n",
    "```\n",
    "\n",
    "As you can see, the transformed dataset contains six features, \n",
    "which are the original two features plus the four polynomial \n",
    "features of degree 2.\n",
    "\n",
    "Polynomial features can be a powerful tool for capturing non-linear \n",
    "relationships between features and improving the performance of machine \n",
    "learning models. However, it is important to be aware that using too\n",
    "many polynomial features can lead to overfitting.\n",
    "\n",
    "\"\"\"\n",
    "\n",
    "poly = PolynomialFeatures(2)\n",
    "\n",
    "X_train_poly = poly.fit_transform(X_train)\n",
    "X_test_poly = poly.fit_transform(X_test)"
   ]
  },
  {
   "cell_type": "code",
   "execution_count": 67,
   "metadata": {
    "colab": {
     "base_uri": "https://localhost:8080/",
     "height": 52
    },
    "colab_type": "code",
    "id": "FhwTeUBSySSu",
    "outputId": "cd8ac876-4ba5-43c3-8bba-02a4c53e0189"
   },
   "outputs": [
    {
     "name": "stdout",
     "output_type": "stream",
     "text": [
      "(17782, 30)\n",
      "(17782, 496)\n"
     ]
    }
   ],
   "source": [
    "print(X_test.shape)\n",
    "print(X_test_poly.shape)"
   ]
  },
  {
   "cell_type": "code",
   "execution_count": 78,
   "metadata": {
    "colab": {
     "base_uri": "https://localhost:8080/",
     "height": 549
    },
    "colab_type": "code",
    "id": "NCwMFT4eISAk",
    "outputId": "94eb177a-43c8-40b1-8a10-388eed74a557"
   },
   "outputs": [
    {
     "name": "stdout",
     "output_type": "stream",
     "text": [
      "Optimal Cutoff: [1.5]\n",
      "Accurcay: 0.2815768754920706\n",
      "AUC: 0.5\n",
      "Log Loss: 0.6931471805599453\n",
      "Confusion Matrix:\n",
      " [[ 5007     0]\n",
      " [12775     0]]\n",
      "Recall: 0.0\n",
      "Precision: 0.0\n"
     ]
    },
    {
     "data": {
      "image/png": "[encoded data removed]",
      "text/plain": [
       "<Figure size 432x288 with 1 Axes>"
      ]
     },
     "metadata": {
      "needs_background": "light"
     },
     "output_type": "display_data"
    }
   ],
   "source": [
    "logreg_poly = LogisticRegression()\n",
    "model_training(logreg_poly, X_train_poly, y_train)\n",
    "\n",
    "plot_auc_curve(logreg_poly, X_test_poly, y_test)\n",
    "Find_Optimal_Cutoff(logreg_poly, X_test_poly, y_test)\n",
    "print_accurcay_metrics(logreg_poly, X_test_poly, y_test, 0.75)\n"
   ]
  },
  {
   "cell_type": "code",
   "execution_count": 79,
   "metadata": {
    "colab": {
     "base_uri": "https://localhost:8080/",
     "height": 549
    },
    "colab_type": "code",
    "id": "123bxsh3Gp3V",
    "outputId": "d2647ee2-5665-4653-d676-80ee974f48b0"
   },
   "outputs": [
    {
     "name": "stdout",
     "output_type": "stream",
     "text": [
      "Optimal Cutoff: [1.5]\n",
      "Accurcay: 0.283496892838062\n",
      "AUC: 0.5\n",
      "Log Loss: 0.6931471805599453\n",
      "Confusion Matrix:\n",
      " [[20164     0]\n",
      " [50962     0]]\n",
      "Recall: 0.0\n",
      "Precision: 0.0\n"
     ]
    },
    {
     "data": {
      "image/png": "[encoded data removed]",
      "text/plain": [
       "<Figure size 432x288 with 1 Axes>"
      ]
     },
     "metadata": {
      "needs_background": "light"
     },
     "output_type": "display_data"
    }
   ],
   "source": [
    "plot_auc_curve(logreg_poly, X_train_poly, y_train)\n",
    "Find_Optimal_Cutoff(logreg_poly, X_train_poly, y_train)\n",
    "print_accurcay_metrics(logreg_poly, X_train_poly, y_train, 0.75)\n"
   ]
  },
  {
   "cell_type": "code",
   "execution_count": 80,
   "metadata": {
    "colab": {
     "base_uri": "https://localhost:8080/",
     "height": 157
    },
    "colab_type": "code",
    "id": "kRW6gQWyxW4E",
    "outputId": "6afd0301-076d-41c7-c01d-b882c76d0bb2"
   },
   "outputs": [
    {
     "name": "stdout",
     "output_type": "stream",
     "text": [
      "Accurcay: 0.283496892838062\n",
      "AUC: 0.5\n",
      "Log Loss: 0.6931471805599453\n",
      "Confusion Matrix:\n",
      " [[20164     0]\n",
      " [50962     0]]\n",
      "Recall: 0.0\n",
      "Precision: 0.0\n"
     ]
    }
   ],
   "source": [
    "print_accurcay_metrics(logreg_poly, X_train_poly, y_train, 0.75)\n"
   ]
  },
  {
   "cell_type": "code",
   "execution_count": 81,
   "metadata": {
    "colab": {
     "base_uri": "https://localhost:8080/",
     "height": 549
    },
    "colab_type": "code",
    "id": "unePOw2bxWUy",
    "outputId": "40376d70-20f1-4692-d74f-0f9a760849ce"
   },
   "outputs": [
    {
     "name": "stdout",
     "output_type": "stream",
     "text": [
      "Optimal Cutoff: [0.6066277]\n",
      "Accurcay: 0.707906872117872\n",
      "AUC: 0.7856372976072247\n",
      "Log Loss: 0.5413509330961269\n",
      "Confusion Matrix:\n",
      " [[3267 1740]\n",
      " [3454 9321]]\n",
      "Recall: 0.729628180039139\n",
      "Precision: 0.842690534309737\n"
     ]
    },
    {
     "data": {
      "image/png": "[encoded data removed]",
      "text/plain": [
       "<Figure size 432x288 with 1 Axes>"
      ]
     },
     "metadata": {
      "needs_background": "light"
     },
     "output_type": "display_data"
    }
   ],
   "source": [
    "ridge_poly = RidgeClassifier(alpha=1.0)\n",
    "model_training(ridge_poly, X_train_poly, y_train)\n",
    "\n",
    "plot_auc_curve(ridge_poly, X_test_poly, y_test)\n",
    "Find_Optimal_Cutoff(ridge_poly, X_test_poly, y_test)\n",
    "print_accurcay_metrics(ridge_poly, X_test_poly, y_test, 0.6)"
   ]
  },
  {
   "cell_type": "code",
   "execution_count": 82,
   "metadata": {
    "colab": {
     "base_uri": "https://localhost:8080/",
     "height": 549
    },
    "colab_type": "code",
    "id": "u2hasMsUzD18",
    "outputId": "5c2f978e-cdc2-4605-bf82-37f99e4a1b5c"
   },
   "outputs": [
    {
     "name": "stdout",
     "output_type": "stream",
     "text": [
      "Optimal Cutoff: [0.50000064]\n",
      "Accurcay: 0.4260488134068159\n",
      "AUC: 0.6298381483144733\n",
      "Log Loss: 0.5929965647372998\n",
      "Confusion Matrix:\n",
      " [[ 5007     0]\n",
      " [10206  2569]]\n",
      "Recall: 0.2010958904109589\n",
      "Precision: 1.0\n"
     ]
    },
    {
     "data": {
      "image/png": "[encoded data removed]",
      "text/plain": [
       "<Figure size 432x288 with 1 Axes>"
      ]
     },
     "metadata": {
      "needs_background": "light"
     },
     "output_type": "display_data"
    }
   ],
   "source": [
    "lasso_poly = LogisticRegression(penalty='l1', C=1, solver='saga')\n",
    "model_training(lasso_poly, X_train_poly, y_train)\n",
    "\n",
    "plot_auc_curve(lasso_poly, X_test_poly, y_test)\n",
    "Find_Optimal_Cutoff(lasso_poly, X_test_poly, y_test)\n",
    "print_accurcay_metrics(lasso_poly, X_test_poly, y_test, 0.73)"
   ]
  },
  {
   "cell_type": "markdown",
   "metadata": {
    "colab_type": "text",
    "id": "THDA3loPJM80"
   },
   "source": [
    "**Ranfom Forest**"
   ]
  },
  {
   "cell_type": "code",
   "execution_count": 83,
   "metadata": {
    "colab": {
     "base_uri": "https://localhost:8080/",
     "height": 234
    },
    "colab_type": "code",
    "id": "F3YTK-3rPCV-",
    "outputId": "75e251ea-b479-46eb-e5bb-b0253a26f508"
   },
   "outputs": [
    {
     "data": {
      "image/png": "[encoded data removed]",
      "text/plain": [
       "<Figure size 432x288 with 1 Axes>"
      ]
     },
     "metadata": {
      "needs_background": "light"
     },
     "output_type": "display_data"
    }
   ],
   "source": [
    "import matplotlib.pyplot as plt\n",
    "\n",
    "from collections import OrderedDict\n",
    "from sklearn.ensemble import RandomForestClassifier\n",
    "\n",
    "import warnings\n",
    "warnings.filterwarnings(\"ignore\")\n",
    "\n",
    "RANDOM_STATE = 123\n",
    "\n",
    "X = X_encoded\n",
    "y = y_encoded\n",
    "\n",
    "# NOTE: Setting the `warm_start` construction parameter to `True` disables\n",
    "# support for parallelized ensembles but is necessary for tracking the OOB\n",
    "# error trajectory during training.\n",
    "\n",
    "\"\"\"\n",
    "\n",
    "\n",
    "1\n",
    "\n",
    "1\n",
    "That is correct. The max_features=\"sqrt\" parameter in the\n",
    "RandomForestClassifier() constructor specifies that the maximum \n",
    "number of features to consider when splitting a node in each tree\n",
    "will be equal to the square root of the total number of features.\n",
    "This is a heuristic that has been shown to work well in practice, \n",
    "and it is the default value for the max_features parameter.\n",
    "\n",
    "There are a few reasons why using the square root of the total \n",
    "number of features can be a good choice for the max_features parameter:\n",
    "\n",
    "It helps to prevent overfitting. By only considering a subset of \n",
    "features at each split, the trees in the random forest are less \n",
    "likely to overfit the training data.\n",
    "It improves the speed and efficiency of training. By considering \n",
    "fewer features at each split, the random forest can be trained more \n",
    "quickly.\n",
    "It can improve the generalization performance of the random forest. \n",
    "By considering a subset of features at each split, the random forest\n",
    "is more likely to learn features that are important for making \n",
    "predictions on new data.\n",
    "However, it is important to note that the square root of the \n",
    "total number of features is not a magic number. The best value\n",
    "for the max_features parameter may vary depending on the specific\n",
    "dataset and problem you are working on. If you are not sure what \n",
    "value to use, you can start with the default value of sqrt and \n",
    "then tune it as needed.\n",
    "\n",
    "Here is an example of how to tune the max_features parameter \n",
    "using a grid search:\n",
    "\"\"\"\n",
    "ensemble_clfs = [\n",
    "    (\"RandomForestClassifier, max_features='sqrt'\",\n",
    "        RandomForestClassifier(n_estimators=100,\n",
    "                               warm_start=True, oob_score=True,\n",
    "                               max_features=\"sqrt\",\n",
    "                               random_state=RANDOM_STATE)),\n",
    "    (\"RandomForestClassifier, max_features='log2'\",\n",
    "        RandomForestClassifier(n_estimators=100,\n",
    "                               warm_start=True, max_features='log2',\n",
    "                               oob_score=True,\n",
    "                               random_state=RANDOM_STATE)),\n",
    "    (\"RandomForestClassifier, max_features=None\",\n",
    "        RandomForestClassifier(n_estimators=100,\n",
    "                               warm_start=True, max_features=None,\n",
    "                               oob_score=True,\n",
    "                               random_state=RANDOM_STATE))\n",
    "]\n",
    "\n",
    "# Map a classifier name to a list of (<n_estimators>, <error rate>) pairs.\n",
    "error_rate = OrderedDict((label, []) for label, _ in ensemble_clfs)\n",
    "\n",
    "# Range of `n_estimators` values to explore.\n",
    "min_estimators = 1\n",
    "max_estimators = 10\n",
    "\n",
    "\n",
    "\"\"\"\n",
    "The clf.oob_score_ attribute in scikit-learn is the \n",
    "out-of-bag (OOB) score of the ensemble classifier.\n",
    "The OOB score is a measure of the classifier's generalization \n",
    "performance, and it is calculated using the samples that were \n",
    "not included in the training of the individual trees in the ensemble.\n",
    "\n",
    "The OOB score is a useful metric for evaluating the performance \n",
    "of ensemble classifiers because it is independent of the training\n",
    "data. This means that it can be used to get a more accurate estimate\n",
    "of the classifier's performance on new data.\n",
    "\"\"\"\n",
    "for label, clf in ensemble_clfs:\n",
    "    for i in range(min_estimators, max_estimators + 1, 1):\n",
    "        clf.set_params(n_estimators=i)\n",
    "        clf.fit(X, y)\n",
    "\n",
    "        # Record the OOB error for each `n_estimators=i` setting.\n",
    "        oob_error = 1 - clf.oob_score_\n",
    "        error_rate[label].append((i, oob_error))\n",
    "\n",
    "# Generate the \"OOB error rate\" vs. \"n_estimators\" plot.\n",
    "for label, clf_err in error_rate.items():\n",
    "    xs, ys = zip(*clf_err)\n",
    "    plt.plot(xs, ys, label=label)\n",
    "\n",
    "plt.xlim(min_estimators, max_estimators)\n",
    "plt.xlabel(\"n_estimators\")\n",
    "plt.ylabel(\"OOB error rate\")\n",
    "plt.legend(loc=\"upper right\")\n",
    "plt.show()"
   ]
  },
  {
   "cell_type": "code",
   "execution_count": 86,
   "metadata": {
    "colab": {
     "base_uri": "https://localhost:8080/",
     "height": 546
    },
    "colab_type": "code",
    "id": "RwSvHGf6bccS",
    "outputId": "f30896be-5cae-4985-abd9-58df494bb40e"
   },
   "outputs": [
    {
     "name": "stdout",
     "output_type": "stream",
     "text": [
      "Optimal Cutoff: [0.72]\n",
      "Accurcay: 0.6736025194016421\n",
      "AUC: 0.7967103823727018\n",
      "Log Loss: 0.4381581662973039\n",
      "Confusion Matrix:\n",
      " [[3771 1236]\n",
      " [4568 8207]]\n",
      "Recall: 0.642426614481409\n",
      "Precision: 0.8691093932013132\n"
     ]
    },
    {
     "data": {
      "image/png": "[encoded data removed]",
      "text/plain": [
       "<Figure size 432x288 with 1 Axes>"
      ]
     },
     "metadata": {
      "needs_background": "light"
     },
     "output_type": "display_data"
    }
   ],
   "source": [
    "rf = RandomForestClassifier(n_estimators=100, \n",
    "                            criterion='gini', \n",
    "                            max_features='sqrt',\n",
    "                            n_jobs=-1)\n",
    "model_training(rf, X_train, y_train)\n",
    "\n",
    "plot_auc_curve(rf, X_test, y_test)\n",
    "Find_Optimal_Cutoff(rf, X_test, y_test)\n",
    "print_accurcay_metrics(rf, X_test, y_test, 0.73)"
   ]
  },
  {
   "cell_type": "code",
   "execution_count": 0,
   "metadata": {
    "colab": {
     "base_uri": "https://localhost:8080/",
     "height": 546
    },
    "colab_type": "code",
    "id": "SIiRC4E7V2It",
    "outputId": "ce824985-b335-4c38-fa93-061af98c0c69"
   },
   "outputs": [
    {
     "name": "stdout",
     "output_type": "stream",
     "text": [
      "Optimal Cutoff: [0.71]\n",
      "Accurcay: 0.6656169159824542\n",
      "AUC: 0.793600239508133\n",
      "Log Loss: 0.44570862529671634\n",
      "Confusion Matrix:\n",
      " [[3787 1220]\n",
      " [4726 8049]]\n",
      "Recall: 0.6300587084148728\n",
      "Precision: 0.8683784658539216\n"
     ]
    },
    {
     "data": {
      "image/png": "[encoded data removed]",
      "text/plain": [
       "<matplotlib.figure.Figure at 0x7f39d5a8f668>"
      ]
     },
     "metadata": {
      "tags": []
     },
     "output_type": "display_data"
    }
   ],
   "source": [
    "rf = RandomForestClassifier(n_estimators=100, \n",
    "                            criterion='gini', \n",
    "                            max_features=None,\n",
    "                            n_jobs=-1)\n",
    "model_training(rf, X_train, y_train)\n",
    "\n",
    "plot_auc_curve(rf, X_test, y_test)\n",
    "Find_Optimal_Cutoff(rf, X_test, y_test)\n",
    "print_accurcay_metrics(rf, X_test, y_test, 0.73)"
   ]
  },
  {
   "cell_type": "code",
   "execution_count": 0,
   "metadata": {
    "colab": {
     "base_uri": "https://localhost:8080/",
     "height": 156
    },
    "colab_type": "code",
    "id": "kG9tIb6k4yyU",
    "outputId": "4141e3af-ed8f-4c3b-dc44-a4e82d48ea03"
   },
   "outputs": [
    {
     "name": "stdout",
     "output_type": "stream",
     "text": [
      "Accurcay: 0.9960914433540478\n",
      "AUC: 1.0\n",
      "Log Loss: 0.12253440514446652\n",
      "Confusion Matrix:\n",
      " [[20164     0]\n",
      " [  278 50684]]\n",
      "Recall: 0.9945449550645579\n",
      "Precision: 1.0\n"
     ]
    }
   ],
   "source": [
    "print_accurcay_metrics(rf, X_train, y_train, 0.73)"
   ]
  },
  {
   "cell_type": "markdown",
   "metadata": {
    "colab_type": "text",
    "id": "X_xbYpwXJ5W6"
   },
   "source": [
    "**Feature Importances**"
   ]
  },
  {
   "cell_type": "code",
   "execution_count": 0,
   "metadata": {
    "colab": {
     "base_uri": "https://localhost:8080/",
     "height": 923
    },
    "colab_type": "code",
    "id": "wYo8KJmFJsei",
    "outputId": "5674045b-506f-4da4-ce5b-d9da88940334"
   },
   "outputs": [
    {
     "name": "stdout",
     "output_type": "stream",
     "text": [
      "Feature ranking:\n",
      "1. Credit_Score (0.205297)\n",
      "2. Current_Loan_Amount (0.139297)\n",
      "3. Maximum_Open_Credit (0.089153)\n",
      "4. Current_Credit_Balance (0.086238)\n",
      "5. Monthly_Debt (0.085836)\n",
      "6. Years_of_Credit_History (0.081426)\n",
      "7. Annual_Income (0.078193)\n",
      "8. Number_of_Open_Accounts (0.056693)\n",
      "9. Months_since_last_delinquent (0.049870)\n",
      "10. Years_in_current_job (0.042165)\n",
      "11. Term_Short Term (0.029044)\n",
      "12. Number_of_Credit_Problems (0.008109)\n",
      "13. Purpose_Debt Consolidation (0.007761)\n",
      "14. Bankruptcies (0.006280)\n",
      "15. Purpose_Other (0.005561)\n",
      "16. Home_Ownership_Rent (0.005068)\n",
      "17. Home_Ownership_Home Mortgage (0.005012)\n",
      "18. Home_Ownership_Own Home (0.003948)\n",
      "19. Purpose_Home Improvements (0.003886)\n",
      "20. Tax_Liens (0.002601)\n",
      "21. Purpose_Medical Bills (0.001904)\n",
      "22. Purpose_Buy a Car (0.001521)\n",
      "23. Purpose_Buy House (0.001144)\n",
      "24. Purpose_small_business (0.001048)\n",
      "25. Purpose_Take a Trip (0.000814)\n",
      "26. Purpose_major_purchase (0.000803)\n",
      "27. Purpose_moving (0.000407)\n",
      "28. Purpose_wedding (0.000359)\n",
      "29. Purpose_vacation (0.000336)\n",
      "30. Purpose_Educational Expenses (0.000203)\n",
      "31. Purpose_renewable_energy (0.000025)\n"
     ]
    },
    {
     "data": {
      "image/png": "[encoded data removed]",
      "text/plain": [
       "<matplotlib.figure.Figure at 0x7f76dab2c1d0>"
      ]
     },
     "metadata": {
      "tags": []
     },
     "output_type": "display_data"
    }
   ],
   "source": [
    "\"\"\"\n",
    "\n",
    "Feature importance visualization is useful for \n",
    "understanding which features are most important for \n",
    "making predictions. This can be helpful for a number of reasons, including:\n",
    "\n",
    "Identifying important features for model improvement: \n",
    "By understanding which features are most important, you \n",
    "can focus your efforts on improving those features or \n",
    "collecting more data for those features. This can lead \n",
    "to a more accurate and reliable model.\n",
    "Interpreting model predictions: Feature importance visualization \n",
    "can help you to understand why the model made a particular prediction. \n",
    "This can be helpful for debugging the model or for explaining the \n",
    "model's predictions to others.\n",
    "Selecting features for downstream tasks: If you are planning to \n",
    "use the model to make predictions on new data, you may want to select\n",
    "only the most important features. This can reduce the computational\n",
    "cost of making predictions and improve the model's performance on new data.\n",
    "There are a number of different ways to visualize feature importance. \n",
    "One common approach is to use a bar chart, where the height of each \n",
    "bar represents the importance of a particular feature. Another approach \n",
    "is to use a heatmap, where the color of each cell represents the \n",
    "importance of the corresponding feature\n",
    "\"\"\"\n",
    "\n",
    "feature_importance(rf, X_train)"
   ]
  },
  {
   "cell_type": "code",
   "execution_count": 27,
   "metadata": {
    "colab": {
     "base_uri": "https://localhost:8080/",
     "height": 548
    },
    "colab_type": "code",
    "id": "Kw_EBd-od9EA",
    "outputId": "ef6b0655-8ea0-4b29-a969-70f0dba584e6"
   },
   "outputs": [
    {
     "name": "stdout",
     "output_type": "stream",
     "text": [
      "Optimal Cutoff: [0.71]\n",
      "Accurcay: 0.6677539084467439\n",
      "AUC: 0.795671429861208\n",
      "Log Loss: 0.43619162374024834\n",
      "Confusion Matrix:\n",
      " [[3799 1208]\n",
      " [4700 8075]]\n",
      "Recall: 0.6320939334637965\n",
      "Precision: 0.8698696542066142\n"
     ]
    },
    {
     "data": {
      "image/png": "[encoded data removed]",
      "text/plain": [
       "<Figure size 432x288 with 1 Axes>"
      ]
     },
     "metadata": {
      "needs_background": "light"
     },
     "output_type": "display_data"
    }
   ],
   "source": [
    "rf_poly = RandomForestClassifier(n_estimators=100, \n",
    "                            criterion='gini', \n",
    "                            max_features='sqrt',\n",
    "                            n_jobs=-1)\n",
    "model_training(rf_poly, X_train_poly, y_train)\n",
    "\n",
    "plot_auc_curve(rf_poly, X_test_poly, y_test)\n",
    "Find_Optimal_Cutoff(rf_poly, X_test_poly, y_test)\n",
    "print_accurcay_metrics(rf_poly, X_test_poly, y_test, 0.73)"
   ]
  },
  {
   "cell_type": "markdown",
   "metadata": {
    "colab_type": "text",
    "id": "MWkldN1sKGTm"
   },
   "source": [
    "**Bagging**"
   ]
  },
  {
   "cell_type": "code",
   "execution_count": 85,
   "metadata": {
    "colab": {
     "base_uri": "https://localhost:8080/",
     "height": 548
    },
    "colab_type": "code",
    "id": "iO1cE0QTdFQE",
    "outputId": "3d550dcb-7db3-46d7-d94d-87abd4978c3b"
   },
   "outputs": [
    {
     "name": "stdout",
     "output_type": "stream",
     "text": [
      "Optimal Cutoff: [0.8]\n",
      "Accurcay: 0.6486334495557305\n",
      "AUC: 0.7658474300363053\n",
      "Log Loss: 0.911275122744408\n",
      "Confusion Matrix:\n",
      " [[3687 1320]\n",
      " [4928 7847]]\n",
      "Recall: 0.6142465753424657\n",
      "Precision: 0.8560052361732301\n"
     ]
    },
    {
     "data": {
      "image/png": "[encoded data removed]",
      "text/plain": [
       "<Figure size 432x288 with 1 Axes>"
      ]
     },
     "metadata": {
      "needs_background": "light"
     },
     "output_type": "display_data"
    }
   ],
   "source": [
    "\"\"\"\n",
    "This random forest classifier is essentially a \n",
    "bagging classifier, because it is trained on bootstrapped \n",
    "samples of the training data. Bagging is a technique that \n",
    "can be used to improve the performance of machine learning models \n",
    "by reducing their variance.\n",
    "\"\"\"\n",
    "\n",
    "bagging = RandomForestClassifier(n_estimators=10, \n",
    "                            criterion='gini', \n",
    "                            max_features=None,\n",
    "                            n_jobs=-1)\n",
    "model_training(bagging, X_train, y_train)\n",
    "\n",
    "plot_auc_curve(bagging, X_test, y_test)\n",
    "Find_Optimal_Cutoff(bagging, X_test, y_test)\n",
    "print_accurcay_metrics(bagging, X_test, y_test, 0.73)"
   ]
  },
  {
   "cell_type": "code",
   "execution_count": 0,
   "metadata": {
    "colab": {
     "base_uri": "https://localhost:8080/",
     "height": 157
    },
    "colab_type": "code",
    "id": "hRrRnNFL4lpm",
    "outputId": "4194fe8f-e66a-4838-de90-2f693a81791f"
   },
   "outputs": [
    {
     "name": "stdout",
     "output_type": "stream",
     "text": [
      "Accurcay: 0.9476843910806175\n",
      "AUC: 0.9993173364891933\n",
      "Log Loss: 0.12855648584544643\n",
      "Confusion Matrix:\n",
      " [[20148    16]\n",
      " [ 3705 47257]]\n",
      "Recall: 0.9272987716337663\n",
      "Precision: 0.9996615404141899\n"
     ]
    }
   ],
   "source": [
    "print_accurcay_metrics(bagging, X_train, y_train, 0.73)"
   ]
  },
  {
   "cell_type": "markdown",
   "metadata": {
    "colab_type": "text",
    "id": "2we9ihnxKXhm"
   },
   "source": [
    "**Boosting**"
   ]
  },
  {
   "cell_type": "code",
   "execution_count": 29,
   "metadata": {
    "colab": {
     "base_uri": "https://localhost:8080/",
     "height": 603
    },
    "colab_type": "code",
    "id": "P1nT9RvkfRLS",
    "outputId": "692e376d-216e-4ce1-b7c5-dd48ca352b01"
   },
   "outputs": [
    {
     "name": "stdout",
     "output_type": "stream",
     "text": [
      "Optimal Cutoff: [0.50220576]\n",
      "Accurcay: 0.2815768754920706\n",
      "AUC: 0.8022008092779697\n",
      "Log Loss: 0.6564135187775232\n",
      "Confusion Matrix:\n",
      " [[ 5007     0]\n",
      " [12775     0]]\n",
      "Recall: 0.0\n",
      "Precision: 0.0\n"
     ]
    },
    {
     "data": {
      "image/png": "[encoded data removed]",
      "text/plain": [
       "<Figure size 432x288 with 1 Axes>"
      ]
     },
     "metadata": {
      "needs_background": "light"
     },
     "output_type": "display_data"
    }
   ],
   "source": [
    "\"\"\"\n",
    "\n",
    "\n",
    "1\n",
    "The 100 in AdaBoostClassifier(n_estimators=100) specifies \n",
    "the number of estimators to use in the AdaBoost ensemble. \n",
    "An estimator is a weak learner, which is a classifier that \n",
    "is only slightly better than random guessing. AdaBoost works\n",
    "by iteratively training weak learners on the training data, \n",
    "where each weak learner is trained to correct the errors of \n",
    "the previous weak learner.\n",
    "\n",
    "The number of estimators in an AdaBoost ensemble is a hyperparameter \n",
    "that can be tuned to improve the performance of the model. A higher \n",
    "number of estimators will generally lead to a more accurate model, \n",
    "but it will also make the model more computationally expensive to train.\n",
    "\n",
    "A good starting point for tuning the number of estimators in an \n",
    "AdaBoost ensemble is to use the default value of 100. You can then\n",
    "experiment with different values to see if you can improve the \n",
    "performance of the model on your specific dataset.\n",
    "\"\"\"\n",
    "\n",
    "\n",
    "adaBoost = AdaBoostClassifier(n_estimators=100)\n",
    "model_training(adaBoost, X_train, y_train)\n",
    "\n",
    "plot_auc_curve(adaBoost, X_test, y_test)\n",
    "Find_Optimal_Cutoff(adaBoost, X_test, y_test)\n",
    "print_accurcay_metrics(adaBoost, X_test, y_test, 0.73)"
   ]
  },
  {
   "cell_type": "code",
   "execution_count": 30,
   "metadata": {
    "colab": {
     "base_uri": "https://localhost:8080/",
     "height": 376
    },
    "colab_type": "code",
    "id": "QY48E-36LcJq",
    "outputId": "f4c76448-e861-43ff-8b15-42ea5574b72f"
   },
   "outputs": [
    {
     "data": {
      "image/png": "[encoded data removed]",
      "text/plain": [
       "<Figure size 432x288 with 1 Axes>"
      ]
     },
     "metadata": {
      "needs_background": "light"
     },
     "output_type": "display_data"
    }
   ],
   "source": [
    "n_range = np.arange(100, 500, 100)\n",
    "scores = []\n",
    "for n in n_range:\n",
    "  adaBoost = AdaBoostClassifier(n_estimators=n)\n",
    "  scores.append(cross_val_score(adaBoost, X_train, y_train, cv=5, scoring='roc_auc').mean())\n",
    "\n",
    "\n",
    "plt.plot(n_range, scores)\n",
    "plt.xlim([0.0, 500])\n",
    "#plt.ylim([0.0, 1.0])\n",
    "plt.title('AdaBoostClassifier')\n",
    "plt.xlabel('n_estimators')\n",
    "plt.ylabel('AUC')\n",
    "plt.grid(True)"
   ]
  },
  {
   "cell_type": "code",
   "execution_count": 31,
   "metadata": {
    "colab": {
     "base_uri": "https://localhost:8080/",
     "height": 376
    },
    "colab_type": "code",
    "id": "NYPirqdffrL0",
    "outputId": "b9addf07-90e5-43c0-f4b6-3b7e258d72b5"
   },
   "outputs": [
    {
     "data": {
      "image/png": "[encoded data removed]",
      "text/plain": [
       "<Figure size 432x288 with 1 Axes>"
      ]
     },
     "metadata": {
      "needs_background": "light"
     },
     "output_type": "display_data"
    }
   ],
   "source": [
    "n_range = np.arange(10, 100, 10)\n",
    "scores = []\n",
    "for n in n_range:\n",
    "  adaBoost = AdaBoostClassifier(n_estimators=n)\n",
    "  scores.append(cross_val_score(adaBoost, X_train, y_train, cv=5, scoring='roc_auc').mean())\n",
    "\n",
    "\n",
    "plt.plot(n_range, scores)\n",
    "plt.xlim([0.0, 100])\n",
    "#plt.ylim([0.0, 1.0])\n",
    "plt.title('AdaBoostClassifier')\n",
    "plt.xlabel('n_estimators')\n",
    "plt.ylabel('AUC')\n",
    "plt.grid(True)"
   ]
  },
  {
   "cell_type": "code",
   "execution_count": 32,
   "metadata": {
    "colab": {
     "base_uri": "https://localhost:8080/",
     "height": 376
    },
    "colab_type": "code",
    "id": "R5qfLOROdVha",
    "outputId": "fe909a68-89da-4d5f-cb52-50744b67fe14"
   },
   "outputs": [
    {
     "data": {
      "image/png": "[encoded data removed]",
      "text/plain": [
       "<Figure size 432x288 with 1 Axes>"
      ]
     },
     "metadata": {
      "needs_background": "light"
     },
     "output_type": "display_data"
    }
   ],
   "source": [
    "plt.plot(n_range, scores)\n",
    "plt.xlim([0.0, 200])\n",
    "#plt.ylim([0.0, 1.0])\n",
    "plt.title('AdaBoostClassifier')\n",
    "plt.xlabel('n_estimators')\n",
    "plt.ylabel('AUC')\n",
    "plt.grid(True)"
   ]
  }
 ],
 "metadata": {
  "colab": {
   "collapsed_sections": [],
   "name": "Loan_Data_Set.ipynb",
   "provenance": [],
   "version": "0.3.2"
  },
  "kernelspec": {
   "display_name": "Python 3",
   "language": "python",
   "name": "python3"
  },
  "language_info": {
   "codemirror_mode": {
    "name": "ipython",
    "version": 3
   },
   "file_extension": ".py",
   "mimetype": "text/x-python",
   "name": "python",
   "nbconvert_exporter": "python",
   "pygments_lexer": "ipython3",
   "version": "3.7.3"
  }
 },
 "nbformat": 4,
 "nbformat_minor": 1
}
