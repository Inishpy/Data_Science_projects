{
 "cells": [
  {
   "cell_type": "markdown",
   "metadata": {},
   "source": [
    "#### Importing necessary Libraries"
   ]
  },
  {
   "cell_type": "code",
   "execution_count": 1,
   "metadata": {},
   "outputs": [
    {
     "name": "stderr",
     "output_type": "stream",
     "text": [
      "C:\\Users\\INISH\\Anaconda3\\lib\\site-packages\\pandas\\compat\\_optional.py:138: UserWarning: Pandas requires version '2.7.0' or newer of 'numexpr' (version '2.6.9' currently installed).\n",
      "  warnings.warn(msg, UserWarning)\n"
     ]
    }
   ],
   "source": [
    "import pandas as pd\n",
    "import numpy as np\n",
    "import seaborn as sns\n",
    "from sklearn import metrics\n",
    "from sklearn.metrics import make_scorer,f1_score,r2_score\n",
    "from sklearn.model_selection import train_test_split, cross_val_score\n",
    "from sklearn.metrics import roc_auc_score, log_loss, accuracy_score,roc_curve\n",
    "from sklearn.metrics import confusion_matrix, recall_score, precision_score\n",
    "from sklearn.preprocessing import binarize, PolynomialFeatures\n",
    "from sklearn.ensemble import RandomForestClassifier\n",
    "from sklearn.tree import DecisionTreeClassifier\n",
    "from sklearn.linear_model import LogisticRegression, RidgeClassifier\n",
    "from sklearn.calibration import calibration_curve\n",
    "import matplotlib.pyplot as plt\n",
    "from sklearn.preprocessing import StandardScaler\n",
    "import warnings\n",
    "from sklearn.metrics import mean_squared_error\n",
    "warnings.filterwarnings('ignore')\n",
    "%matplotlib inline"
   ]
  },
  {
   "cell_type": "markdown",
   "metadata": {},
   "source": [
    "#### Creating functions which are being used repeateadly"
   ]
  },
  {
   "cell_type": "code",
   "execution_count": 2,
   "metadata": {},
   "outputs": [],
   "source": [
    "# define a function to print accuracy metrics\n",
    "def print_accuracy_metrics(Input,Output):\n",
    "  print(\"Recall:\", recall_score(Input, Output))\n",
    "  print(\"Log Loss:\", log_loss(Input, Output))\n",
    "  print(\"Precision:\", precision_score(Input, Output))\n",
    "  print(\"Accurcay:\", accuracy_score(Input, Output))\n",
    "  print(\"AUC: \", roc_auc_score(Input, Output))\n",
    "  print(\"F1 Score:\", f1_score(Input, Output))\n",
    "  confusion_matrix_value = confusion_matrix(Input,Output)\n",
    "  print('Confusion matrix:\\n', confusion_matrix_value)\n",
    "  class_names=[0,1] # name  of classes\n",
    "  fig, ax = plt.subplots()\n",
    "  tick_marks = np.arange(len(class_names))\n",
    "  plt.xticks(tick_marks, class_names)\n",
    "  plt.yticks(tick_marks, class_names)\n",
    "  # create heatmap\n",
    "  sns.heatmap(pd.DataFrame( confusion_matrix_value), annot=True, cmap=\"YlGnBu\" ,fmt='g')\n",
    "  ax.xaxis.set_label_position(\"top\")\n",
    "  plt.tight_layout()\n",
    "  plt.title('Confusion matrix', y=1.1)\n",
    "  plt.ylabel('Actual label')\n",
    "  plt.xlabel('Predicted label')\n",
    "  "
   ]
  },
  {
   "cell_type": "code",
   "execution_count": 3,
   "metadata": {},
   "outputs": [],
   "source": [
    "# defined a function to print cross validation score\n",
    "scoring = {'recall' : make_scorer(recall_score)}\n",
    "def cross_validation_metrics(log_reg, X, y):\n",
    " log_reg_score = cross_val_score(log_reg, X,y,cv=5,scoring='recall')\n",
    " print('Logistic Regression Cross Validation Score(Recall): ', round(log_reg_score.mean() * 100, 2).astype(str) + '%')"
   ]
  },
  {
   "cell_type": "code",
   "execution_count": 4,
   "metadata": {},
   "outputs": [],
   "source": [
    "# function for plotting feature importance\n",
    "def feature_importance(model, X):\n",
    "  importances = model.feature_importances_\n",
    "  std = np.std([tree.feature_importances_ for tree in model.estimators_],\n",
    "               axis=0)\n",
    "  indices = np.argsort(importances)[::-1]\n",
    "\n",
    "  # Print the feature ranking\n",
    "  print(\"Feature ranking:\")\n",
    "\n",
    "  for f in range(X.shape[1]):\n",
    "      print(\"%d. %s (%f)\" % (f + 1, X.columns[indices[f]], importances[indices[f]]))\n",
    "\n",
    "  # Plot the feature importances of the forest\n",
    "  plt.figure()\n",
    "  plt.title(\"Feature importances\")\n",
    "  plt.bar(range(X.shape[1]), importances[indices],\n",
    "          color=\"r\", yerr=std[indices], align=\"center\")\n",
    "  plt.xticks(range(X.shape[1]), indices)\n",
    "  plt.xlim([-1, X.shape[1]])\n",
    "  plt.show()"
   ]
  },
  {
   "cell_type": "code",
   "execution_count": 5,
   "metadata": {},
   "outputs": [],
   "source": [
    "# function to draw ROC curve\n",
    "def plot_auc_curve(model,):\n",
    "  auc = roc_auc_score(y, y_pred_prob)\n",
    "  fpr, tpr, thresholds = roc_curve(y, y_pred_prob)\n",
    "  \n",
    "  plt.plot(fpr, tpr)\n",
    "  plt.xlim([0.0, 1.0])\n",
    "  plt.ylim([0.0, 1.0])\n",
    "  plt.title('ROC Curve\\n AUC={auc}'.format(auc = auc))\n",
    "  plt.xlabel('False Positive Rate')\n",
    "  plt.ylabel('True Positive Rate')\n",
    "  plt.grid(True)"
   ]
  },
  {
   "cell_type": "code",
   "execution_count": 7,
   "metadata": {},
   "outputs": [],
   "source": [
    "### Reading data as a pandas dataframe\n",
    "data = pd.read_csv('creditcard.csv')"
   ]
  },
  {
   "cell_type": "markdown",
   "metadata": {},
   "source": [
    "#### Data Exploration"
   ]
  },
  {
   "cell_type": "code",
   "execution_count": 8,
   "metadata": {},
   "outputs": [
    {
     "data": {
      "text/html": [
       "<div>\n",
       "<style scoped>\n",
       "    .dataframe tbody tr th:only-of-type {\n",
       "        vertical-align: middle;\n",
       "    }\n",
       "\n",
       "    .dataframe tbody tr th {\n",
       "        vertical-align: top;\n",
       "    }\n",
       "\n",
       "    .dataframe thead th {\n",
       "        text-align: right;\n",
       "    }\n",
       "</style>\n",
       "<table border=\"1\" class=\"dataframe\">\n",
       "  <thead>\n",
       "    <tr style=\"text-align: right;\">\n",
       "      <th></th>\n",
       "      <th>Time</th>\n",
       "      <th>V1</th>\n",
       "      <th>V2</th>\n",
       "      <th>V3</th>\n",
       "      <th>V4</th>\n",
       "      <th>V5</th>\n",
       "      <th>V6</th>\n",
       "      <th>V7</th>\n",
       "      <th>V8</th>\n",
       "      <th>V9</th>\n",
       "      <th>...</th>\n",
       "      <th>V21</th>\n",
       "      <th>V22</th>\n",
       "      <th>V23</th>\n",
       "      <th>V24</th>\n",
       "      <th>V25</th>\n",
       "      <th>V26</th>\n",
       "      <th>V27</th>\n",
       "      <th>V28</th>\n",
       "      <th>Amount</th>\n",
       "      <th>Class</th>\n",
       "    </tr>\n",
       "  </thead>\n",
       "  <tbody>\n",
       "    <tr>\n",
       "      <th>0</th>\n",
       "      <td>0.0</td>\n",
       "      <td>-1.359807</td>\n",
       "      <td>-0.072781</td>\n",
       "      <td>2.536347</td>\n",
       "      <td>1.378155</td>\n",
       "      <td>-0.338321</td>\n",
       "      <td>0.462388</td>\n",
       "      <td>0.239599</td>\n",
       "      <td>0.098698</td>\n",
       "      <td>0.363787</td>\n",
       "      <td>...</td>\n",
       "      <td>-0.018307</td>\n",
       "      <td>0.277838</td>\n",
       "      <td>-0.110474</td>\n",
       "      <td>0.066928</td>\n",
       "      <td>0.128539</td>\n",
       "      <td>-0.189115</td>\n",
       "      <td>0.133558</td>\n",
       "      <td>-0.021053</td>\n",
       "      <td>149.62</td>\n",
       "      <td>0</td>\n",
       "    </tr>\n",
       "    <tr>\n",
       "      <th>1</th>\n",
       "      <td>0.0</td>\n",
       "      <td>1.191857</td>\n",
       "      <td>0.266151</td>\n",
       "      <td>0.166480</td>\n",
       "      <td>0.448154</td>\n",
       "      <td>0.060018</td>\n",
       "      <td>-0.082361</td>\n",
       "      <td>-0.078803</td>\n",
       "      <td>0.085102</td>\n",
       "      <td>-0.255425</td>\n",
       "      <td>...</td>\n",
       "      <td>-0.225775</td>\n",
       "      <td>-0.638672</td>\n",
       "      <td>0.101288</td>\n",
       "      <td>-0.339846</td>\n",
       "      <td>0.167170</td>\n",
       "      <td>0.125895</td>\n",
       "      <td>-0.008983</td>\n",
       "      <td>0.014724</td>\n",
       "      <td>2.69</td>\n",
       "      <td>0</td>\n",
       "    </tr>\n",
       "    <tr>\n",
       "      <th>2</th>\n",
       "      <td>1.0</td>\n",
       "      <td>-1.358354</td>\n",
       "      <td>-1.340163</td>\n",
       "      <td>1.773209</td>\n",
       "      <td>0.379780</td>\n",
       "      <td>-0.503198</td>\n",
       "      <td>1.800499</td>\n",
       "      <td>0.791461</td>\n",
       "      <td>0.247676</td>\n",
       "      <td>-1.514654</td>\n",
       "      <td>...</td>\n",
       "      <td>0.247998</td>\n",
       "      <td>0.771679</td>\n",
       "      <td>0.909412</td>\n",
       "      <td>-0.689281</td>\n",
       "      <td>-0.327642</td>\n",
       "      <td>-0.139097</td>\n",
       "      <td>-0.055353</td>\n",
       "      <td>-0.059752</td>\n",
       "      <td>378.66</td>\n",
       "      <td>0</td>\n",
       "    </tr>\n",
       "    <tr>\n",
       "      <th>3</th>\n",
       "      <td>1.0</td>\n",
       "      <td>-0.966272</td>\n",
       "      <td>-0.185226</td>\n",
       "      <td>1.792993</td>\n",
       "      <td>-0.863291</td>\n",
       "      <td>-0.010309</td>\n",
       "      <td>1.247203</td>\n",
       "      <td>0.237609</td>\n",
       "      <td>0.377436</td>\n",
       "      <td>-1.387024</td>\n",
       "      <td>...</td>\n",
       "      <td>-0.108300</td>\n",
       "      <td>0.005274</td>\n",
       "      <td>-0.190321</td>\n",
       "      <td>-1.175575</td>\n",
       "      <td>0.647376</td>\n",
       "      <td>-0.221929</td>\n",
       "      <td>0.062723</td>\n",
       "      <td>0.061458</td>\n",
       "      <td>123.50</td>\n",
       "      <td>0</td>\n",
       "    </tr>\n",
       "    <tr>\n",
       "      <th>4</th>\n",
       "      <td>2.0</td>\n",
       "      <td>-1.158233</td>\n",
       "      <td>0.877737</td>\n",
       "      <td>1.548718</td>\n",
       "      <td>0.403034</td>\n",
       "      <td>-0.407193</td>\n",
       "      <td>0.095921</td>\n",
       "      <td>0.592941</td>\n",
       "      <td>-0.270533</td>\n",
       "      <td>0.817739</td>\n",
       "      <td>...</td>\n",
       "      <td>-0.009431</td>\n",
       "      <td>0.798278</td>\n",
       "      <td>-0.137458</td>\n",
       "      <td>0.141267</td>\n",
       "      <td>-0.206010</td>\n",
       "      <td>0.502292</td>\n",
       "      <td>0.219422</td>\n",
       "      <td>0.215153</td>\n",
       "      <td>69.99</td>\n",
       "      <td>0</td>\n",
       "    </tr>\n",
       "  </tbody>\n",
       "</table>\n",
       "<p>5 rows × 31 columns</p>\n",
       "</div>"
      ],
      "text/plain": [
       "   Time        V1        V2        V3        V4        V5        V6        V7  \\\n",
       "0   0.0 -1.359807 -0.072781  2.536347  1.378155 -0.338321  0.462388  0.239599   \n",
       "1   0.0  1.191857  0.266151  0.166480  0.448154  0.060018 -0.082361 -0.078803   \n",
       "2   1.0 -1.358354 -1.340163  1.773209  0.379780 -0.503198  1.800499  0.791461   \n",
       "3   1.0 -0.966272 -0.185226  1.792993 -0.863291 -0.010309  1.247203  0.237609   \n",
       "4   2.0 -1.158233  0.877737  1.548718  0.403034 -0.407193  0.095921  0.592941   \n",
       "\n",
       "         V8        V9  ...       V21       V22       V23       V24       V25  \\\n",
       "0  0.098698  0.363787  ... -0.018307  0.277838 -0.110474  0.066928  0.128539   \n",
       "1  0.085102 -0.255425  ... -0.225775 -0.638672  0.101288 -0.339846  0.167170   \n",
       "2  0.247676 -1.514654  ...  0.247998  0.771679  0.909412 -0.689281 -0.327642   \n",
       "3  0.377436 -1.387024  ... -0.108300  0.005274 -0.190321 -1.175575  0.647376   \n",
       "4 -0.270533  0.817739  ... -0.009431  0.798278 -0.137458  0.141267 -0.206010   \n",
       "\n",
       "        V26       V27       V28  Amount  Class  \n",
       "0 -0.189115  0.133558 -0.021053  149.62      0  \n",
       "1  0.125895 -0.008983  0.014724    2.69      0  \n",
       "2 -0.139097 -0.055353 -0.059752  378.66      0  \n",
       "3 -0.221929  0.062723  0.061458  123.50      0  \n",
       "4  0.502292  0.219422  0.215153   69.99      0  \n",
       "\n",
       "[5 rows x 31 columns]"
      ]
     },
     "execution_count": 8,
     "metadata": {},
     "output_type": "execute_result"
    }
   ],
   "source": [
    "#### Exploring data set\n",
    "data.head()"
   ]
  },
  {
   "cell_type": "code",
   "execution_count": 9,
   "metadata": {},
   "outputs": [
    {
     "data": {
      "text/html": [
       "<div>\n",
       "<style scoped>\n",
       "    .dataframe tbody tr th:only-of-type {\n",
       "        vertical-align: middle;\n",
       "    }\n",
       "\n",
       "    .dataframe tbody tr th {\n",
       "        vertical-align: top;\n",
       "    }\n",
       "\n",
       "    .dataframe thead th {\n",
       "        text-align: right;\n",
       "    }\n",
       "</style>\n",
       "<table border=\"1\" class=\"dataframe\">\n",
       "  <thead>\n",
       "    <tr style=\"text-align: right;\">\n",
       "      <th></th>\n",
       "      <th>Time</th>\n",
       "      <th>V1</th>\n",
       "      <th>V2</th>\n",
       "      <th>V3</th>\n",
       "      <th>V4</th>\n",
       "      <th>V5</th>\n",
       "      <th>V6</th>\n",
       "      <th>V7</th>\n",
       "      <th>V8</th>\n",
       "      <th>V9</th>\n",
       "      <th>...</th>\n",
       "      <th>V21</th>\n",
       "      <th>V22</th>\n",
       "      <th>V23</th>\n",
       "      <th>V24</th>\n",
       "      <th>V25</th>\n",
       "      <th>V26</th>\n",
       "      <th>V27</th>\n",
       "      <th>V28</th>\n",
       "      <th>Amount</th>\n",
       "      <th>Class</th>\n",
       "    </tr>\n",
       "  </thead>\n",
       "  <tbody>\n",
       "    <tr>\n",
       "      <th>count</th>\n",
       "      <td>284807.000000</td>\n",
       "      <td>2.848070e+05</td>\n",
       "      <td>2.848070e+05</td>\n",
       "      <td>2.848070e+05</td>\n",
       "      <td>2.848070e+05</td>\n",
       "      <td>2.848070e+05</td>\n",
       "      <td>2.848070e+05</td>\n",
       "      <td>2.848070e+05</td>\n",
       "      <td>2.848070e+05</td>\n",
       "      <td>2.848070e+05</td>\n",
       "      <td>...</td>\n",
       "      <td>2.848070e+05</td>\n",
       "      <td>2.848070e+05</td>\n",
       "      <td>2.848070e+05</td>\n",
       "      <td>2.848070e+05</td>\n",
       "      <td>2.848070e+05</td>\n",
       "      <td>2.848070e+05</td>\n",
       "      <td>2.848070e+05</td>\n",
       "      <td>2.848070e+05</td>\n",
       "      <td>284807.000000</td>\n",
       "      <td>284807.000000</td>\n",
       "    </tr>\n",
       "    <tr>\n",
       "      <th>mean</th>\n",
       "      <td>94813.859575</td>\n",
       "      <td>3.918649e-15</td>\n",
       "      <td>5.682686e-16</td>\n",
       "      <td>-8.761736e-15</td>\n",
       "      <td>2.811118e-15</td>\n",
       "      <td>-1.552103e-15</td>\n",
       "      <td>2.040130e-15</td>\n",
       "      <td>-1.698953e-15</td>\n",
       "      <td>-1.893285e-16</td>\n",
       "      <td>-3.147640e-15</td>\n",
       "      <td>...</td>\n",
       "      <td>1.473120e-16</td>\n",
       "      <td>8.042109e-16</td>\n",
       "      <td>5.282512e-16</td>\n",
       "      <td>4.456271e-15</td>\n",
       "      <td>1.426896e-15</td>\n",
       "      <td>1.701640e-15</td>\n",
       "      <td>-3.662252e-16</td>\n",
       "      <td>-1.217809e-16</td>\n",
       "      <td>88.349619</td>\n",
       "      <td>0.001727</td>\n",
       "    </tr>\n",
       "    <tr>\n",
       "      <th>std</th>\n",
       "      <td>47488.145955</td>\n",
       "      <td>1.958696e+00</td>\n",
       "      <td>1.651309e+00</td>\n",
       "      <td>1.516255e+00</td>\n",
       "      <td>1.415869e+00</td>\n",
       "      <td>1.380247e+00</td>\n",
       "      <td>1.332271e+00</td>\n",
       "      <td>1.237094e+00</td>\n",
       "      <td>1.194353e+00</td>\n",
       "      <td>1.098632e+00</td>\n",
       "      <td>...</td>\n",
       "      <td>7.345240e-01</td>\n",
       "      <td>7.257016e-01</td>\n",
       "      <td>6.244603e-01</td>\n",
       "      <td>6.056471e-01</td>\n",
       "      <td>5.212781e-01</td>\n",
       "      <td>4.822270e-01</td>\n",
       "      <td>4.036325e-01</td>\n",
       "      <td>3.300833e-01</td>\n",
       "      <td>250.120109</td>\n",
       "      <td>0.041527</td>\n",
       "    </tr>\n",
       "    <tr>\n",
       "      <th>min</th>\n",
       "      <td>0.000000</td>\n",
       "      <td>-5.640751e+01</td>\n",
       "      <td>-7.271573e+01</td>\n",
       "      <td>-4.832559e+01</td>\n",
       "      <td>-5.683171e+00</td>\n",
       "      <td>-1.137433e+02</td>\n",
       "      <td>-2.616051e+01</td>\n",
       "      <td>-4.355724e+01</td>\n",
       "      <td>-7.321672e+01</td>\n",
       "      <td>-1.343407e+01</td>\n",
       "      <td>...</td>\n",
       "      <td>-3.483038e+01</td>\n",
       "      <td>-1.093314e+01</td>\n",
       "      <td>-4.480774e+01</td>\n",
       "      <td>-2.836627e+00</td>\n",
       "      <td>-1.029540e+01</td>\n",
       "      <td>-2.604551e+00</td>\n",
       "      <td>-2.256568e+01</td>\n",
       "      <td>-1.543008e+01</td>\n",
       "      <td>0.000000</td>\n",
       "      <td>0.000000</td>\n",
       "    </tr>\n",
       "    <tr>\n",
       "      <th>25%</th>\n",
       "      <td>54201.500000</td>\n",
       "      <td>-9.203734e-01</td>\n",
       "      <td>-5.985499e-01</td>\n",
       "      <td>-8.903648e-01</td>\n",
       "      <td>-8.486401e-01</td>\n",
       "      <td>-6.915971e-01</td>\n",
       "      <td>-7.682956e-01</td>\n",
       "      <td>-5.540759e-01</td>\n",
       "      <td>-2.086297e-01</td>\n",
       "      <td>-6.430976e-01</td>\n",
       "      <td>...</td>\n",
       "      <td>-2.283949e-01</td>\n",
       "      <td>-5.423504e-01</td>\n",
       "      <td>-1.618463e-01</td>\n",
       "      <td>-3.545861e-01</td>\n",
       "      <td>-3.171451e-01</td>\n",
       "      <td>-3.269839e-01</td>\n",
       "      <td>-7.083953e-02</td>\n",
       "      <td>-5.295979e-02</td>\n",
       "      <td>5.600000</td>\n",
       "      <td>0.000000</td>\n",
       "    </tr>\n",
       "    <tr>\n",
       "      <th>50%</th>\n",
       "      <td>84692.000000</td>\n",
       "      <td>1.810880e-02</td>\n",
       "      <td>6.548556e-02</td>\n",
       "      <td>1.798463e-01</td>\n",
       "      <td>-1.984653e-02</td>\n",
       "      <td>-5.433583e-02</td>\n",
       "      <td>-2.741871e-01</td>\n",
       "      <td>4.010308e-02</td>\n",
       "      <td>2.235804e-02</td>\n",
       "      <td>-5.142873e-02</td>\n",
       "      <td>...</td>\n",
       "      <td>-2.945017e-02</td>\n",
       "      <td>6.781943e-03</td>\n",
       "      <td>-1.119293e-02</td>\n",
       "      <td>4.097606e-02</td>\n",
       "      <td>1.659350e-02</td>\n",
       "      <td>-5.213911e-02</td>\n",
       "      <td>1.342146e-03</td>\n",
       "      <td>1.124383e-02</td>\n",
       "      <td>22.000000</td>\n",
       "      <td>0.000000</td>\n",
       "    </tr>\n",
       "    <tr>\n",
       "      <th>75%</th>\n",
       "      <td>139320.500000</td>\n",
       "      <td>1.315642e+00</td>\n",
       "      <td>8.037239e-01</td>\n",
       "      <td>1.027196e+00</td>\n",
       "      <td>7.433413e-01</td>\n",
       "      <td>6.119264e-01</td>\n",
       "      <td>3.985649e-01</td>\n",
       "      <td>5.704361e-01</td>\n",
       "      <td>3.273459e-01</td>\n",
       "      <td>5.971390e-01</td>\n",
       "      <td>...</td>\n",
       "      <td>1.863772e-01</td>\n",
       "      <td>5.285536e-01</td>\n",
       "      <td>1.476421e-01</td>\n",
       "      <td>4.395266e-01</td>\n",
       "      <td>3.507156e-01</td>\n",
       "      <td>2.409522e-01</td>\n",
       "      <td>9.104512e-02</td>\n",
       "      <td>7.827995e-02</td>\n",
       "      <td>77.165000</td>\n",
       "      <td>0.000000</td>\n",
       "    </tr>\n",
       "    <tr>\n",
       "      <th>max</th>\n",
       "      <td>172792.000000</td>\n",
       "      <td>2.454930e+00</td>\n",
       "      <td>2.205773e+01</td>\n",
       "      <td>9.382558e+00</td>\n",
       "      <td>1.687534e+01</td>\n",
       "      <td>3.480167e+01</td>\n",
       "      <td>7.330163e+01</td>\n",
       "      <td>1.205895e+02</td>\n",
       "      <td>2.000721e+01</td>\n",
       "      <td>1.559499e+01</td>\n",
       "      <td>...</td>\n",
       "      <td>2.720284e+01</td>\n",
       "      <td>1.050309e+01</td>\n",
       "      <td>2.252841e+01</td>\n",
       "      <td>4.584549e+00</td>\n",
       "      <td>7.519589e+00</td>\n",
       "      <td>3.517346e+00</td>\n",
       "      <td>3.161220e+01</td>\n",
       "      <td>3.384781e+01</td>\n",
       "      <td>25691.160000</td>\n",
       "      <td>1.000000</td>\n",
       "    </tr>\n",
       "  </tbody>\n",
       "</table>\n",
       "<p>8 rows × 31 columns</p>\n",
       "</div>"
      ],
      "text/plain": [
       "                Time            V1            V2            V3            V4  \\\n",
       "count  284807.000000  2.848070e+05  2.848070e+05  2.848070e+05  2.848070e+05   \n",
       "mean    94813.859575  3.918649e-15  5.682686e-16 -8.761736e-15  2.811118e-15   \n",
       "std     47488.145955  1.958696e+00  1.651309e+00  1.516255e+00  1.415869e+00   \n",
       "min         0.000000 -5.640751e+01 -7.271573e+01 -4.832559e+01 -5.683171e+00   \n",
       "25%     54201.500000 -9.203734e-01 -5.985499e-01 -8.903648e-01 -8.486401e-01   \n",
       "50%     84692.000000  1.810880e-02  6.548556e-02  1.798463e-01 -1.984653e-02   \n",
       "75%    139320.500000  1.315642e+00  8.037239e-01  1.027196e+00  7.433413e-01   \n",
       "max    172792.000000  2.454930e+00  2.205773e+01  9.382558e+00  1.687534e+01   \n",
       "\n",
       "                 V5            V6            V7            V8            V9  \\\n",
       "count  2.848070e+05  2.848070e+05  2.848070e+05  2.848070e+05  2.848070e+05   \n",
       "mean  -1.552103e-15  2.040130e-15 -1.698953e-15 -1.893285e-16 -3.147640e-15   \n",
       "std    1.380247e+00  1.332271e+00  1.237094e+00  1.194353e+00  1.098632e+00   \n",
       "min   -1.137433e+02 -2.616051e+01 -4.355724e+01 -7.321672e+01 -1.343407e+01   \n",
       "25%   -6.915971e-01 -7.682956e-01 -5.540759e-01 -2.086297e-01 -6.430976e-01   \n",
       "50%   -5.433583e-02 -2.741871e-01  4.010308e-02  2.235804e-02 -5.142873e-02   \n",
       "75%    6.119264e-01  3.985649e-01  5.704361e-01  3.273459e-01  5.971390e-01   \n",
       "max    3.480167e+01  7.330163e+01  1.205895e+02  2.000721e+01  1.559499e+01   \n",
       "\n",
       "       ...           V21           V22           V23           V24  \\\n",
       "count  ...  2.848070e+05  2.848070e+05  2.848070e+05  2.848070e+05   \n",
       "mean   ...  1.473120e-16  8.042109e-16  5.282512e-16  4.456271e-15   \n",
       "std    ...  7.345240e-01  7.257016e-01  6.244603e-01  6.056471e-01   \n",
       "min    ... -3.483038e+01 -1.093314e+01 -4.480774e+01 -2.836627e+00   \n",
       "25%    ... -2.283949e-01 -5.423504e-01 -1.618463e-01 -3.545861e-01   \n",
       "50%    ... -2.945017e-02  6.781943e-03 -1.119293e-02  4.097606e-02   \n",
       "75%    ...  1.863772e-01  5.285536e-01  1.476421e-01  4.395266e-01   \n",
       "max    ...  2.720284e+01  1.050309e+01  2.252841e+01  4.584549e+00   \n",
       "\n",
       "                V25           V26           V27           V28         Amount  \\\n",
       "count  2.848070e+05  2.848070e+05  2.848070e+05  2.848070e+05  284807.000000   \n",
       "mean   1.426896e-15  1.701640e-15 -3.662252e-16 -1.217809e-16      88.349619   \n",
       "std    5.212781e-01  4.822270e-01  4.036325e-01  3.300833e-01     250.120109   \n",
       "min   -1.029540e+01 -2.604551e+00 -2.256568e+01 -1.543008e+01       0.000000   \n",
       "25%   -3.171451e-01 -3.269839e-01 -7.083953e-02 -5.295979e-02       5.600000   \n",
       "50%    1.659350e-02 -5.213911e-02  1.342146e-03  1.124383e-02      22.000000   \n",
       "75%    3.507156e-01  2.409522e-01  9.104512e-02  7.827995e-02      77.165000   \n",
       "max    7.519589e+00  3.517346e+00  3.161220e+01  3.384781e+01   25691.160000   \n",
       "\n",
       "               Class  \n",
       "count  284807.000000  \n",
       "mean        0.001727  \n",
       "std         0.041527  \n",
       "min         0.000000  \n",
       "25%         0.000000  \n",
       "50%         0.000000  \n",
       "75%         0.000000  \n",
       "max         1.000000  \n",
       "\n",
       "[8 rows x 31 columns]"
      ]
     },
     "execution_count": 9,
     "metadata": {},
     "output_type": "execute_result"
    }
   ],
   "source": [
    "data.describe()"
   ]
  },
  {
   "cell_type": "markdown",
   "metadata": {},
   "source": [
    "#### Observations"
   ]
  },
  {
   "cell_type": "code",
   "execution_count": 10,
   "metadata": {},
   "outputs": [
    {
     "data": {
      "text/plain": [
       "(284807, 31)"
      ]
     },
     "execution_count": 10,
     "metadata": {},
     "output_type": "execute_result"
    }
   ],
   "source": [
    "data.shape"
   ]
  },
  {
   "cell_type": "code",
   "execution_count": 11,
   "metadata": {},
   "outputs": [
    {
     "data": {
      "text/plain": [
       "Index(['Time', 'V1', 'V2', 'V3', 'V4', 'V5', 'V6', 'V7', 'V8', 'V9', 'V10',\n",
       "       'V11', 'V12', 'V13', 'V14', 'V15', 'V16', 'V17', 'V18', 'V19', 'V20',\n",
       "       'V21', 'V22', 'V23', 'V24', 'V25', 'V26', 'V27', 'V28', 'Amount',\n",
       "       'Class'],\n",
       "      dtype='object')"
      ]
     },
     "execution_count": 11,
     "metadata": {},
     "output_type": "execute_result"
    }
   ],
   "source": [
    "data.columns"
   ]
  },
  {
   "cell_type": "code",
   "execution_count": 12,
   "metadata": {},
   "outputs": [
    {
     "data": {
      "text/plain": [
       "0"
      ]
     },
     "execution_count": 12,
     "metadata": {},
     "output_type": "execute_result"
    }
   ],
   "source": [
    "#### Checking for null values in dataset\n",
    "data.isnull().sum().max()"
   ]
  },
  {
   "cell_type": "code",
   "execution_count": 14,
   "metadata": {},
   "outputs": [
    {
     "data": {
      "image/png": "[encoded data removed]",
      "text/plain": [
       "<Figure size 2160x1440 with 36 Axes>"
      ]
     },
     "metadata": {
      "needs_background": "light"
     },
     "output_type": "display_data"
    }
   ],
   "source": [
    "# Plot the histograms of each \n",
    "data.hist(bins=50, figsize=(30,20))\n",
    "plt.show()"
   ]
  },
  {
   "cell_type": "markdown",
   "metadata": {},
   "source": [
    "##### We can observe that all the features in dataset are scaled except amount and time.\n",
    "##### So, in next step I am going to scale Amount column in dataset and delete time column."
   ]
  },
  {
   "cell_type": "code",
   "execution_count": 8,
   "metadata": {},
   "outputs": [],
   "source": [
    "data['normal_amount'] = StandardScaler().fit_transform(data['Amount'].values.reshape(-1,1))\n",
    "data = data.drop(['Amount','Time'], axis=1)\n",
    "X = data.loc[:,data.columns != 'Class']\n",
    "y = data.loc[:,data.columns == 'Class']"
   ]
  },
  {
   "cell_type": "code",
   "execution_count": 15,
   "metadata": {},
   "outputs": [
    {
     "data": {
      "image/png": "[encoded data removed]",
      "text/plain": [
       "<Figure size 864x288 with 2 Axes>"
      ]
     },
     "metadata": {
      "needs_background": "light"
     },
     "output_type": "display_data"
    }
   ],
   "source": [
    "f, (ax1, ax2) = plt.subplots(2, 1, sharex=True, figsize=(12,4))\n",
    "\n",
    "bins = 30\n",
    "\n",
    "ax1.hist(data.normal_amount[data.Class == 1], bins = bins)\n",
    "ax1.set_title('Fraud')\n",
    "\n",
    "ax2.hist(data.normal_amount[data.Class == 0], bins = bins)\n",
    "ax2.set_title('Normal')\n",
    "\n",
    "plt.xlabel('Amount ($)')\n",
    "plt.ylabel('Number of Transactions')\n",
    "plt.yscale('log')\n",
    "plt.show()"
   ]
  },
  {
   "cell_type": "markdown",
   "metadata": {},
   "source": [
    "##### We can observe from the above figure that the fraud transactions amount is very less.\n",
    "##### In next step I am going to visualize number of fraud transactions and number of Non-fraud transactions."
   ]
  },
  {
   "cell_type": "code",
   "execution_count": 16,
   "metadata": {},
   "outputs": [
    {
     "data": {
      "text/plain": [
       "Text(0, 0.5, 'Frequency')"
      ]
     },
     "execution_count": 16,
     "metadata": {},
     "output_type": "execute_result"
    },
    {
     "data": {
      "image/png": "[encoded data removed]",
      "text/plain": [
       "<Figure size 432x288 with 1 Axes>"
      ]
     },
     "metadata": {
      "needs_background": "light"
     },
     "output_type": "display_data"
    }
   ],
   "source": [
    "# Now lets check the class distributions\n",
    "sns.countplot(\"Class\",data=data)\n",
    "plt.title(\"Fraud class histogram\")\n",
    "plt.xlabel(\"Class\")\n",
    "plt.ylabel(\"Frequency\")"
   ]
  },
  {
   "cell_type": "markdown",
   "metadata": {},
   "source": [
    "##### As you can observe from the plot, we have so many 0 (non-fraud) compared to 1 (fraud). \n",
    "##### This kind of imbalance in the target variable is known as class imbalance."
   ]
  },
  {
   "cell_type": "code",
   "execution_count": 17,
   "metadata": {},
   "outputs": [
    {
     "name": "stdout",
     "output_type": "stream",
     "text": [
      "Percentage of normal transactions:  0.9982761930827141\n",
      "Percentage of fraud transactions:  0.0017238069172858619\n",
      "Total number of transactions in data:  244807\n"
     ]
    }
   ],
   "source": [
    "# Showing ratio\n",
    "print(\"Percentage of normal transactions: \", len(data[data.Class == 0])/len(data))\n",
    "print(\"Percentage of fraud transactions: \", len(data[data.Class == 1])/len(data))\n",
    "print(\"Total number of transactions in data: \", len(data))"
   ]
  },
  {
   "cell_type": "markdown",
   "metadata": {},
   "source": [
    "##### Most of the transactions were Non-Fraud (99.83%) of the time,\n",
    "##### while Fraud transactions occurs 0.17% of the time in the dataframe."
   ]
  },
  {
   "cell_type": "markdown",
   "metadata": {},
   "source": [
    "#### Splitting original dataset into test and train"
   ]
  },
  {
   "cell_type": "code",
   "execution_count": 10,
   "metadata": {},
   "outputs": [],
   "source": [
    "X_train, X_test, y_train, y_test = train_test_split(X,y,test_size = 0.3, random_state = 0)"
   ]
  },
  {
   "cell_type": "markdown",
   "metadata": {},
   "source": [
    "### 1] Logistic regression on imbalanced dataset"
   ]
  },
  {
   "cell_type": "code",
   "execution_count": 19,
   "metadata": {},
   "outputs": [
    {
     "data": {
      "text/plain": [
       "LogisticRegression(C=1.0, class_weight=None, dual=False, fit_intercept=True,\n",
       "          intercept_scaling=1, max_iter=100, multi_class='warn',\n",
       "          n_jobs=None, penalty='l2', random_state=None, solver='warn',\n",
       "          tol=0.0001, verbose=0, warm_start=False)"
      ]
     },
     "execution_count": 19,
     "metadata": {},
     "output_type": "execute_result"
    }
   ],
   "source": [
    "lr = LogisticRegression()\n",
    "lr.fit(X_train,y_train)"
   ]
  },
  {
   "cell_type": "code",
   "execution_count": 20,
   "metadata": {},
   "outputs": [
    {
     "name": "stdout",
     "output_type": "stream",
     "text": [
      "Logistic Regression Cross Validation Score(Recall):  60.16%\n",
      "Recall: 0.6481481481481481\n",
      "Log Loss: 0.021162677654140833\n",
      "Precision: 0.9090909090909091\n",
      "Accurcay: 0.9993872799313753\n",
      "AUC:  0.8240263478860329\n",
      "F1 Score: 0.7567567567567568\n",
      "Confusion matrix:\n",
      " [[73328     7]\n",
      " [   38    70]]\n"
     ]
    },
    {
     "data": {
      "image/png": "[encoded data removed]",
      "text/plain": [
       "<Figure size 432x288 with 2 Axes>"
      ]
     },
     "metadata": {
      "needs_background": "light"
     },
     "output_type": "display_data"
    }
   ],
   "source": [
    "# Accuracy metrics for \n",
    "y_pred = lr.predict(X_test)\n",
    "cross_validation_metrics(lr,X_train,y_train)\n",
    "print_accuracy_metrics(y_test,y_pred)"
   ]
  },
  {
   "cell_type": "markdown",
   "metadata": {},
   "source": [
    "##### Observatios\n",
    "By observing the accuracy we can conclude that algorithm is performing extremely well . But it’s not true. As most of the labels 0, even random guess gives you 99% accuracy. So we need a better measure to understand the performance of the model. "
   ]
  },
  {
   "cell_type": "markdown",
   "metadata": {},
   "source": [
    "##### Recall\n",
    "Recall is a measure which measures the ability of model to predict right for a given label. In our case, we want to test the model how accurately it can recall fraud cases as we are interested in that.\n",
    "As you can observe from the results, the recall for 1.0 is only 0.6016 compared to 99% for 0. So our model is not doing a good job of recognising frauds. So this shows that how imbalanced data is effecting accuracy of model."
   ]
  },
  {
   "cell_type": "markdown",
   "metadata": {},
   "source": [
    "### 2]  Using Class Weight (Logistic regression)\n",
    "Scikit-learn logistic regression has a option named class_weight when specified does class imbalance handling implicitly. So trying to predict using this technique"
   ]
  },
  {
   "cell_type": "code",
   "execution_count": 11,
   "metadata": {
    "scrolled": true
   },
   "outputs": [
    {
     "data": {
      "text/plain": [
       "LogisticRegression(C=1.0, class_weight='balanced', dual=False,\n",
       "          fit_intercept=True, intercept_scaling=1, max_iter=100,\n",
       "          multi_class='warn', n_jobs=None, penalty='l2', random_state=None,\n",
       "          solver='warn', tol=0.0001, verbose=0, warm_start=False)"
      ]
     },
     "execution_count": 11,
     "metadata": {},
     "output_type": "execute_result"
    }
   ],
   "source": [
    "lr_balanced = LogisticRegression(class_weight = 'balanced')\n",
    "lr_balanced.fit(X_train,y_train)"
   ]
  },
  {
   "cell_type": "code",
   "execution_count": 12,
   "metadata": {},
   "outputs": [
    {
     "name": "stdout",
     "output_type": "stream",
     "text": [
      "Logistic Regression Cross Validation Score(Recall):  89.86%\n",
      "Recall: 0.9115646258503401\n",
      "Log Loss: 0.7882701074435376\n",
      "Precision: 0.06470304200869145\n",
      "Accurcay: 0.9771777676345634\n",
      "AUC:  0.9444277359227315\n",
      "F1 Score: 0.12082957619477007\n",
      "Confusion matrix:\n",
      " [[83359  1937]\n",
      " [   13   134]]\n"
     ]
    },
    {
     "data": {
      "image/png": "[encoded data removed]",
      "text/plain": [
       "<Figure size 432x288 with 2 Axes>"
      ]
     },
     "metadata": {
      "needs_background": "light"
     },
     "output_type": "display_data"
    }
   ],
   "source": [
    "y_balanced_pred = lr_balanced.predict(X_test)\n",
    "cross_validation_metrics(lr_balanced,X_train,y_train)\n",
    "print_accuracy_metrics(y_test,y_balanced_pred)"
   ]
  },
  {
   "cell_type": "code",
   "execution_count": 23,
   "metadata": {},
   "outputs": [],
   "source": [
    "y_balanced_pred_prob = lr_balanced.predict_proba(X_test)[:, 1]"
   ]
  },
  {
   "cell_type": "code",
   "execution_count": 24,
   "metadata": {},
   "outputs": [
    {
     "name": "stdout",
     "output_type": "stream",
     "text": [
      "Prob: [0.11795312 0.10853555 0.16233188 0.04109433 0.06952336 0.8054823\n",
      " 0.33638875 0.01525269 0.01663033 0.45291477 0.03846819 0.02975751\n",
      " 0.00137332 0.00313013 0.00775784 0.05660248 0.01766819 0.00898342\n",
      " 0.09351198 0.05154421]\n"
     ]
    }
   ],
   "source": [
    "print('Prob:', y_balanced_pred_prob[0:20])"
   ]
  },
  {
   "cell_type": "code",
   "execution_count": 25,
   "metadata": {},
   "outputs": [
    {
     "name": "stdout",
     "output_type": "stream",
     "text": [
      "Prob: [0 0 0 0 0 1 0 0 0 0 0 0 0 0 0 0 0 0 0 0]\n"
     ]
    }
   ],
   "source": [
    "print('Prob:', y_balanced_pred[0:20])"
   ]
  },
  {
   "cell_type": "markdown",
   "metadata": {},
   "source": [
    "##### Undersampling of the dataset\n",
    "Undersampling is one of the techniques used for handling class imbalance.\n",
    "In this technique, we under sample majority class to match the minority class.\n",
    "So in our example, we take random sample of non-fraud class to match number of fraud samples. \n",
    "This makes sure that the training data has equal amount of fraud and non-fraud samples."
   ]
  },
  {
   "cell_type": "code",
   "execution_count": 28,
   "metadata": {},
   "outputs": [],
   "source": [
    "number_records_fraud = len(data[data.Class == 1])\n",
    "fraud_indices = np.array(data[data.Class == 1].index)"
   ]
  },
  {
   "cell_type": "code",
   "execution_count": 29,
   "metadata": {},
   "outputs": [],
   "source": [
    "normal_indices = data[data.Class == 0].index"
   ]
  },
  {
   "cell_type": "code",
   "execution_count": 30,
   "metadata": {},
   "outputs": [],
   "source": [
    "random_normal_indices = np.random.choice(normal_indices, number_records_fraud, replace = False)\n",
    "random_normal_indices = np.array(random_normal_indices)"
   ]
  },
  {
   "cell_type": "code",
   "execution_count": 31,
   "metadata": {},
   "outputs": [],
   "source": [
    "under_sample_indices = np.concatenate([fraud_indices,random_normal_indices])"
   ]
  },
  {
   "cell_type": "code",
   "execution_count": 32,
   "metadata": {},
   "outputs": [],
   "source": [
    "under_sample = data.iloc[under_sample_indices,:]"
   ]
  },
  {
   "cell_type": "code",
   "execution_count": 28,
   "metadata": {},
   "outputs": [
    {
     "data": {
      "text/plain": [
       "(844, 30)"
      ]
     },
     "execution_count": 28,
     "metadata": {},
     "output_type": "execute_result"
    }
   ],
   "source": [
    "under_sample.shape"
   ]
  },
  {
   "cell_type": "markdown",
   "metadata": {},
   "source": [
    "So there are total 844 observations in our undersample dataframe.\n",
    "##### Visualising Undersampled Data"
   ]
  },
  {
   "cell_type": "code",
   "execution_count": 29,
   "metadata": {},
   "outputs": [
    {
     "data": {
      "text/plain": [
       "Text(0, 0.5, 'Frequency')"
      ]
     },
     "execution_count": 29,
     "metadata": {},
     "output_type": "execute_result"
    },
    {
     "data": {
      "image/png": "[encoded data removed]",
      "text/plain": [
       "<Figure size 432x288 with 1 Axes>"
      ]
     },
     "metadata": {
      "needs_background": "light"
     },
     "output_type": "display_data"
    }
   ],
   "source": [
    "# Now lets check the class distributions\n",
    "sns.countplot(\"Class\",data=under_sample)\n",
    "plt.title(\"Fraud class histogram\")\n",
    "plt.xlabel(\"Class\")\n",
    "plt.ylabel(\"Frequency\")"
   ]
  },
  {
   "cell_type": "markdown",
   "metadata": {},
   "source": [
    "##### In the above plot, you can observe that classes are distributed evenly now."
   ]
  },
  {
   "cell_type": "markdown",
   "metadata": {},
   "source": [
    "If we try to correlate class and features on imbalanced dataset then it will be of no use because we will not see true correlations of features with result. While now I am going to see the features and their correlations w.r.t class on undersampled dataframe."
   ]
  },
  {
   "cell_type": "code",
   "execution_count": 28,
   "metadata": {},
   "outputs": [
    {
     "data": {
      "text/plain": [
       "<matplotlib.axes._subplots.AxesSubplot at 0x1cea74d0>"
      ]
     },
     "execution_count": 28,
     "metadata": {},
     "output_type": "execute_result"
    },
    {
     "data": {
      "image/png": "[encoded data removed]",
      "text/plain": [
       "<Figure size 1800x1080 with 2 Axes>"
      ]
     },
     "metadata": {
      "needs_background": "light"
     },
     "output_type": "display_data"
    }
   ],
   "source": [
    "# correlation matrix\n",
    "corrmat =under_sample.corr()\n",
    "fig,ax= plt.subplots()\n",
    "fig.set_size_inches(25,15)\n",
    "sns.heatmap(corrmat,square=True)"
   ]
  },
  {
   "cell_type": "code",
   "execution_count": 47,
   "metadata": {},
   "outputs": [
    {
     "data": {
      "text/plain": [
       "RandomForestClassifier(bootstrap=True, class_weight=None, criterion='gini',\n",
       "            max_depth=None, max_features='sqrt', max_leaf_nodes=None,\n",
       "            min_impurity_decrease=0.0, min_impurity_split=None,\n",
       "            min_samples_leaf=1, min_samples_split=2,\n",
       "            min_weight_fraction_leaf=0.0, n_estimators=100, n_jobs=-1,\n",
       "            oob_score=False, random_state=None, verbose=0,\n",
       "            warm_start=False)"
      ]
     },
     "execution_count": 47,
     "metadata": {},
     "output_type": "execute_result"
    }
   ],
   "source": [
    "rf = RandomForestClassifier(n_estimators=100, \n",
    "                            criterion='gini', \n",
    "                            max_features='sqrt',\n",
    "                            n_jobs=-1)\n",
    "rf.fit(X_under_train, y_under_train)"
   ]
  },
  {
   "cell_type": "code",
   "execution_count": 48,
   "metadata": {},
   "outputs": [
    {
     "name": "stdout",
     "output_type": "stream",
     "text": [
      "Feature ranking:\n",
      "1. V14 (0.163468)\n",
      "2. V10 (0.142475)\n",
      "3. V4 (0.135820)\n",
      "4. V17 (0.077558)\n",
      "5. V3 (0.066908)\n",
      "6. V12 (0.063024)\n",
      "7. V11 (0.059748)\n",
      "8. V7 (0.035103)\n",
      "9. V2 (0.029975)\n",
      "10. V16 (0.025015)\n",
      "11. V18 (0.020058)\n",
      "12. V8 (0.014964)\n",
      "13. V6 (0.014854)\n",
      "14. V5 (0.011935)\n",
      "15. V23 (0.011827)\n",
      "16. V9 (0.011814)\n",
      "17. V19 (0.011713)\n",
      "18. V13 (0.011508)\n",
      "19. V1 (0.010258)\n",
      "20. V27 (0.010227)\n",
      "21. V20 (0.010050)\n",
      "22. normal_amount (0.009788)\n",
      "23. V21 (0.008971)\n",
      "24. V22 (0.008304)\n",
      "25. V15 (0.008091)\n",
      "26. V28 (0.006979)\n",
      "27. V26 (0.006722)\n",
      "28. V25 (0.006679)\n",
      "29. V24 (0.006168)\n"
     ]
    },
    {
     "data": {
      "image/png": "[encoded data removed]",
      "text/plain": [
       "<Figure size 432x288 with 1 Axes>"
      ]
     },
     "metadata": {
      "needs_background": "light"
     },
     "output_type": "display_data"
    }
   ],
   "source": [
    "feature_importance(rf,X_under_train)"
   ]
  },
  {
   "cell_type": "markdown",
   "metadata": {},
   "source": [
    "##### From the above heeatmap we can say that many of features are correlated but we are more interested in correlation of features with class. So I am going to list those features whose correlation coefficient w.r.t class is less than -0.6 or greater than 0.6"
   ]
  },
  {
   "cell_type": "code",
   "execution_count": 30,
   "metadata": {},
   "outputs": [
    {
     "data": {
      "text/html": [
       "<div>\n",
       "<style scoped>\n",
       "    .dataframe tbody tr th:only-of-type {\n",
       "        vertical-align: middle;\n",
       "    }\n",
       "\n",
       "    .dataframe tbody tr th {\n",
       "        vertical-align: top;\n",
       "    }\n",
       "\n",
       "    .dataframe thead th {\n",
       "        text-align: right;\n",
       "    }\n",
       "</style>\n",
       "<table border=\"1\" class=\"dataframe\">\n",
       "  <thead>\n",
       "    <tr style=\"text-align: right;\">\n",
       "      <th></th>\n",
       "      <th>Class</th>\n",
       "    </tr>\n",
       "  </thead>\n",
       "  <tbody>\n",
       "    <tr>\n",
       "      <th>V10</th>\n",
       "      <td>-0.633606</td>\n",
       "    </tr>\n",
       "    <tr>\n",
       "      <th>V12</th>\n",
       "      <td>-0.677653</td>\n",
       "    </tr>\n",
       "    <tr>\n",
       "      <th>V14</th>\n",
       "      <td>-0.740321</td>\n",
       "    </tr>\n",
       "  </tbody>\n",
       "</table>\n",
       "</div>"
      ],
      "text/plain": [
       "        Class\n",
       "V10 -0.633606\n",
       "V12 -0.677653\n",
       "V14 -0.740321"
      ]
     },
     "execution_count": 30,
     "metadata": {},
     "output_type": "execute_result"
    }
   ],
   "source": [
    "#negative correlations smaller than -0.5\n",
    "corr = under_sample.corr()\n",
    "corr = corr[['Class']]\n",
    "corr[corr.Class < -0.6]"
   ]
  },
  {
   "cell_type": "code",
   "execution_count": 31,
   "metadata": {},
   "outputs": [
    {
     "data": {
      "text/html": [
       "<div>\n",
       "<style scoped>\n",
       "    .dataframe tbody tr th:only-of-type {\n",
       "        vertical-align: middle;\n",
       "    }\n",
       "\n",
       "    .dataframe tbody tr th {\n",
       "        vertical-align: top;\n",
       "    }\n",
       "\n",
       "    .dataframe thead th {\n",
       "        text-align: right;\n",
       "    }\n",
       "</style>\n",
       "<table border=\"1\" class=\"dataframe\">\n",
       "  <thead>\n",
       "    <tr style=\"text-align: right;\">\n",
       "      <th></th>\n",
       "      <th>Class</th>\n",
       "    </tr>\n",
       "  </thead>\n",
       "  <tbody>\n",
       "    <tr>\n",
       "      <th>V4</th>\n",
       "      <td>0.698864</td>\n",
       "    </tr>\n",
       "    <tr>\n",
       "      <th>V11</th>\n",
       "      <td>0.688469</td>\n",
       "    </tr>\n",
       "    <tr>\n",
       "      <th>Class</th>\n",
       "      <td>1.000000</td>\n",
       "    </tr>\n",
       "  </tbody>\n",
       "</table>\n",
       "</div>"
      ],
      "text/plain": [
       "          Class\n",
       "V4     0.698864\n",
       "V11    0.688469\n",
       "Class  1.000000"
      ]
     },
     "execution_count": 31,
     "metadata": {},
     "output_type": "execute_result"
    }
   ],
   "source": [
    "#positive correlations greater than 0.5\n",
    "corr[corr.Class > 0.6]"
   ]
  },
  {
   "cell_type": "markdown",
   "metadata": {},
   "source": [
    "##### BoxPlots\n",
    "We will use boxplots to have a better understanding of the distribution of these features in fradulent and non fradulent transactions."
   ]
  },
  {
   "cell_type": "code",
   "execution_count": 32,
   "metadata": {},
   "outputs": [
    {
     "data": {
      "image/png": "[encoded data removed]",
      "text/plain": [
       "<Figure size 1872x1152 with 5 Axes>"
      ]
     },
     "metadata": {
      "needs_background": "light"
     },
     "output_type": "display_data"
    }
   ],
   "source": [
    "#visualizing the features with high correlation\n",
    "f, axes = plt.subplots(nrows=2, ncols=3, figsize=(26,16))\n",
    "f.suptitle('Features With High Correlation', size=35)\n",
    "sns.boxplot(x=\"Class\", y=\"V10\", data=under_sample, ax=axes[0,0])\n",
    "sns.boxplot(x=\"Class\", y=\"V12\", data=under_sample, ax=axes[0,1])\n",
    "sns.boxplot(x=\"Class\", y=\"V14\", data=under_sample, ax=axes[0,2])\n",
    "sns.boxplot(x=\"Class\", y=\"V4\", data=under_sample, ax=axes[1,0])\n",
    "sns.boxplot(x=\"Class\", y=\"V11\", data=under_sample, ax=axes[1,1])\n",
    "f.delaxes(axes[1,2])"
   ]
  },
  {
   "cell_type": "markdown",
   "metadata": {},
   "source": [
    "Box plots provide us with a good intuition of whether we need to worry about outliers as all transactions outside of 1.5 times the IQR (Inter-Quartile Range) are usually considered to be outliers. However, removing all transactions outside of 1.5 times the IQR would dramatically decrease  training data size, which is not very large, to begin with. Thus, I decided to only focus on extreme outliers outside of 2.5 times the IQR."
   ]
  },
  {
   "cell_type": "code",
   "execution_count": 33,
   "metadata": {},
   "outputs": [
    {
     "data": {
      "text/plain": [
       "(844, 30)"
      ]
     },
     "execution_count": 33,
     "metadata": {},
     "output_type": "execute_result"
    }
   ],
   "source": [
    "under_sample.shape"
   ]
  },
  {
   "cell_type": "markdown",
   "metadata": {},
   "source": [
    "###### Removing extreme outliers"
   ]
  },
  {
   "cell_type": "code",
   "execution_count": 18,
   "metadata": {},
   "outputs": [],
   "source": [
    "v14_fraud = under_sample['V14'].loc[under_sample['Class'] == 1].values\n",
    "q25, q75 = np.percentile(v14_fraud, 25), np.percentile(v14_fraud, 75)\n",
    "v14_iqr = q75 - q25\n",
    "v14_cut_off = v14_iqr * 2.5\n",
    "v14_lower, v14_upper = q25 - v14_cut_off, q75 + v14_cut_off\n",
    "under_sample= under_sample.drop(under_sample[(under_sample['V14'] > v14_upper) | (under_sample['V14'] < v14_lower)].index)\n"
   ]
  },
  {
   "cell_type": "code",
   "execution_count": 19,
   "metadata": {},
   "outputs": [],
   "source": [
    "v12_fraud = under_sample['V12'].loc[under_sample['Class'] == 1].values\n",
    "q25, q75 = np.percentile(v12_fraud, 25), np.percentile(v12_fraud, 75)\n",
    "v12_iqr = q75 - q25\n",
    "v12_cut_off = v12_iqr * 2.5\n",
    "v12_lower, v12_upper = q25 - v12_cut_off, q75 + v12_cut_off\n",
    "under_sample= under_sample.drop(under_sample[(under_sample['V12'] > v12_upper) | (under_sample['V12'] < v12_lower)].index)\n"
   ]
  },
  {
   "cell_type": "code",
   "execution_count": 20,
   "metadata": {},
   "outputs": [],
   "source": [
    "v10_fraud = under_sample['V10'].loc[under_sample['Class'] == 1].values\n",
    "q25, q75 = np.percentile(v10_fraud, 25), np.percentile(v10_fraud, 75)\n",
    "v10_iqr = q75 - q25\n",
    "v10_cut_off = v10_iqr * 2.5\n",
    "v10_lower, v10_upper = q25 - v10_cut_off, q75 + v10_cut_off\n",
    "under_sample= under_sample.drop(under_sample[(under_sample['V10'] > v10_upper) | (under_sample['V10'] < v10_lower)].index)\n"
   ]
  },
  {
   "cell_type": "code",
   "execution_count": 21,
   "metadata": {},
   "outputs": [],
   "source": [
    "v4_fraud = under_sample['V4'].loc[under_sample['Class'] == 1].values\n",
    "q25, q75 = np.percentile(v4_fraud, 25), np.percentile(v4_fraud, 75)\n",
    "v4_iqr = q75 - q25\n",
    "v4_cut_off = v4_iqr * 2.5\n",
    "v4_lower, v4_upper = q25 - v4_cut_off, q75 + v4_cut_off\n",
    "under_sample= under_sample.drop(under_sample[(under_sample['V4'] > v4_upper) | (under_sample['V4'] < v4_lower)].index)"
   ]
  },
  {
   "cell_type": "code",
   "execution_count": 22,
   "metadata": {},
   "outputs": [],
   "source": [
    "v11_fraud = under_sample['V11'].loc[under_sample['Class'] == 1].values\n",
    "q25, q75 = np.percentile(v11_fraud, 25), np.percentile(v11_fraud, 75)\n",
    "v11_iqr = q75 - q25\n",
    "v11_cut_off = v11_iqr * 2.5\n",
    "v11_lower, v11_upper = q25 - v11_cut_off, q75 + v11_cut_off\n",
    "under_sample= under_sample.drop(under_sample[(under_sample['V11'] > v11_upper) | (under_sample['V11'] < v11_lower)].index)"
   ]
  },
  {
   "cell_type": "code",
   "execution_count": 23,
   "metadata": {},
   "outputs": [
    {
     "data": {
      "text/plain": [
       "(976, 30)"
      ]
     },
     "execution_count": 23,
     "metadata": {},
     "output_type": "execute_result"
    }
   ],
   "source": [
    "under_sample.shape"
   ]
  },
  {
   "cell_type": "markdown",
   "metadata": {},
   "source": [
    "##### After removing outliers our under sample dataframe is reduced to "
   ]
  },
  {
   "cell_type": "markdown",
   "metadata": {},
   "source": [
    "I have tried to run this notebook without removing outliers and after removing outliers but I got better result before removing outliers.Before even thinking of removing outliers there should be enough evidence that these observations are actual outliers Before removing outliers. It should be done by in depth statistical analysis to make sure that these observations are actual outliers because different ML methods used for detecting fraud, are based on anomaly detection and they treat such extreme outliers as frauds. So, by deleting it we delete the most important observations, that have higher probability of being frauds"
   ]
  },
  {
   "cell_type": "markdown",
   "metadata": {},
   "source": [
    "##### Splitting under sampled dataframe"
   ]
  },
  {
   "cell_type": "code",
   "execution_count": 33,
   "metadata": {},
   "outputs": [],
   "source": [
    "X_under = under_sample.loc[:,under_sample.columns != 'Class']\n",
    "y_under = under_sample.loc[:,under_sample.columns == 'Class']\n",
    "X_under_train, X_under_test, y_under_train, y_under_test = train_test_split(X_under,y_under,test_size = 0.3, random_state = 0)"
   ]
  },
  {
   "cell_type": "markdown",
   "metadata": {},
   "source": [
    "### 3] Logistic regression with C=0.01"
   ]
  },
  {
   "cell_type": "code",
   "execution_count": 34,
   "metadata": {},
   "outputs": [
    {
     "data": {
      "text/plain": [
       "LogisticRegression(C=0.01, class_weight=None, dual=False, fit_intercept=True,\n",
       "          intercept_scaling=1, max_iter=100, multi_class='warn',\n",
       "          n_jobs=None, penalty='l1', random_state=None, solver='warn',\n",
       "          tol=0.0001, verbose=0, warm_start=False)"
      ]
     },
     "execution_count": 34,
     "metadata": {},
     "output_type": "execute_result"
    }
   ],
   "source": [
    "lr_under_C1 = LogisticRegression(C=0.01,penalty = 'l1')\n",
    "lr_under_C1.fit(X_under_train,y_under_train)"
   ]
  },
  {
   "cell_type": "code",
   "execution_count": 35,
   "metadata": {},
   "outputs": [
    {
     "name": "stdout",
     "output_type": "stream",
     "text": [
      "Logistic Regression Cross Validation Score(Recall):  96.23%\n",
      "Recall: 0.9115646258503401\n",
      "Log Loss: 3.5007281778367507\n",
      "Precision: 0.01526022093155677\n",
      "Accurcay: 0.8986458808796508\n",
      "AUC:  0.9050941212162975\n",
      "F1 Score: 0.030017921146953407\n",
      "Confusion matrix:\n",
      " [[76649  8647]\n",
      " [   13   134]]\n"
     ]
    },
    {
     "data": {
      "image/png": "[encoded data removed]",
      "text/plain": [
       "<Figure size 432x288 with 2 Axes>"
      ]
     },
     "metadata": {
      "needs_background": "light"
     },
     "output_type": "display_data"
    }
   ],
   "source": [
    "# Prediction on original dataframe\n",
    "y_pred_full_model1 = lr_under_C1.predict(X_test)\n",
    "cross_validation_metrics(lr_under_C1,X_under_train,y_under_train)\n",
    "print_accuracy_metrics(y_test,y_pred_full_model1)"
   ]
  },
  {
   "cell_type": "markdown",
   "metadata": {},
   "source": [
    "### 4] Logistic regression with C=0.1"
   ]
  },
  {
   "cell_type": "code",
   "execution_count": 36,
   "metadata": {},
   "outputs": [
    {
     "data": {
      "text/plain": [
       "LogisticRegression(C=0.1, class_weight=None, dual=False, fit_intercept=True,\n",
       "          intercept_scaling=1, max_iter=100, multi_class='warn',\n",
       "          n_jobs=None, penalty='l1', random_state=None, solver='warn',\n",
       "          tol=0.0001, verbose=0, warm_start=False)"
      ]
     },
     "execution_count": 36,
     "metadata": {},
     "output_type": "execute_result"
    }
   ],
   "source": [
    "lr_under_C2 = LogisticRegression(C=0.1,penalty = 'l1')\n",
    "lr_under_C2.fit(X_under_train,y_under_train)"
   ]
  },
  {
   "cell_type": "code",
   "execution_count": 41,
   "metadata": {},
   "outputs": [
    {
     "name": "stdout",
     "output_type": "stream",
     "text": [
      "Logistic Regression Cross Validation Score(Recall):  88.99%\n",
      "Recall: 0.9115646258503401\n",
      "Log Loss: 0.6209142741882784\n",
      "Precision: 0.08086904043452021\n",
      "Accurcay: 0.9820231031213792\n",
      "AUC:  0.9468545789165413\n",
      "F1 Score: 0.14855875831485585\n",
      "Confusion matrix:\n",
      " [[83773  1523]\n",
      " [   13   134]]\n"
     ]
    },
    {
     "data": {
      "image/png": "[encoded data removed]",
      "text/plain": [
       "<Figure size 432x288 with 2 Axes>"
      ]
     },
     "metadata": {
      "needs_background": "light"
     },
     "output_type": "display_data"
    }
   ],
   "source": [
    "# Prediction on original dataset\n",
    "y_pred_full_model2 = lr_under_C2.predict(X_test)\n",
    "cross_validation_metrics(lr_under_C2,X_under_train,y_under_train)\n",
    "print_accuracy_metrics(y_test,y_pred_full_model2)"
   ]
  },
  {
   "cell_type": "markdown",
   "metadata": {},
   "source": [
    "### 5] Logistic regression with C=1"
   ]
  },
  {
   "cell_type": "code",
   "execution_count": 39,
   "metadata": {},
   "outputs": [
    {
     "data": {
      "text/plain": [
       "LogisticRegression(C=1, class_weight=None, dual=False, fit_intercept=True,\n",
       "          intercept_scaling=1, max_iter=100, multi_class='warn',\n",
       "          n_jobs=None, penalty='l1', random_state=None, solver='warn',\n",
       "          tol=0.0001, verbose=0, warm_start=False)"
      ]
     },
     "execution_count": 39,
     "metadata": {},
     "output_type": "execute_result"
    }
   ],
   "source": [
    "lr_under_C3 = LogisticRegression(C=1,penalty = 'l1')\n",
    "lr_under_C3.fit(X_under_train,y_under_train)"
   ]
  },
  {
   "cell_type": "code",
   "execution_count": 40,
   "metadata": {},
   "outputs": [
    {
     "name": "stdout",
     "output_type": "stream",
     "text": [
      "Logistic Regression Cross Validation Score(Recall):  91.19%\n",
      "Recall: 0.9259259259259259\n",
      "Log Loss: 1.4306248896684717\n",
      "Precision: 0.03190810465858328\n",
      "Accurcay: 0.9585801233609739\n",
      "AUC:  0.9422770694605426\n",
      "F1 Score: 0.061690314620604564\n",
      "Confusion matrix:\n",
      " [[70301  3034]\n",
      " [    8   100]]\n"
     ]
    },
    {
     "data": {
      "image/png": "[encoded data removed]",
      "text/plain": [
       "<Figure size 432x288 with 2 Axes>"
      ]
     },
     "metadata": {
      "needs_background": "light"
     },
     "output_type": "display_data"
    }
   ],
   "source": [
    "# Prediction on original dataset\n",
    "y_pred_full_model3 = lr_under_C3.predict(X_test)\n",
    "cross_validation_metrics(lr_under_C3,X_under_train,y_under_train)\n",
    "print_accuracy_metrics(y_test,y_pred_full_model3)"
   ]
  },
  {
   "cell_type": "markdown",
   "metadata": {},
   "source": [
    "### 6] Logistic regreesion with C=10"
   ]
  },
  {
   "cell_type": "code",
   "execution_count": 41,
   "metadata": {},
   "outputs": [
    {
     "data": {
      "text/plain": [
       "LogisticRegression(C=10, class_weight=None, dual=False, fit_intercept=True,\n",
       "          intercept_scaling=1, max_iter=100, multi_class='warn',\n",
       "          n_jobs=None, penalty='l1', random_state=None, solver='warn',\n",
       "          tol=0.0001, verbose=0, warm_start=False)"
      ]
     },
     "execution_count": 41,
     "metadata": {},
     "output_type": "execute_result"
    }
   ],
   "source": [
    "lr_under_C4 = LogisticRegression(C=10,penalty = 'l1')\n",
    "lr_under_C4.fit(X_under_train,y_under_train)"
   ]
  },
  {
   "cell_type": "code",
   "execution_count": 42,
   "metadata": {},
   "outputs": [
    {
     "name": "stdout",
     "output_type": "stream",
     "text": [
      "Logistic Regression Cross Validation Score(Recall):  90.51%\n",
      "Recall: 0.9259259259259259\n",
      "Log Loss: 1.6827008224584545\n",
      "Precision: 0.027247956403269755\n",
      "Accurcay: 0.951281946543578\n",
      "AUC:  0.9386226070619608\n",
      "F1 Score: 0.05293806246691372\n",
      "Confusion matrix:\n",
      " [[69765  3570]\n",
      " [    8   100]]\n"
     ]
    },
    {
     "data": {
      "image/png": "[encoded data removed]",
      "text/plain": [
       "<Figure size 432x288 with 2 Axes>"
      ]
     },
     "metadata": {
      "needs_background": "light"
     },
     "output_type": "display_data"
    }
   ],
   "source": [
    "# Prediction on original dataset\n",
    "y_pred_full_model4 = lr_under_C4.predict(X_test)\n",
    "cross_validation_metrics(lr_under_C4,X_under_train,y_under_train)\n",
    "print_accuracy_metrics(y_test,y_pred_full_model4)"
   ]
  },
  {
   "cell_type": "markdown",
   "metadata": {},
   "source": [
    "### 7] Decision Tree Classifier"
   ]
  },
  {
   "cell_type": "code",
   "execution_count": 43,
   "metadata": {},
   "outputs": [
    {
     "data": {
      "text/plain": [
       "DecisionTreeClassifier(class_weight=None, criterion='gini', max_depth=None,\n",
       "            max_features=None, max_leaf_nodes=None,\n",
       "            min_impurity_decrease=0.0, min_impurity_split=None,\n",
       "            min_samples_leaf=1, min_samples_split=2,\n",
       "            min_weight_fraction_leaf=0.0, presort=False, random_state=None,\n",
       "            splitter='best')"
      ]
     },
     "execution_count": 43,
     "metadata": {},
     "output_type": "execute_result"
    }
   ],
   "source": [
    "DecisionTreeClassifier= DecisionTreeClassifier()\n",
    "DecisionTreeClassifier.fit(X_under_train,y_under_train)"
   ]
  },
  {
   "cell_type": "code",
   "execution_count": 44,
   "metadata": {},
   "outputs": [
    {
     "name": "stdout",
     "output_type": "stream",
     "text": [
      "Logistic Regression Cross Validation Score(Recall):  87.12%\n",
      "Recall: 0.9722222222222222\n",
      "Log Loss: 3.9090580892603124\n",
      "Precision: 0.012479201331114808\n",
      "Accurcay: 0.886823795324265\n",
      "AUC:  0.9294601259062294\n",
      "F1 Score: 0.02464210279277165\n",
      "Confusion matrix:\n",
      " [[65026  8309]\n",
      " [    3   105]]\n"
     ]
    },
    {
     "data": {
      "image/png": "[encoded data removed]",
      "text/plain": [
       "<Figure size 432x288 with 2 Axes>"
      ]
     },
     "metadata": {
      "needs_background": "light"
     },
     "output_type": "display_data"
    }
   ],
   "source": [
    "# Prediction on original dataset\n",
    "y_pred_DecisionTree = DecisionTreeClassifier.predict(X_test)\n",
    "cross_validation_metrics(DecisionTreeClassifier,X_under_train,y_under_train)\n",
    "print_accuracy_metrics(y_test,y_pred_DecisionTree)"
   ]
  },
  {
   "cell_type": "code",
   "execution_count": 45,
   "metadata": {},
   "outputs": [
    {
     "data": {
      "text/plain": [
       "<matplotlib.legend.Legend at 0x2293b290>"
      ]
     },
     "execution_count": 45,
     "metadata": {},
     "output_type": "execute_result"
    },
    {
     "data": {
      "image/png": "[encoded data removed]",
      "text/plain": [
       "<Figure size 432x288 with 1 Axes>"
      ]
     },
     "metadata": {
      "needs_background": "light"
     },
     "output_type": "display_data"
    }
   ],
   "source": [
    "plt.figure(0).clf()\n",
    "\n",
    "fpr, tpr, thresh = metrics.roc_curve(y_test, y_balanced_pred)\n",
    "auc = metrics.roc_auc_score(y_test, y_balanced_pred)\n",
    "plt.plot(fpr,tpr,label=\"Logistic Regtession Class weight, auc=\"+ '{0:.3f}'.format(auc))\n",
    "\n",
    "fpr, tpr, thresh = metrics.roc_curve(y_test, y_pred_full_model1)\n",
    "auc = metrics.roc_auc_score(y_test, y_pred_full_model1)\n",
    "plt.plot(fpr,tpr,label=\"Logistic regression(C=0.01), auc=\"+ '{0:.3f}'.format(auc))\n",
    "\n",
    "fpr, tpr, thresh = metrics.roc_curve(y_test, y_pred_full_model2)\n",
    "auc = metrics.roc_auc_score(y_test, y_pred_full_model2)\n",
    "plt.plot(fpr,tpr,label=\"Logistic regression(C=0.1), auc=\"+'{0:.3f}'.format(auc))\n",
    "\n",
    "fpr, tpr, thresh = metrics.roc_curve(y_test, y_pred_full_model3)\n",
    "auc = metrics.roc_auc_score(y_test, y_pred_full_model3)\n",
    "plt.plot(fpr,tpr,label=\"Logistic regression(C=1), auc=\"+'{0:.3f}'.format(auc))\n",
    "\n",
    "fpr, tpr, thresh = metrics.roc_curve(y_test, y_pred_full_model4)\n",
    "auc = metrics.roc_auc_score(y_test, y_pred_full_model4)\n",
    "plt.plot(fpr,tpr,label=\"Logistic regression(C=10), auc=\"+'{0:.3f}'.format(auc))\n",
    "\n",
    "plt.plot(fpr, tpr)\n",
    "plt.xlim([0.0, 1.0])\n",
    "plt.ylim([0.0, 1.0])\n",
    "plt.title('ROC Curve\\n AUC={auc}'.format(auc = auc))\n",
    "plt.xlabel('False Positive Rate')\n",
    "plt.ylabel('True Positive Rate')\n",
    "plt.grid(True)\n",
    "plt.legend(loc=\"lower right\")"
   ]
  },
  {
   "cell_type": "markdown",
   "metadata": {},
   "source": [
    "Obviously, trying to increase recall, tends to come with a decrease of precision. However, in our case, if we predict that a transaction is fraudulent and turns out not to be, is not a massive problem compared to the opposite."
   ]
  },
  {
   "cell_type": "markdown",
   "metadata": {},
   "source": [
    "### Predictions on new samples"
   ]
  },
  {
   "cell_type": "code",
   "execution_count": 13,
   "metadata": {},
   "outputs": [],
   "source": [
    "data_test=pd.read_csv('creditcard_test_dataset.csv')"
   ]
  },
  {
   "cell_type": "code",
   "execution_count": 14,
   "metadata": {},
   "outputs": [
    {
     "data": {
      "text/html": [
       "<div>\n",
       "<style scoped>\n",
       "    .dataframe tbody tr th:only-of-type {\n",
       "        vertical-align: middle;\n",
       "    }\n",
       "\n",
       "    .dataframe tbody tr th {\n",
       "        vertical-align: top;\n",
       "    }\n",
       "\n",
       "    .dataframe thead th {\n",
       "        text-align: right;\n",
       "    }\n",
       "</style>\n",
       "<table border=\"1\" class=\"dataframe\">\n",
       "  <thead>\n",
       "    <tr style=\"text-align: right;\">\n",
       "      <th></th>\n",
       "      <th>id</th>\n",
       "      <th>Time</th>\n",
       "      <th>V1</th>\n",
       "      <th>V2</th>\n",
       "      <th>V3</th>\n",
       "      <th>V4</th>\n",
       "      <th>V5</th>\n",
       "      <th>V6</th>\n",
       "      <th>V7</th>\n",
       "      <th>V8</th>\n",
       "      <th>...</th>\n",
       "      <th>V20</th>\n",
       "      <th>V21</th>\n",
       "      <th>V22</th>\n",
       "      <th>V23</th>\n",
       "      <th>V24</th>\n",
       "      <th>V25</th>\n",
       "      <th>V26</th>\n",
       "      <th>V27</th>\n",
       "      <th>V28</th>\n",
       "      <th>Amount</th>\n",
       "    </tr>\n",
       "  </thead>\n",
       "  <tbody>\n",
       "    <tr>\n",
       "      <th>0</th>\n",
       "      <td>30808</td>\n",
       "      <td>109847</td>\n",
       "      <td>1.930307</td>\n",
       "      <td>-0.234417</td>\n",
       "      <td>-1.583368</td>\n",
       "      <td>0.024786</td>\n",
       "      <td>1.016470</td>\n",
       "      <td>1.179664</td>\n",
       "      <td>-0.386242</td>\n",
       "      <td>0.327416</td>\n",
       "      <td>...</td>\n",
       "      <td>-0.437585</td>\n",
       "      <td>0.211402</td>\n",
       "      <td>1.015098</td>\n",
       "      <td>0.073241</td>\n",
       "      <td>-0.804496</td>\n",
       "      <td>0.072202</td>\n",
       "      <td>-0.383211</td>\n",
       "      <td>0.016787</td>\n",
       "      <td>-0.081815</td>\n",
       "      <td>1.00</td>\n",
       "    </tr>\n",
       "    <tr>\n",
       "      <th>1</th>\n",
       "      <td>174948</td>\n",
       "      <td>84730</td>\n",
       "      <td>-5.053316</td>\n",
       "      <td>-3.617236</td>\n",
       "      <td>-0.323455</td>\n",
       "      <td>1.447171</td>\n",
       "      <td>-0.097495</td>\n",
       "      <td>-0.154917</td>\n",
       "      <td>-2.076441</td>\n",
       "      <td>1.331307</td>\n",
       "      <td>...</td>\n",
       "      <td>-1.351008</td>\n",
       "      <td>-0.202483</td>\n",
       "      <td>0.036442</td>\n",
       "      <td>-1.901898</td>\n",
       "      <td>0.090641</td>\n",
       "      <td>-1.777126</td>\n",
       "      <td>0.947972</td>\n",
       "      <td>0.954071</td>\n",
       "      <td>-1.577919</td>\n",
       "      <td>333.48</td>\n",
       "    </tr>\n",
       "    <tr>\n",
       "      <th>2</th>\n",
       "      <td>203982</td>\n",
       "      <td>95957</td>\n",
       "      <td>0.090684</td>\n",
       "      <td>1.197902</td>\n",
       "      <td>-1.370219</td>\n",
       "      <td>0.770437</td>\n",
       "      <td>0.857203</td>\n",
       "      <td>-0.698486</td>\n",
       "      <td>1.350617</td>\n",
       "      <td>-0.952780</td>\n",
       "      <td>...</td>\n",
       "      <td>0.617074</td>\n",
       "      <td>-0.255027</td>\n",
       "      <td>0.378177</td>\n",
       "      <td>-0.126596</td>\n",
       "      <td>0.572250</td>\n",
       "      <td>0.347829</td>\n",
       "      <td>0.538705</td>\n",
       "      <td>-0.211582</td>\n",
       "      <td>-0.267241</td>\n",
       "      <td>50.14</td>\n",
       "    </tr>\n",
       "    <tr>\n",
       "      <th>3</th>\n",
       "      <td>283146</td>\n",
       "      <td>142109</td>\n",
       "      <td>1.808668</td>\n",
       "      <td>-1.197522</td>\n",
       "      <td>-2.291089</td>\n",
       "      <td>-0.690236</td>\n",
       "      <td>-0.312654</td>\n",
       "      <td>-1.756994</td>\n",
       "      <td>0.631548</td>\n",
       "      <td>-0.725965</td>\n",
       "      <td>...</td>\n",
       "      <td>0.457894</td>\n",
       "      <td>0.498576</td>\n",
       "      <td>0.927097</td>\n",
       "      <td>-0.283918</td>\n",
       "      <td>0.134011</td>\n",
       "      <td>0.372327</td>\n",
       "      <td>0.050185</td>\n",
       "      <td>-0.121994</td>\n",
       "      <td>-0.038088</td>\n",
       "      <td>254.04</td>\n",
       "    </tr>\n",
       "    <tr>\n",
       "      <th>4</th>\n",
       "      <td>47316</td>\n",
       "      <td>129034</td>\n",
       "      <td>-0.920372</td>\n",
       "      <td>1.003867</td>\n",
       "      <td>-0.110709</td>\n",
       "      <td>-2.771173</td>\n",
       "      <td>0.841827</td>\n",
       "      <td>-0.497278</td>\n",
       "      <td>0.769851</td>\n",
       "      <td>0.474075</td>\n",
       "      <td>...</td>\n",
       "      <td>-0.175248</td>\n",
       "      <td>-0.238352</td>\n",
       "      <td>-0.849203</td>\n",
       "      <td>-0.124786</td>\n",
       "      <td>0.086646</td>\n",
       "      <td>-0.007944</td>\n",
       "      <td>0.360582</td>\n",
       "      <td>0.090110</td>\n",
       "      <td>0.091000</td>\n",
       "      <td>1.00</td>\n",
       "    </tr>\n",
       "  </tbody>\n",
       "</table>\n",
       "<p>5 rows × 31 columns</p>\n",
       "</div>"
      ],
      "text/plain": [
       "       id    Time        V1        V2        V3        V4        V5        V6  \\\n",
       "0   30808  109847  1.930307 -0.234417 -1.583368  0.024786  1.016470  1.179664   \n",
       "1  174948   84730 -5.053316 -3.617236 -0.323455  1.447171 -0.097495 -0.154917   \n",
       "2  203982   95957  0.090684  1.197902 -1.370219  0.770437  0.857203 -0.698486   \n",
       "3  283146  142109  1.808668 -1.197522 -2.291089 -0.690236 -0.312654 -1.756994   \n",
       "4   47316  129034 -0.920372  1.003867 -0.110709 -2.771173  0.841827 -0.497278   \n",
       "\n",
       "         V7        V8  ...       V20       V21       V22       V23       V24  \\\n",
       "0 -0.386242  0.327416  ... -0.437585  0.211402  1.015098  0.073241 -0.804496   \n",
       "1 -2.076441  1.331307  ... -1.351008 -0.202483  0.036442 -1.901898  0.090641   \n",
       "2  1.350617 -0.952780  ...  0.617074 -0.255027  0.378177 -0.126596  0.572250   \n",
       "3  0.631548 -0.725965  ...  0.457894  0.498576  0.927097 -0.283918  0.134011   \n",
       "4  0.769851  0.474075  ... -0.175248 -0.238352 -0.849203 -0.124786  0.086646   \n",
       "\n",
       "        V25       V26       V27       V28  Amount  \n",
       "0  0.072202 -0.383211  0.016787 -0.081815    1.00  \n",
       "1 -1.777126  0.947972  0.954071 -1.577919  333.48  \n",
       "2  0.347829  0.538705 -0.211582 -0.267241   50.14  \n",
       "3  0.372327  0.050185 -0.121994 -0.038088  254.04  \n",
       "4 -0.007944  0.360582  0.090110  0.091000    1.00  \n",
       "\n",
       "[5 rows x 31 columns]"
      ]
     },
     "execution_count": 14,
     "metadata": {},
     "output_type": "execute_result"
    }
   ],
   "source": [
    "data_test.head()"
   ]
  },
  {
   "cell_type": "code",
   "execution_count": 15,
   "metadata": {},
   "outputs": [
    {
     "data": {
      "text/html": [
       "<div>\n",
       "<style scoped>\n",
       "    .dataframe tbody tr th:only-of-type {\n",
       "        vertical-align: middle;\n",
       "    }\n",
       "\n",
       "    .dataframe tbody tr th {\n",
       "        vertical-align: top;\n",
       "    }\n",
       "\n",
       "    .dataframe thead th {\n",
       "        text-align: right;\n",
       "    }\n",
       "</style>\n",
       "<table border=\"1\" class=\"dataframe\">\n",
       "  <thead>\n",
       "    <tr style=\"text-align: right;\">\n",
       "      <th></th>\n",
       "      <th>id</th>\n",
       "      <th>Time</th>\n",
       "      <th>V1</th>\n",
       "      <th>V2</th>\n",
       "      <th>V3</th>\n",
       "      <th>V4</th>\n",
       "      <th>V5</th>\n",
       "      <th>V6</th>\n",
       "      <th>V7</th>\n",
       "      <th>V8</th>\n",
       "      <th>...</th>\n",
       "      <th>V20</th>\n",
       "      <th>V21</th>\n",
       "      <th>V22</th>\n",
       "      <th>V23</th>\n",
       "      <th>V24</th>\n",
       "      <th>V25</th>\n",
       "      <th>V26</th>\n",
       "      <th>V27</th>\n",
       "      <th>V28</th>\n",
       "      <th>Amount</th>\n",
       "    </tr>\n",
       "  </thead>\n",
       "  <tbody>\n",
       "    <tr>\n",
       "      <th>39995</th>\n",
       "      <td>33211</td>\n",
       "      <td>87180</td>\n",
       "      <td>-0.227015</td>\n",
       "      <td>1.066681</td>\n",
       "      <td>0.167350</td>\n",
       "      <td>0.847756</td>\n",
       "      <td>0.918577</td>\n",
       "      <td>-0.569415</td>\n",
       "      <td>1.412774</td>\n",
       "      <td>-0.317352</td>\n",
       "      <td>...</td>\n",
       "      <td>0.007818</td>\n",
       "      <td>0.115365</td>\n",
       "      <td>0.685676</td>\n",
       "      <td>-0.300523</td>\n",
       "      <td>-0.008611</td>\n",
       "      <td>-0.105765</td>\n",
       "      <td>-0.433028</td>\n",
       "      <td>0.129265</td>\n",
       "      <td>0.010438</td>\n",
       "      <td>13.99</td>\n",
       "    </tr>\n",
       "    <tr>\n",
       "      <th>39996</th>\n",
       "      <td>226678</td>\n",
       "      <td>66735</td>\n",
       "      <td>1.080631</td>\n",
       "      <td>0.072792</td>\n",
       "      <td>0.193645</td>\n",
       "      <td>1.189376</td>\n",
       "      <td>-0.379073</td>\n",
       "      <td>-0.941658</td>\n",
       "      <td>0.310233</td>\n",
       "      <td>-0.237765</td>\n",
       "      <td>...</td>\n",
       "      <td>0.009391</td>\n",
       "      <td>0.075056</td>\n",
       "      <td>0.056154</td>\n",
       "      <td>-0.170659</td>\n",
       "      <td>0.388427</td>\n",
       "      <td>0.646854</td>\n",
       "      <td>-0.336122</td>\n",
       "      <td>-0.004275</td>\n",
       "      <td>0.034426</td>\n",
       "      <td>89.16</td>\n",
       "    </tr>\n",
       "    <tr>\n",
       "      <th>39997</th>\n",
       "      <td>91144</td>\n",
       "      <td>69391</td>\n",
       "      <td>-0.366346</td>\n",
       "      <td>-0.123654</td>\n",
       "      <td>1.574127</td>\n",
       "      <td>-1.620753</td>\n",
       "      <td>-1.152640</td>\n",
       "      <td>-0.860367</td>\n",
       "      <td>-0.407476</td>\n",
       "      <td>-0.123524</td>\n",
       "      <td>...</td>\n",
       "      <td>-0.106231</td>\n",
       "      <td>-0.167896</td>\n",
       "      <td>-0.034830</td>\n",
       "      <td>-0.125103</td>\n",
       "      <td>0.357849</td>\n",
       "      <td>-0.137647</td>\n",
       "      <td>-0.134737</td>\n",
       "      <td>0.253740</td>\n",
       "      <td>0.180461</td>\n",
       "      <td>10.00</td>\n",
       "    </tr>\n",
       "    <tr>\n",
       "      <th>39998</th>\n",
       "      <td>151948</td>\n",
       "      <td>84607</td>\n",
       "      <td>1.245859</td>\n",
       "      <td>-0.208636</td>\n",
       "      <td>-0.083039</td>\n",
       "      <td>-0.792677</td>\n",
       "      <td>-0.621157</td>\n",
       "      <td>-1.219052</td>\n",
       "      <td>0.085329</td>\n",
       "      <td>-0.130222</td>\n",
       "      <td>...</td>\n",
       "      <td>-0.217895</td>\n",
       "      <td>0.033446</td>\n",
       "      <td>0.241614</td>\n",
       "      <td>-0.169362</td>\n",
       "      <td>0.550034</td>\n",
       "      <td>0.853734</td>\n",
       "      <td>-0.576327</td>\n",
       "      <td>0.022538</td>\n",
       "      <td>0.001399</td>\n",
       "      <td>7.71</td>\n",
       "    </tr>\n",
       "    <tr>\n",
       "      <th>39999</th>\n",
       "      <td>80174</td>\n",
       "      <td>70403</td>\n",
       "      <td>-0.633590</td>\n",
       "      <td>0.812096</td>\n",
       "      <td>2.561737</td>\n",
       "      <td>0.446063</td>\n",
       "      <td>-0.448034</td>\n",
       "      <td>-0.683693</td>\n",
       "      <td>0.267501</td>\n",
       "      <td>-0.008028</td>\n",
       "      <td>...</td>\n",
       "      <td>0.149068</td>\n",
       "      <td>0.007932</td>\n",
       "      <td>-0.015742</td>\n",
       "      <td>-0.131304</td>\n",
       "      <td>0.736886</td>\n",
       "      <td>-0.036651</td>\n",
       "      <td>0.325312</td>\n",
       "      <td>0.051134</td>\n",
       "      <td>0.087213</td>\n",
       "      <td>6.47</td>\n",
       "    </tr>\n",
       "  </tbody>\n",
       "</table>\n",
       "<p>5 rows × 31 columns</p>\n",
       "</div>"
      ],
      "text/plain": [
       "           id   Time        V1        V2        V3        V4        V5  \\\n",
       "39995   33211  87180 -0.227015  1.066681  0.167350  0.847756  0.918577   \n",
       "39996  226678  66735  1.080631  0.072792  0.193645  1.189376 -0.379073   \n",
       "39997   91144  69391 -0.366346 -0.123654  1.574127 -1.620753 -1.152640   \n",
       "39998  151948  84607  1.245859 -0.208636 -0.083039 -0.792677 -0.621157   \n",
       "39999   80174  70403 -0.633590  0.812096  2.561737  0.446063 -0.448034   \n",
       "\n",
       "             V6        V7        V8  ...       V20       V21       V22  \\\n",
       "39995 -0.569415  1.412774 -0.317352  ...  0.007818  0.115365  0.685676   \n",
       "39996 -0.941658  0.310233 -0.237765  ...  0.009391  0.075056  0.056154   \n",
       "39997 -0.860367 -0.407476 -0.123524  ... -0.106231 -0.167896 -0.034830   \n",
       "39998 -1.219052  0.085329 -0.130222  ... -0.217895  0.033446  0.241614   \n",
       "39999 -0.683693  0.267501 -0.008028  ...  0.149068  0.007932 -0.015742   \n",
       "\n",
       "            V23       V24       V25       V26       V27       V28  Amount  \n",
       "39995 -0.300523 -0.008611 -0.105765 -0.433028  0.129265  0.010438   13.99  \n",
       "39996 -0.170659  0.388427  0.646854 -0.336122 -0.004275  0.034426   89.16  \n",
       "39997 -0.125103  0.357849 -0.137647 -0.134737  0.253740  0.180461   10.00  \n",
       "39998 -0.169362  0.550034  0.853734 -0.576327  0.022538  0.001399    7.71  \n",
       "39999 -0.131304  0.736886 -0.036651  0.325312  0.051134  0.087213    6.47  \n",
       "\n",
       "[5 rows x 31 columns]"
      ]
     },
     "execution_count": 15,
     "metadata": {},
     "output_type": "execute_result"
    }
   ],
   "source": [
    "data_test.tail()"
   ]
  },
  {
   "cell_type": "code",
   "execution_count": 16,
   "metadata": {},
   "outputs": [],
   "source": [
    "data_test['normal_amount'] = StandardScaler().fit_transform(data_test['Amount'].values.reshape(-1,1))\n",
    "data_test1 = data_test.drop(['Amount','Time','id'], axis=1)"
   ]
  },
  {
   "cell_type": "code",
   "execution_count": 42,
   "metadata": {},
   "outputs": [],
   "source": [
    "new_pred_class = lr_under_C2.predict(data_test1)"
   ]
  },
  {
   "cell_type": "code",
   "execution_count": 43,
   "metadata": {},
   "outputs": [
    {
     "data": {
      "text/plain": [
       "array([0, 0, 0, ..., 0, 0, 0], dtype=int64)"
      ]
     },
     "execution_count": 43,
     "metadata": {},
     "output_type": "execute_result"
    }
   ],
   "source": [
    "new_pred_class"
   ]
  },
  {
   "cell_type": "code",
   "execution_count": 44,
   "metadata": {},
   "outputs": [],
   "source": [
    "new_pred_class_prob = lr_balanced.predict_proba(data_test1)[:, 1]"
   ]
  },
  {
   "cell_type": "code",
   "execution_count": 45,
   "metadata": {},
   "outputs": [
    {
     "data": {
      "text/plain": [
       "array([0.04646066, 0.00050197, 0.05586541, ..., 0.01563743, 0.03944736,\n",
       "       0.06019283])"
      ]
     },
     "execution_count": 45,
     "metadata": {},
     "output_type": "execute_result"
    }
   ],
   "source": [
    "new_pred_class_prob"
   ]
  },
  {
   "cell_type": "code",
   "execution_count": 58,
   "metadata": {},
   "outputs": [],
   "source": [
    "pd.DataFrame({'ID':data_test.id,'Class':new_pred_class}).set_index('ID').to_csv('submission_credit1.csv')"
   ]
  },
  {
   "cell_type": "code",
   "execution_count": 46,
   "metadata": {},
   "outputs": [],
   "source": [
    "pd.DataFrame({'ID':data_test.id,'Class':new_pred_class_prob}).set_index('ID').to_csv('submission_credit_prob1.csv')"
   ]
  }
 ],
 "metadata": {
  "kernelspec": {
   "display_name": "Python 3",
   "language": "python",
   "name": "python3"
  },
  "language_info": {
   "codemirror_mode": {
    "name": "ipython",
    "version": 3
   },
   "file_extension": ".py",
   "mimetype": "text/x-python",
   "name": "python",
   "nbconvert_exporter": "python",
   "pygments_lexer": "ipython3",
   "version": "3.7.3"
  }
 },
 "nbformat": 4,
 "nbformat_minor": 2
}
